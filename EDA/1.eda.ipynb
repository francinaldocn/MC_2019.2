{
 "cells": [
  {
   "cell_type": "markdown",
   "metadata": {},
   "source": [
    "## EDA - 1 \n",
    "\n",
    "\n",
    "### O que vamos aprender/revisar?\n",
    "\n",
    "* Escalas de medições;\n",
    "* Sumarização de dados;\n",
    "* Distribuição de uma variável com histogramas;\n",
    "* Relações entre 2 variáveis.\n",
    "\n",
    "### Escalas de variáveis\n",
    "\n",
    "Para entender os dados precisamos conhecer suas escalas. \n",
    "\n",
    "* Escala categórica;\n",
    "* Escala ordinal;\n",
    "* Escala intervalar;\n",
    "* Escala de razão.\n"
   ]
  },
  {
   "cell_type": "code",
   "execution_count": 1,
   "metadata": {},
   "outputs": [],
   "source": [
    "# Carregando as bibliotecas necessárias\n",
    "import numpy as np\n",
    "import pandas as pd"
   ]
  },
  {
   "cell_type": "code",
   "execution_count": 2,
   "metadata": {},
   "outputs": [],
   "source": [
    "# Carregando os dados\n",
    "alunos_tudo = pd.read_csv('dados/alunos-ad1.csv')"
   ]
  },
  {
   "cell_type": "code",
   "execution_count": 3,
   "metadata": {},
   "outputs": [
    {
     "name": "stdout",
     "output_type": "stream",
     "text": [
      "O dataframe é composto por: 44 linhas e 15 colunas\n"
     ]
    }
   ],
   "source": [
    "# Tamanho do dataframe\n",
    "print('O dataframe é composto por:', alunos_tudo.shape[0], 'linhas e', alunos_tudo.shape[1], 'colunas')"
   ]
  },
  {
   "cell_type": "code",
   "execution_count": 4,
   "metadata": {},
   "outputs": [
    {
     "data": {
      "text/html": [
       "<div>\n",
       "<style scoped>\n",
       "    .dataframe tbody tr th:only-of-type {\n",
       "        vertical-align: middle;\n",
       "    }\n",
       "\n",
       "    .dataframe tbody tr th {\n",
       "        vertical-align: top;\n",
       "    }\n",
       "\n",
       "    .dataframe thead th {\n",
       "        text-align: right;\n",
       "    }\n",
       "</style>\n",
       "<table border=\"1\" class=\"dataframe\">\n",
       "  <thead>\n",
       "    <tr style=\"text-align: right;\">\n",
       "      <th></th>\n",
       "      <th>#</th>\n",
       "      <th>Você é...</th>\n",
       "      <th>Você já cursou, está cursando ou não cursou Métodos Estatísticos?</th>\n",
       "      <th>Em quantos repositórios no github (seus ou de outras pessoas) você contribuiu nos últimos 2 anos?</th>\n",
       "      <th>Em quantas linguagens de programação você sabe programar?</th>\n",
       "      <th>Qual seu nível de confiança hoje no que você sabe sobre o que é desvio padrão?</th>\n",
       "      <th>Em quantos projetos de desenvolvimento ou pesquisa você já participou na UFCG?</th>\n",
       "      <th>Qual a sua altura em centímetros?</th>\n",
       "      <th>Qual seu peso aproximado em kg?</th>\n",
       "      <th>Quanto tempo você demora para se deslocar de casa à UFCG? (em minutos)</th>\n",
       "      <th>Você geralmente vai de casa para a UFCG:</th>\n",
       "      <th>O quanto você gosta de formulários online? (Obrigado por ter respondido este!)</th>\n",
       "      <th>Start Date (UTC)</th>\n",
       "      <th>Submit Date (UTC)</th>\n",
       "      <th>Network ID</th>\n",
       "    </tr>\n",
       "  </thead>\n",
       "  <tbody>\n",
       "    <tr>\n",
       "      <td>0</td>\n",
       "      <td>7be93a16704ab173504f0873bc774245</td>\n",
       "      <td>Homem</td>\n",
       "      <td>Já cursei</td>\n",
       "      <td>3</td>\n",
       "      <td>5</td>\n",
       "      <td>7.0</td>\n",
       "      <td>1</td>\n",
       "      <td>0</td>\n",
       "      <td>73</td>\n",
       "      <td>73.0</td>\n",
       "      <td>NaN</td>\n",
       "      <td>1</td>\n",
       "      <td>2016-06-30 22:46:14</td>\n",
       "      <td>2016-06-30 22:48:32</td>\n",
       "      <td>631e9092f1</td>\n",
       "    </tr>\n",
       "    <tr>\n",
       "      <td>1</td>\n",
       "      <td>f8d102fff84080ec99da0953c9f5cf2a</td>\n",
       "      <td>Mulher</td>\n",
       "      <td>Estou cursando</td>\n",
       "      <td>9</td>\n",
       "      <td>3</td>\n",
       "      <td>7.0</td>\n",
       "      <td>3</td>\n",
       "      <td>154</td>\n",
       "      <td>46</td>\n",
       "      <td>20.0</td>\n",
       "      <td>de carro/moto</td>\n",
       "      <td>3</td>\n",
       "      <td>2016-06-30 23:12:57</td>\n",
       "      <td>2016-06-30 23:19:29</td>\n",
       "      <td>632f28271d</td>\n",
       "    </tr>\n",
       "    <tr>\n",
       "      <td>2</td>\n",
       "      <td>437aaf7a207b3237236abb18760bd4bc</td>\n",
       "      <td>Homem</td>\n",
       "      <td>Estou cursando</td>\n",
       "      <td>2</td>\n",
       "      <td>3</td>\n",
       "      <td>3.0</td>\n",
       "      <td>3</td>\n",
       "      <td>0</td>\n",
       "      <td>92</td>\n",
       "      <td>10.0</td>\n",
       "      <td>de carro/moto</td>\n",
       "      <td>5</td>\n",
       "      <td>2016-06-30 23:20:29</td>\n",
       "      <td>2016-06-30 23:27:25</td>\n",
       "      <td>7acadd86fa</td>\n",
       "    </tr>\n",
       "    <tr>\n",
       "      <td>3</td>\n",
       "      <td>f3a3c5fd14fda233e842919af05317e7</td>\n",
       "      <td>Homem</td>\n",
       "      <td>Estou cursando</td>\n",
       "      <td>2</td>\n",
       "      <td>2</td>\n",
       "      <td>7.0</td>\n",
       "      <td>1</td>\n",
       "      <td>181</td>\n",
       "      <td>62</td>\n",
       "      <td>10.0</td>\n",
       "      <td>a pé</td>\n",
       "      <td>4</td>\n",
       "      <td>2016-06-30 23:45:08</td>\n",
       "      <td>2016-06-30 23:56:29</td>\n",
       "      <td>9e5c0e6757</td>\n",
       "    </tr>\n",
       "    <tr>\n",
       "      <td>4</td>\n",
       "      <td>12376426c18614eec592a4fe39f4ab52</td>\n",
       "      <td>Homem</td>\n",
       "      <td>Já cursei</td>\n",
       "      <td>10</td>\n",
       "      <td>5</td>\n",
       "      <td>8.0</td>\n",
       "      <td>1</td>\n",
       "      <td>186</td>\n",
       "      <td>100</td>\n",
       "      <td>19.0</td>\n",
       "      <td>de carro/moto</td>\n",
       "      <td>4</td>\n",
       "      <td>2016-06-30 23:59:04</td>\n",
       "      <td>2016-07-01 00:03:02</td>\n",
       "      <td>82e7247fde</td>\n",
       "    </tr>\n",
       "  </tbody>\n",
       "</table>\n",
       "</div>"
      ],
      "text/plain": [
       "                                  # Você é...  \\\n",
       "0  7be93a16704ab173504f0873bc774245     Homem   \n",
       "1  f8d102fff84080ec99da0953c9f5cf2a    Mulher   \n",
       "2  437aaf7a207b3237236abb18760bd4bc     Homem   \n",
       "3  f3a3c5fd14fda233e842919af05317e7     Homem   \n",
       "4  12376426c18614eec592a4fe39f4ab52     Homem   \n",
       "\n",
       "  Você já cursou, está cursando ou não cursou Métodos Estatísticos?  \\\n",
       "0                                          Já cursei                  \n",
       "1                                     Estou cursando                  \n",
       "2                                     Estou cursando                  \n",
       "3                                     Estou cursando                  \n",
       "4                                          Já cursei                  \n",
       "\n",
       "   Em quantos repositórios no github (seus ou de outras pessoas) você contribuiu nos últimos 2 anos?  \\\n",
       "0                                                  3                                                   \n",
       "1                                                  9                                                   \n",
       "2                                                  2                                                   \n",
       "3                                                  2                                                   \n",
       "4                                                 10                                                   \n",
       "\n",
       "   Em quantas linguagens de programação você sabe programar?  \\\n",
       "0                                                  5           \n",
       "1                                                  3           \n",
       "2                                                  3           \n",
       "3                                                  2           \n",
       "4                                                  5           \n",
       "\n",
       "   Qual seu nível de confiança hoje no que você sabe sobre o que é desvio padrão?  \\\n",
       "0                                                7.0                                \n",
       "1                                                7.0                                \n",
       "2                                                3.0                                \n",
       "3                                                7.0                                \n",
       "4                                                8.0                                \n",
       "\n",
       "   Em quantos projetos de desenvolvimento ou pesquisa você já participou na UFCG?  \\\n",
       "0                                                  1                                \n",
       "1                                                  3                                \n",
       "2                                                  3                                \n",
       "3                                                  1                                \n",
       "4                                                  1                                \n",
       "\n",
       "   Qual a sua altura em centímetros?  Qual seu peso aproximado em kg?  \\\n",
       "0                                  0                               73   \n",
       "1                                154                               46   \n",
       "2                                  0                               92   \n",
       "3                                181                               62   \n",
       "4                                186                              100   \n",
       "\n",
       "   Quanto tempo você demora para se deslocar de casa à UFCG? (em minutos)  \\\n",
       "0                                               73.0                        \n",
       "1                                               20.0                        \n",
       "2                                               10.0                        \n",
       "3                                               10.0                        \n",
       "4                                               19.0                        \n",
       "\n",
       "  Você geralmente vai de casa para a UFCG:  \\\n",
       "0                                      NaN   \n",
       "1                            de carro/moto   \n",
       "2                            de carro/moto   \n",
       "3                                     a pé   \n",
       "4                            de carro/moto   \n",
       "\n",
       "   O quanto você gosta de formulários online? (Obrigado por ter respondido este!)  \\\n",
       "0                                                  1                                \n",
       "1                                                  3                                \n",
       "2                                                  5                                \n",
       "3                                                  4                                \n",
       "4                                                  4                                \n",
       "\n",
       "      Start Date (UTC)    Submit Date (UTC)  Network ID  \n",
       "0  2016-06-30 22:46:14  2016-06-30 22:48:32  631e9092f1  \n",
       "1  2016-06-30 23:12:57  2016-06-30 23:19:29  632f28271d  \n",
       "2  2016-06-30 23:20:29  2016-06-30 23:27:25  7acadd86fa  \n",
       "3  2016-06-30 23:45:08  2016-06-30 23:56:29  9e5c0e6757  \n",
       "4  2016-06-30 23:59:04  2016-07-01 00:03:02  82e7247fde  "
      ]
     },
     "execution_count": 4,
     "metadata": {},
     "output_type": "execute_result"
    }
   ],
   "source": [
    "# Visualizando as primeiras linhas do arquivo\n",
    "alunos_tudo.head()"
   ]
  },
  {
   "cell_type": "code",
   "execution_count": 5,
   "metadata": {},
   "outputs": [
    {
     "name": "stdout",
     "output_type": "stream",
     "text": [
      "<class 'pandas.core.frame.DataFrame'>\n",
      "RangeIndex: 44 entries, 0 to 43\n",
      "Data columns (total 15 columns):\n",
      "#                                                                                                    object\n",
      "Você é...                                                                                            object\n",
      "Você já cursou, está cursando ou não cursou Métodos Estatísticos?                                    object\n",
      "Em quantos repositórios no github (seus ou de outras pessoas) você contribuiu nos últimos 2 anos?    int64\n",
      "Em quantas linguagens de programação você sabe programar?                                            int64\n",
      "Qual seu nível de confiança hoje no que você sabe sobre o que é desvio padrão?                       float64\n",
      "Em quantos projetos de desenvolvimento ou pesquisa você já participou na UFCG?                       int64\n",
      "Qual a sua altura em centímetros?                                                                    int64\n",
      "Qual seu peso aproximado em kg?                                                                      int64\n",
      "Quanto tempo você demora para se deslocar de casa à UFCG? (em minutos)                               float64\n",
      "Você geralmente vai de casa para a UFCG:                                                             object\n",
      "O quanto você gosta de formulários online? (Obrigado por ter respondido este!)                       int64\n",
      "Start Date (UTC)                                                                                     object\n",
      "Submit Date (UTC)                                                                                    object\n",
      "Network ID                                                                                           object\n",
      "dtypes: float64(2), int64(6), object(7)\n",
      "memory usage: 5.3+ KB\n"
     ]
    }
   ],
   "source": [
    "# Visualizando informações do dataframe\n",
    "alunos_tudo.info(verbose = True, null_counts = False)"
   ]
  },
  {
   "cell_type": "code",
   "execution_count": 6,
   "metadata": {},
   "outputs": [
    {
     "data": {
      "text/plain": [
       "#                                                                                                    0\n",
       "Você é...                                                                                            1\n",
       "Você já cursou, está cursando ou não cursou Métodos Estatísticos?                                    0\n",
       "Em quantos repositórios no github (seus ou de outras pessoas) você contribuiu nos últimos 2 anos?    0\n",
       "Em quantas linguagens de programação você sabe programar?                                            0\n",
       "Qual seu nível de confiança hoje no que você sabe sobre o que é desvio padrão?                       2\n",
       "Em quantos projetos de desenvolvimento ou pesquisa você já participou na UFCG?                       0\n",
       "Qual a sua altura em centímetros?                                                                    0\n",
       "Qual seu peso aproximado em kg?                                                                      0\n",
       "Quanto tempo você demora para se deslocar de casa à UFCG? (em minutos)                               1\n",
       "Você geralmente vai de casa para a UFCG:                                                             1\n",
       "O quanto você gosta de formulários online? (Obrigado por ter respondido este!)                       0\n",
       "Start Date (UTC)                                                                                     0\n",
       "Submit Date (UTC)                                                                                    0\n",
       "Network ID                                                                                           0\n",
       "dtype: int64"
      ]
     },
     "execution_count": 6,
     "metadata": {},
     "output_type": "execute_result"
    }
   ],
   "source": [
    "# Verificando dados nulos ou faltantes nas colunas\n",
    "alunos_tudo.isnull().sum()"
   ]
  },
  {
   "cell_type": "code",
   "execution_count": 7,
   "metadata": {},
   "outputs": [],
   "source": [
    "# Você pode especificar os tipos das colunas, por exemplo\n",
    "# OBS: As colunas deverão está em um dicionário com seus respectivos tipos {'coluna' : 'tipo'}\n",
    "alunos_tudo = pd.read_csv('dados/alunos-ad1.csv',\n",
    "                          dtype = {\n",
    "                              '#' : 'str', \n",
    "                              'Você é...' : 'str',\n",
    "                              'Qual a sua altura em centímetros?' : 'int64'\n",
    "                          })"
   ]
  },
  {
   "cell_type": "markdown",
   "metadata": {},
   "source": [
    "Os nomes de variável vem do dataset e não estão ajudando. Vamos renomeá-las."
   ]
  },
  {
   "cell_type": "code",
   "execution_count": 8,
   "metadata": {},
   "outputs": [
    {
     "data": {
      "text/html": [
       "<div>\n",
       "<style scoped>\n",
       "    .dataframe tbody tr th:only-of-type {\n",
       "        vertical-align: middle;\n",
       "    }\n",
       "\n",
       "    .dataframe tbody tr th {\n",
       "        vertical-align: top;\n",
       "    }\n",
       "\n",
       "    .dataframe thead th {\n",
       "        text-align: right;\n",
       "    }\n",
       "</style>\n",
       "<table border=\"1\" class=\"dataframe\">\n",
       "  <thead>\n",
       "    <tr style=\"text-align: right;\">\n",
       "      <th></th>\n",
       "      <th>sexo</th>\n",
       "      <th>repositorios</th>\n",
       "      <th>linguagens</th>\n",
       "      <th>altura</th>\n",
       "      <th>tempo_para_ufcg</th>\n",
       "      <th>transporte</th>\n",
       "      <th>gosta_de_forms</th>\n",
       "    </tr>\n",
       "  </thead>\n",
       "  <tbody>\n",
       "    <tr>\n",
       "      <td>0</td>\n",
       "      <td>Homem</td>\n",
       "      <td>3</td>\n",
       "      <td>5</td>\n",
       "      <td>0</td>\n",
       "      <td>73.0</td>\n",
       "      <td>NaN</td>\n",
       "      <td>1</td>\n",
       "    </tr>\n",
       "    <tr>\n",
       "      <td>1</td>\n",
       "      <td>Mulher</td>\n",
       "      <td>9</td>\n",
       "      <td>3</td>\n",
       "      <td>154</td>\n",
       "      <td>20.0</td>\n",
       "      <td>de carro/moto</td>\n",
       "      <td>3</td>\n",
       "    </tr>\n",
       "    <tr>\n",
       "      <td>2</td>\n",
       "      <td>Homem</td>\n",
       "      <td>2</td>\n",
       "      <td>3</td>\n",
       "      <td>0</td>\n",
       "      <td>10.0</td>\n",
       "      <td>de carro/moto</td>\n",
       "      <td>5</td>\n",
       "    </tr>\n",
       "    <tr>\n",
       "      <td>3</td>\n",
       "      <td>Homem</td>\n",
       "      <td>2</td>\n",
       "      <td>2</td>\n",
       "      <td>181</td>\n",
       "      <td>10.0</td>\n",
       "      <td>a pé</td>\n",
       "      <td>4</td>\n",
       "    </tr>\n",
       "    <tr>\n",
       "      <td>4</td>\n",
       "      <td>Homem</td>\n",
       "      <td>10</td>\n",
       "      <td>5</td>\n",
       "      <td>186</td>\n",
       "      <td>19.0</td>\n",
       "      <td>de carro/moto</td>\n",
       "      <td>4</td>\n",
       "    </tr>\n",
       "  </tbody>\n",
       "</table>\n",
       "</div>"
      ],
      "text/plain": [
       "     sexo  repositorios  linguagens  altura  tempo_para_ufcg     transporte  \\\n",
       "0   Homem             3           5       0             73.0            NaN   \n",
       "1  Mulher             9           3     154             20.0  de carro/moto   \n",
       "2   Homem             2           3       0             10.0  de carro/moto   \n",
       "3   Homem             2           2     181             10.0           a pé   \n",
       "4   Homem            10           5     186             19.0  de carro/moto   \n",
       "\n",
       "   gosta_de_forms  \n",
       "0               1  \n",
       "1               3  \n",
       "2               5  \n",
       "3               4  \n",
       "4               4  "
      ]
     },
     "execution_count": 8,
     "metadata": {},
     "output_type": "execute_result"
    }
   ],
   "source": [
    "# Criando um novo dataframe a partir das colunas selecionadas\n",
    "alunos = alunos_tudo[['Você é...', \n",
    "                      'Em quantos repositórios no github (seus ou de outras pessoas) você contribuiu nos últimos 2 anos?',\n",
    "                      'Em quantas linguagens de programação você sabe programar?',\n",
    "                      'Qual a sua altura em centímetros?',\n",
    "                      'Quanto tempo você demora para se deslocar de casa à UFCG? (em minutos)',\n",
    "                      'Você geralmente vai de casa para a UFCG:',\n",
    "                      'O quanto você gosta de formulários online? (Obrigado por ter respondido este!)']]\n",
    "# Renomeando as colunas\n",
    "alunos.columns = ['sexo', 'repositorios', 'linguagens', 'altura', 'tempo_para_ufcg', 'transporte',\n",
    "                 'gosta_de_forms']\n",
    "# Visualizando as primeiras linhas do dataframe resultante\n",
    "alunos.head()"
   ]
  },
  {
   "cell_type": "markdown",
   "metadata": {},
   "source": [
    "### Observações\n",
    "\n",
    "O que significa uma observação neste dataset? Isso precisa *sempre* ser entendido.\n",
    "\n",
    "### Variáveis categóricas\n",
    "\n",
    "O que são? Existem variáveis categóricas no nosso dataset?"
   ]
  },
  {
   "cell_type": "code",
   "execution_count": 9,
   "metadata": {},
   "outputs": [
    {
     "name": "stdout",
     "output_type": "stream",
     "text": [
      "Homem\n",
      "Percentual de homens:  0.8604651162790697\n"
     ]
    }
   ],
   "source": [
    "num_homens = alunos[alunos['sexo'] == 'Homem'].shape[0]\n",
    "num_mulheres = alunos[alunos['sexo'] == 'Mulher'].shape[0]\n",
    "\n",
    "if(num_homens > num_mulheres):\n",
    "   print('Homem')\n",
    "else:\n",
    "   print('Mulher')\n",
    "\n",
    "print('Percentual de homens: ', num_homens/(num_homens+num_mulheres))"
   ]
  },
  {
   "cell_type": "code",
   "execution_count": 10,
   "metadata": {},
   "outputs": [
    {
     "name": "stdout",
     "output_type": "stream",
     "text": [
      "Mulher\n",
      "Percentual de homens:  0.8604651162790697\n"
     ]
    }
   ],
   "source": [
    "# Outra maneira de fazer a mesma coisa\n",
    "sexo = alunos['sexo'].value_counts()\n",
    "\n",
    "if(sexo.index[0] > sexo.index[1]):\n",
    "   print('Homem')\n",
    "else:\n",
    "   print('Mulher')\n",
    "\n",
    "print('Percentual de homens: ', sexo.values[0]/sexo.values.sum())"
   ]
  },
  {
   "cell_type": "code",
   "execution_count": 11,
   "metadata": {},
   "outputs": [
    {
     "name": "stdout",
     "output_type": "stream",
     "text": [
      "0    Homem\n",
      "dtype: object\n"
     ]
    }
   ],
   "source": [
    "# Ver a moda\n",
    "print(alunos['sexo'].mode())"
   ]
  },
  {
   "cell_type": "markdown",
   "metadata": {},
   "source": [
    "Os homens são top-86%. O que significa isso? Vejamos um exemplo com mais categorias: transporte"
   ]
  },
  {
   "cell_type": "code",
   "execution_count": 12,
   "metadata": {},
   "outputs": [
    {
     "data": {
      "text/plain": [
       "de carro/moto    20\n",
       "de ônibus        16\n",
       "a pé              7\n",
       "Name: transporte, dtype: int64"
      ]
     },
     "execution_count": 12,
     "metadata": {},
     "output_type": "execute_result"
    }
   ],
   "source": [
    "transporte = alunos['transporte'].value_counts()\n",
    "transporte"
   ]
  },
  {
   "cell_type": "markdown",
   "metadata": {},
   "source": [
    "Quem é a moda? E em termos de dispersão, o que podemos dizer?"
   ]
  },
  {
   "cell_type": "code",
   "execution_count": 13,
   "metadata": {},
   "outputs": [
    {
     "data": {
      "text/plain": [
       "0.46511627906976744"
      ]
     },
     "execution_count": 13,
     "metadata": {},
     "output_type": "execute_result"
    }
   ],
   "source": [
    "transporte.values.max()/transporte.values.sum()"
   ]
  },
  {
   "cell_type": "markdown",
   "metadata": {},
   "source": [
    "## Visualizações"
   ]
  },
  {
   "cell_type": "code",
   "execution_count": 14,
   "metadata": {},
   "outputs": [],
   "source": [
    "import matplotlib.pyplot as plt\n",
    "%matplotlib inline\n",
    "plt.rcParams.update({'figure.figsize':(6,4), 'figure.dpi':100})"
   ]
  },
  {
   "cell_type": "markdown",
   "metadata": {},
   "source": [
    "### Gráficos de barra\n",
    "\n",
    "Plotagem de gráficos com a biblioteca pandas"
   ]
  },
  {
   "cell_type": "code",
   "execution_count": 15,
   "metadata": {},
   "outputs": [
    {
     "data": {
      "text/plain": [
       "<matplotlib.axes._subplots.AxesSubplot at 0x7f4e8adcf250>"
      ]
     },
     "execution_count": 15,
     "metadata": {},
     "output_type": "execute_result"
    },
    {
     "data": {
      "image/png": "[encoded data removed]",
      "text/plain": [
       "<Figure size 432x288 with 1 Axes>"
      ]
     },
     "metadata": {
      "needs_background": "light"
     },
     "output_type": "display_data"
    }
   ],
   "source": [
    "alunos.sexo.value_counts().plot(kind='bar')"
   ]
  },
  {
   "cell_type": "code",
   "execution_count": 16,
   "metadata": {},
   "outputs": [
    {
     "data": {
      "text/plain": [
       "<matplotlib.axes._subplots.AxesSubplot at 0x7f4e87bd05d0>"
      ]
     },
     "execution_count": 16,
     "metadata": {},
     "output_type": "execute_result"
    },
    {
     "data": {
      "image/png": "[encoded data removed]",
      "text/plain": [
       "<Figure size 432x288 with 1 Axes>"
      ]
     },
     "metadata": {
      "needs_background": "light"
     },
     "output_type": "display_data"
    }
   ],
   "source": [
    "alunos.transporte.value_counts().plot.bar()"
   ]
  },
  {
   "cell_type": "markdown",
   "metadata": {},
   "source": [
    "## Escala ordinal\n",
    "\n",
    "O que é? Exemplo?"
   ]
  },
  {
   "cell_type": "code",
   "execution_count": 17,
   "metadata": {
    "scrolled": false
   },
   "outputs": [
    {
     "data": {
      "text/html": [
       "<div>\n",
       "<style scoped>\n",
       "    .dataframe tbody tr th:only-of-type {\n",
       "        vertical-align: middle;\n",
       "    }\n",
       "\n",
       "    .dataframe tbody tr th {\n",
       "        vertical-align: top;\n",
       "    }\n",
       "\n",
       "    .dataframe thead th {\n",
       "        text-align: right;\n",
       "    }\n",
       "</style>\n",
       "<table border=\"1\" class=\"dataframe\">\n",
       "  <thead>\n",
       "    <tr style=\"text-align: right;\">\n",
       "      <th></th>\n",
       "      <th>#</th>\n",
       "      <th>Você é...</th>\n",
       "      <th>Você já cursou, está cursando ou não cursou Métodos Estatísticos?</th>\n",
       "      <th>Em quantos repositórios no github (seus ou de outras pessoas) você contribuiu nos últimos 2 anos?</th>\n",
       "      <th>Em quantas linguagens de programação você sabe programar?</th>\n",
       "      <th>Qual seu nível de confiança hoje no que você sabe sobre o que é desvio padrão?</th>\n",
       "      <th>Em quantos projetos de desenvolvimento ou pesquisa você já participou na UFCG?</th>\n",
       "      <th>Qual a sua altura em centímetros?</th>\n",
       "      <th>Qual seu peso aproximado em kg?</th>\n",
       "      <th>Quanto tempo você demora para se deslocar de casa à UFCG? (em minutos)</th>\n",
       "      <th>Você geralmente vai de casa para a UFCG:</th>\n",
       "      <th>O quanto você gosta de formulários online? (Obrigado por ter respondido este!)</th>\n",
       "      <th>Start Date (UTC)</th>\n",
       "      <th>Submit Date (UTC)</th>\n",
       "      <th>Network ID</th>\n",
       "    </tr>\n",
       "  </thead>\n",
       "  <tbody>\n",
       "    <tr>\n",
       "      <td>0</td>\n",
       "      <td>7be93a16704ab173504f0873bc774245</td>\n",
       "      <td>Homem</td>\n",
       "      <td>Já cursei</td>\n",
       "      <td>3</td>\n",
       "      <td>5</td>\n",
       "      <td>7.0</td>\n",
       "      <td>1</td>\n",
       "      <td>0</td>\n",
       "      <td>73</td>\n",
       "      <td>73.0</td>\n",
       "      <td>NaN</td>\n",
       "      <td>1</td>\n",
       "      <td>2016-06-30 22:46:14</td>\n",
       "      <td>2016-06-30 22:48:32</td>\n",
       "      <td>631e9092f1</td>\n",
       "    </tr>\n",
       "    <tr>\n",
       "      <td>1</td>\n",
       "      <td>f8d102fff84080ec99da0953c9f5cf2a</td>\n",
       "      <td>Mulher</td>\n",
       "      <td>Estou cursando</td>\n",
       "      <td>9</td>\n",
       "      <td>3</td>\n",
       "      <td>7.0</td>\n",
       "      <td>3</td>\n",
       "      <td>154</td>\n",
       "      <td>46</td>\n",
       "      <td>20.0</td>\n",
       "      <td>de carro/moto</td>\n",
       "      <td>3</td>\n",
       "      <td>2016-06-30 23:12:57</td>\n",
       "      <td>2016-06-30 23:19:29</td>\n",
       "      <td>632f28271d</td>\n",
       "    </tr>\n",
       "    <tr>\n",
       "      <td>2</td>\n",
       "      <td>437aaf7a207b3237236abb18760bd4bc</td>\n",
       "      <td>Homem</td>\n",
       "      <td>Estou cursando</td>\n",
       "      <td>2</td>\n",
       "      <td>3</td>\n",
       "      <td>3.0</td>\n",
       "      <td>3</td>\n",
       "      <td>0</td>\n",
       "      <td>92</td>\n",
       "      <td>10.0</td>\n",
       "      <td>de carro/moto</td>\n",
       "      <td>5</td>\n",
       "      <td>2016-06-30 23:20:29</td>\n",
       "      <td>2016-06-30 23:27:25</td>\n",
       "      <td>7acadd86fa</td>\n",
       "    </tr>\n",
       "    <tr>\n",
       "      <td>3</td>\n",
       "      <td>f3a3c5fd14fda233e842919af05317e7</td>\n",
       "      <td>Homem</td>\n",
       "      <td>Estou cursando</td>\n",
       "      <td>2</td>\n",
       "      <td>2</td>\n",
       "      <td>7.0</td>\n",
       "      <td>1</td>\n",
       "      <td>181</td>\n",
       "      <td>62</td>\n",
       "      <td>10.0</td>\n",
       "      <td>a pé</td>\n",
       "      <td>4</td>\n",
       "      <td>2016-06-30 23:45:08</td>\n",
       "      <td>2016-06-30 23:56:29</td>\n",
       "      <td>9e5c0e6757</td>\n",
       "    </tr>\n",
       "    <tr>\n",
       "      <td>4</td>\n",
       "      <td>12376426c18614eec592a4fe39f4ab52</td>\n",
       "      <td>Homem</td>\n",
       "      <td>Já cursei</td>\n",
       "      <td>10</td>\n",
       "      <td>5</td>\n",
       "      <td>8.0</td>\n",
       "      <td>1</td>\n",
       "      <td>186</td>\n",
       "      <td>100</td>\n",
       "      <td>19.0</td>\n",
       "      <td>de carro/moto</td>\n",
       "      <td>4</td>\n",
       "      <td>2016-06-30 23:59:04</td>\n",
       "      <td>2016-07-01 00:03:02</td>\n",
       "      <td>82e7247fde</td>\n",
       "    </tr>\n",
       "  </tbody>\n",
       "</table>\n",
       "</div>"
      ],
      "text/plain": [
       "                                  # Você é...  \\\n",
       "0  7be93a16704ab173504f0873bc774245     Homem   \n",
       "1  f8d102fff84080ec99da0953c9f5cf2a    Mulher   \n",
       "2  437aaf7a207b3237236abb18760bd4bc     Homem   \n",
       "3  f3a3c5fd14fda233e842919af05317e7     Homem   \n",
       "4  12376426c18614eec592a4fe39f4ab52     Homem   \n",
       "\n",
       "  Você já cursou, está cursando ou não cursou Métodos Estatísticos?  \\\n",
       "0                                          Já cursei                  \n",
       "1                                     Estou cursando                  \n",
       "2                                     Estou cursando                  \n",
       "3                                     Estou cursando                  \n",
       "4                                          Já cursei                  \n",
       "\n",
       "   Em quantos repositórios no github (seus ou de outras pessoas) você contribuiu nos últimos 2 anos?  \\\n",
       "0                                                  3                                                   \n",
       "1                                                  9                                                   \n",
       "2                                                  2                                                   \n",
       "3                                                  2                                                   \n",
       "4                                                 10                                                   \n",
       "\n",
       "   Em quantas linguagens de programação você sabe programar?  \\\n",
       "0                                                  5           \n",
       "1                                                  3           \n",
       "2                                                  3           \n",
       "3                                                  2           \n",
       "4                                                  5           \n",
       "\n",
       "   Qual seu nível de confiança hoje no que você sabe sobre o que é desvio padrão?  \\\n",
       "0                                                7.0                                \n",
       "1                                                7.0                                \n",
       "2                                                3.0                                \n",
       "3                                                7.0                                \n",
       "4                                                8.0                                \n",
       "\n",
       "   Em quantos projetos de desenvolvimento ou pesquisa você já participou na UFCG?  \\\n",
       "0                                                  1                                \n",
       "1                                                  3                                \n",
       "2                                                  3                                \n",
       "3                                                  1                                \n",
       "4                                                  1                                \n",
       "\n",
       "   Qual a sua altura em centímetros?  Qual seu peso aproximado em kg?  \\\n",
       "0                                  0                               73   \n",
       "1                                154                               46   \n",
       "2                                  0                               92   \n",
       "3                                181                               62   \n",
       "4                                186                              100   \n",
       "\n",
       "   Quanto tempo você demora para se deslocar de casa à UFCG? (em minutos)  \\\n",
       "0                                               73.0                        \n",
       "1                                               20.0                        \n",
       "2                                               10.0                        \n",
       "3                                               10.0                        \n",
       "4                                               19.0                        \n",
       "\n",
       "  Você geralmente vai de casa para a UFCG:  \\\n",
       "0                                      NaN   \n",
       "1                            de carro/moto   \n",
       "2                            de carro/moto   \n",
       "3                                     a pé   \n",
       "4                            de carro/moto   \n",
       "\n",
       "   O quanto você gosta de formulários online? (Obrigado por ter respondido este!)  \\\n",
       "0                                                  1                                \n",
       "1                                                  3                                \n",
       "2                                                  5                                \n",
       "3                                                  4                                \n",
       "4                                                  4                                \n",
       "\n",
       "      Start Date (UTC)    Submit Date (UTC)  Network ID  \n",
       "0  2016-06-30 22:46:14  2016-06-30 22:48:32  631e9092f1  \n",
       "1  2016-06-30 23:12:57  2016-06-30 23:19:29  632f28271d  \n",
       "2  2016-06-30 23:20:29  2016-06-30 23:27:25  7acadd86fa  \n",
       "3  2016-06-30 23:45:08  2016-06-30 23:56:29  9e5c0e6757  \n",
       "4  2016-06-30 23:59:04  2016-07-01 00:03:02  82e7247fde  "
      ]
     },
     "execution_count": 17,
     "metadata": {},
     "output_type": "execute_result"
    }
   ],
   "source": [
    "alunos_tudo.head()"
   ]
  },
  {
   "cell_type": "markdown",
   "metadata": {},
   "source": [
    "#### Podemos ordenar e obter percentis, moda, top frequent."
   ]
  },
  {
   "cell_type": "markdown",
   "metadata": {},
   "source": [
    "Quem é a moda? \n",
    "\n",
    "Quem é top-frequent?"
   ]
  },
  {
   "cell_type": "code",
   "execution_count": 18,
   "metadata": {},
   "outputs": [
    {
     "data": {
      "text/plain": [
       "gosta_de_forms\n",
       "1     3\n",
       "2     4\n",
       "3     6\n",
       "4    15\n",
       "5    16\n",
       "dtype: int64"
      ]
     },
     "execution_count": 18,
     "metadata": {},
     "output_type": "execute_result"
    }
   ],
   "source": [
    "# Frequência\n",
    "alunos.groupby('gosta_de_forms').size()"
   ]
  },
  {
   "cell_type": "code",
   "execution_count": 19,
   "metadata": {},
   "outputs": [
    {
     "name": "stdout",
     "output_type": "stream",
     "text": [
      "Moda: 0    5\n",
      "dtype: int64\n"
     ]
    }
   ],
   "source": [
    "# Moda\n",
    "print('Moda:', alunos.gosta_de_forms.mode())"
   ]
  },
  {
   "cell_type": "code",
   "execution_count": 20,
   "metadata": {},
   "outputs": [
    {
     "name": "stdout",
     "output_type": "stream",
     "text": [
      "Mediana: 4.0\n"
     ]
    }
   ],
   "source": [
    "# Mediana\n",
    "print('Mediana:', alunos.gosta_de_forms.median())"
   ]
  },
  {
   "cell_type": "code",
   "execution_count": 21,
   "metadata": {},
   "outputs": [
    {
     "name": "stdout",
     "output_type": "stream",
     "text": [
      "Quartil1: 3.0\n",
      "Quartil3: 5.0\n"
     ]
    }
   ],
   "source": [
    "# Quartil\n",
    "print('Quartil1:', alunos.gosta_de_forms.quantile(q=0.25))\n",
    "print('Quartil3:', alunos.gosta_de_forms.quantile(q=0.75))"
   ]
  },
  {
   "cell_type": "code",
   "execution_count": 22,
   "metadata": {},
   "outputs": [
    {
     "data": {
      "text/plain": [
       "count    44.000000\n",
       "mean      3.840909\n",
       "std       1.218905\n",
       "min       1.000000\n",
       "25%       3.000000\n",
       "50%       4.000000\n",
       "75%       5.000000\n",
       "max       5.000000\n",
       "Name: gosta_de_forms, dtype: float64"
      ]
     },
     "execution_count": 22,
     "metadata": {},
     "output_type": "execute_result"
    }
   ],
   "source": [
    "# Visualizando as estatísticas básicas de uma coluna específica\n",
    "alunos.gosta_de_forms.describe()"
   ]
  },
  {
   "cell_type": "code",
   "execution_count": 23,
   "metadata": {
    "scrolled": false
   },
   "outputs": [
    {
     "data": {
      "text/html": [
       "<div>\n",
       "<style scoped>\n",
       "    .dataframe tbody tr th:only-of-type {\n",
       "        vertical-align: middle;\n",
       "    }\n",
       "\n",
       "    .dataframe tbody tr th {\n",
       "        vertical-align: top;\n",
       "    }\n",
       "\n",
       "    .dataframe thead th {\n",
       "        text-align: right;\n",
       "    }\n",
       "</style>\n",
       "<table border=\"1\" class=\"dataframe\">\n",
       "  <thead>\n",
       "    <tr style=\"text-align: right;\">\n",
       "      <th></th>\n",
       "      <th>count</th>\n",
       "      <th>mean</th>\n",
       "      <th>std</th>\n",
       "      <th>min</th>\n",
       "      <th>25%</th>\n",
       "      <th>50%</th>\n",
       "      <th>75%</th>\n",
       "      <th>max</th>\n",
       "    </tr>\n",
       "  </thead>\n",
       "  <tbody>\n",
       "    <tr>\n",
       "      <td>Em quantos repositórios no github (seus ou de outras pessoas) você contribuiu nos últimos 2 anos?</td>\n",
       "      <td>44</td>\n",
       "      <td>7.18</td>\n",
       "      <td>5.74</td>\n",
       "      <td>0.00</td>\n",
       "      <td>3.00</td>\n",
       "      <td>5.00</td>\n",
       "      <td>10.00</td>\n",
       "      <td>23.00</td>\n",
       "    </tr>\n",
       "    <tr>\n",
       "      <td>Em quantas linguagens de programação você sabe programar?</td>\n",
       "      <td>44</td>\n",
       "      <td>3.95</td>\n",
       "      <td>1.46</td>\n",
       "      <td>2.00</td>\n",
       "      <td>3.00</td>\n",
       "      <td>4.00</td>\n",
       "      <td>5.00</td>\n",
       "      <td>8.00</td>\n",
       "    </tr>\n",
       "    <tr>\n",
       "      <td>Qual seu nível de confiança hoje no que você sabe sobre o que é desvio padrão?</td>\n",
       "      <td>42</td>\n",
       "      <td>6.50</td>\n",
       "      <td>2.34</td>\n",
       "      <td>0.00</td>\n",
       "      <td>5.25</td>\n",
       "      <td>7.00</td>\n",
       "      <td>8.00</td>\n",
       "      <td>10.00</td>\n",
       "    </tr>\n",
       "    <tr>\n",
       "      <td>Em quantos projetos de desenvolvimento ou pesquisa você já participou na UFCG?</td>\n",
       "      <td>44</td>\n",
       "      <td>1.59</td>\n",
       "      <td>1.02</td>\n",
       "      <td>0.00</td>\n",
       "      <td>1.00</td>\n",
       "      <td>1.00</td>\n",
       "      <td>2.25</td>\n",
       "      <td>3.00</td>\n",
       "    </tr>\n",
       "    <tr>\n",
       "      <td>Qual a sua altura em centímetros?</td>\n",
       "      <td>44</td>\n",
       "      <td>166.86</td>\n",
       "      <td>37.83</td>\n",
       "      <td>0.00</td>\n",
       "      <td>167.75</td>\n",
       "      <td>175.00</td>\n",
       "      <td>182.00</td>\n",
       "      <td>190.00</td>\n",
       "    </tr>\n",
       "    <tr>\n",
       "      <td>Qual seu peso aproximado em kg?</td>\n",
       "      <td>44</td>\n",
       "      <td>71.27</td>\n",
       "      <td>14.09</td>\n",
       "      <td>46.00</td>\n",
       "      <td>60.75</td>\n",
       "      <td>69.50</td>\n",
       "      <td>77.25</td>\n",
       "      <td>100.00</td>\n",
       "    </tr>\n",
       "    <tr>\n",
       "      <td>Quanto tempo você demora para se deslocar de casa à UFCG? (em minutos)</td>\n",
       "      <td>43</td>\n",
       "      <td>27.00</td>\n",
       "      <td>22.01</td>\n",
       "      <td>2.00</td>\n",
       "      <td>10.00</td>\n",
       "      <td>20.00</td>\n",
       "      <td>30.00</td>\n",
       "      <td>90.00</td>\n",
       "    </tr>\n",
       "    <tr>\n",
       "      <td>O quanto você gosta de formulários online? (Obrigado por ter respondido este!)</td>\n",
       "      <td>44</td>\n",
       "      <td>3.84</td>\n",
       "      <td>1.22</td>\n",
       "      <td>1.00</td>\n",
       "      <td>3.00</td>\n",
       "      <td>4.00</td>\n",
       "      <td>5.00</td>\n",
       "      <td>5.00</td>\n",
       "    </tr>\n",
       "  </tbody>\n",
       "</table>\n",
       "</div>"
      ],
      "text/plain": [
       "                                                   count    mean    std  \\\n",
       "Em quantos repositórios no github (seus ou de o...    44    7.18   5.74   \n",
       "Em quantas linguagens de programação você sabe ...    44    3.95   1.46   \n",
       "Qual seu nível de confiança hoje no que você sa...    42    6.50   2.34   \n",
       "Em quantos projetos de desenvolvimento ou pesqu...    44    1.59   1.02   \n",
       "Qual a sua altura em centímetros?                     44  166.86  37.83   \n",
       "Qual seu peso aproximado em kg?                       44   71.27  14.09   \n",
       "Quanto tempo você demora para se deslocar de ca...    43   27.00  22.01   \n",
       "O quanto você gosta de formulários online? (Obr...    44    3.84   1.22   \n",
       "\n",
       "                                                      min     25%     50%  \\\n",
       "Em quantos repositórios no github (seus ou de o...   0.00    3.00    5.00   \n",
       "Em quantas linguagens de programação você sabe ...   2.00    3.00    4.00   \n",
       "Qual seu nível de confiança hoje no que você sa...   0.00    5.25    7.00   \n",
       "Em quantos projetos de desenvolvimento ou pesqu...   0.00    1.00    1.00   \n",
       "Qual a sua altura em centímetros?                    0.00  167.75  175.00   \n",
       "Qual seu peso aproximado em kg?                     46.00   60.75   69.50   \n",
       "Quanto tempo você demora para se deslocar de ca...   2.00   10.00   20.00   \n",
       "O quanto você gosta de formulários online? (Obr...   1.00    3.00    4.00   \n",
       "\n",
       "                                                       75%     max  \n",
       "Em quantos repositórios no github (seus ou de o...   10.00   23.00  \n",
       "Em quantas linguagens de programação você sabe ...    5.00    8.00  \n",
       "Qual seu nível de confiança hoje no que você sa...    8.00   10.00  \n",
       "Em quantos projetos de desenvolvimento ou pesqu...    2.25    3.00  \n",
       "Qual a sua altura em centímetros?                   182.00  190.00  \n",
       "Qual seu peso aproximado em kg?                      77.25  100.00  \n",
       "Quanto tempo você demora para se deslocar de ca...   30.00   90.00  \n",
       "O quanto você gosta de formulários online? (Obr...    5.00    5.00  "
      ]
     },
     "execution_count": 23,
     "metadata": {},
     "output_type": "execute_result"
    }
   ],
   "source": [
    "# Visualizando as estatísticas básicas das variáveis numéricas do dataframe\n",
    "desc_num = alunos_tudo.describe(include=[np.number])\n",
    "desc_num.loc['count'] = desc_num.loc['count'].astype(int).astype(str)\n",
    "desc_num.iloc[1:] = desc_num.iloc[1:].applymap('{:.2f}'.format)\n",
    "desc_num.T"
   ]
  },
  {
   "cell_type": "code",
   "execution_count": 24,
   "metadata": {},
   "outputs": [
    {
     "data": {
      "text/html": [
       "<div>\n",
       "<style scoped>\n",
       "    .dataframe tbody tr th:only-of-type {\n",
       "        vertical-align: middle;\n",
       "    }\n",
       "\n",
       "    .dataframe tbody tr th {\n",
       "        vertical-align: top;\n",
       "    }\n",
       "\n",
       "    .dataframe thead th {\n",
       "        text-align: right;\n",
       "    }\n",
       "</style>\n",
       "<table border=\"1\" class=\"dataframe\">\n",
       "  <thead>\n",
       "    <tr style=\"text-align: right;\">\n",
       "      <th></th>\n",
       "      <th>count</th>\n",
       "      <th>unique</th>\n",
       "      <th>top</th>\n",
       "      <th>freq</th>\n",
       "    </tr>\n",
       "  </thead>\n",
       "  <tbody>\n",
       "    <tr>\n",
       "      <td>#</td>\n",
       "      <td>44</td>\n",
       "      <td>44</td>\n",
       "      <td>f3a3c5fd14fda233e842919af05317e7</td>\n",
       "      <td>1</td>\n",
       "    </tr>\n",
       "    <tr>\n",
       "      <td>Você é...</td>\n",
       "      <td>43</td>\n",
       "      <td>2</td>\n",
       "      <td>Homem</td>\n",
       "      <td>37</td>\n",
       "    </tr>\n",
       "    <tr>\n",
       "      <td>Você já cursou, está cursando ou não cursou Métodos Estatísticos?</td>\n",
       "      <td>44</td>\n",
       "      <td>3</td>\n",
       "      <td>Já cursei</td>\n",
       "      <td>29</td>\n",
       "    </tr>\n",
       "    <tr>\n",
       "      <td>Você geralmente vai de casa para a UFCG:</td>\n",
       "      <td>43</td>\n",
       "      <td>3</td>\n",
       "      <td>de carro/moto</td>\n",
       "      <td>20</td>\n",
       "    </tr>\n",
       "    <tr>\n",
       "      <td>Start Date (UTC)</td>\n",
       "      <td>44</td>\n",
       "      <td>44</td>\n",
       "      <td>2016-06-30 23:45:08</td>\n",
       "      <td>1</td>\n",
       "    </tr>\n",
       "    <tr>\n",
       "      <td>Submit Date (UTC)</td>\n",
       "      <td>44</td>\n",
       "      <td>44</td>\n",
       "      <td>2016-07-01 17:14:32</td>\n",
       "      <td>1</td>\n",
       "    </tr>\n",
       "    <tr>\n",
       "      <td>Network ID</td>\n",
       "      <td>44</td>\n",
       "      <td>40</td>\n",
       "      <td>2804:7f7:2</td>\n",
       "      <td>3</td>\n",
       "    </tr>\n",
       "  </tbody>\n",
       "</table>\n",
       "</div>"
      ],
      "text/plain": [
       "                                                   count unique  \\\n",
       "#                                                     44     44   \n",
       "Você é...                                             43      2   \n",
       "Você já cursou, está cursando ou não cursou Mét...    44      3   \n",
       "Você geralmente vai de casa para a UFCG:              43      3   \n",
       "Start Date (UTC)                                      44     44   \n",
       "Submit Date (UTC)                                     44     44   \n",
       "Network ID                                            44     40   \n",
       "\n",
       "                                                                                 top  \\\n",
       "#                                                   f3a3c5fd14fda233e842919af05317e7   \n",
       "Você é...                                                                      Homem   \n",
       "Você já cursou, está cursando ou não cursou Mét...                         Já cursei   \n",
       "Você geralmente vai de casa para a UFCG:                               de carro/moto   \n",
       "Start Date (UTC)                                                 2016-06-30 23:45:08   \n",
       "Submit Date (UTC)                                                2016-07-01 17:14:32   \n",
       "Network ID                                                                2804:7f7:2   \n",
       "\n",
       "                                                   freq  \n",
       "#                                                     1  \n",
       "Você é...                                            37  \n",
       "Você já cursou, está cursando ou não cursou Mét...   29  \n",
       "Você geralmente vai de casa para a UFCG:             20  \n",
       "Start Date (UTC)                                      1  \n",
       "Submit Date (UTC)                                     1  \n",
       "Network ID                                            3  "
      ]
     },
     "execution_count": 24,
     "metadata": {},
     "output_type": "execute_result"
    }
   ],
   "source": [
    "# Visualizando as estatísticas básicas das variáveis categóricas do dataframe\n",
    "desc_cat = alunos_tudo.describe(include=[np.object])\n",
    "desc_cat.T"
   ]
  },
  {
   "cell_type": "markdown",
   "metadata": {},
   "source": [
    "#### Podemos ter um histograma de dados ordinais? O que é um histograma?"
   ]
  },
  {
   "cell_type": "code",
   "execution_count": 25,
   "metadata": {},
   "outputs": [
    {
     "data": {
      "text/plain": [
       "Text(0.5, 0, 'Gosta de Forms')"
      ]
     },
     "execution_count": 25,
     "metadata": {},
     "output_type": "execute_result"
    },
    {
     "data": {
      "image/png": "[encoded data removed]",
      "text/plain": [
       "<Figure size 432x288 with 1 Axes>"
      ]
     },
     "metadata": {
      "needs_background": "light"
     },
     "output_type": "display_data"
    }
   ],
   "source": [
    "alunos['gosta_de_forms'].plot(kind='hist', bins=5)\n",
    "plt.xlabel('Gosta de Forms')"
   ]
  },
  {
   "cell_type": "markdown",
   "metadata": {},
   "source": [
    "### Escalas de razão\n",
    "\n",
    "São números com suas intensidades e 0 significa ausência do valor medido. Temos exemplos nos dados?"
   ]
  },
  {
   "cell_type": "code",
   "execution_count": 26,
   "metadata": {},
   "outputs": [
    {
     "data": {
      "text/html": [
       "<div>\n",
       "<style scoped>\n",
       "    .dataframe tbody tr th:only-of-type {\n",
       "        vertical-align: middle;\n",
       "    }\n",
       "\n",
       "    .dataframe tbody tr th {\n",
       "        vertical-align: top;\n",
       "    }\n",
       "\n",
       "    .dataframe thead th {\n",
       "        text-align: right;\n",
       "    }\n",
       "</style>\n",
       "<table border=\"1\" class=\"dataframe\">\n",
       "  <thead>\n",
       "    <tr style=\"text-align: right;\">\n",
       "      <th></th>\n",
       "      <th>0</th>\n",
       "      <th>1</th>\n",
       "      <th>2</th>\n",
       "      <th>3</th>\n",
       "      <th>4</th>\n",
       "      <th>5</th>\n",
       "      <th>6</th>\n",
       "      <th>7</th>\n",
       "      <th>8</th>\n",
       "      <th>9</th>\n",
       "      <th>...</th>\n",
       "      <th>34</th>\n",
       "      <th>35</th>\n",
       "      <th>36</th>\n",
       "      <th>37</th>\n",
       "      <th>38</th>\n",
       "      <th>39</th>\n",
       "      <th>40</th>\n",
       "      <th>41</th>\n",
       "      <th>42</th>\n",
       "      <th>43</th>\n",
       "    </tr>\n",
       "  </thead>\n",
       "  <tbody>\n",
       "    <tr>\n",
       "      <td>sexo</td>\n",
       "      <td>Homem</td>\n",
       "      <td>Mulher</td>\n",
       "      <td>Homem</td>\n",
       "      <td>Homem</td>\n",
       "      <td>Homem</td>\n",
       "      <td>Homem</td>\n",
       "      <td>Homem</td>\n",
       "      <td>Homem</td>\n",
       "      <td>Homem</td>\n",
       "      <td>Homem</td>\n",
       "      <td>...</td>\n",
       "      <td>Homem</td>\n",
       "      <td>Homem</td>\n",
       "      <td>Mulher</td>\n",
       "      <td>Homem</td>\n",
       "      <td>Homem</td>\n",
       "      <td>Homem</td>\n",
       "      <td>Homem</td>\n",
       "      <td>Homem</td>\n",
       "      <td>Homem</td>\n",
       "      <td>Homem</td>\n",
       "    </tr>\n",
       "    <tr>\n",
       "      <td>repositorios</td>\n",
       "      <td>3</td>\n",
       "      <td>9</td>\n",
       "      <td>2</td>\n",
       "      <td>2</td>\n",
       "      <td>10</td>\n",
       "      <td>5</td>\n",
       "      <td>20</td>\n",
       "      <td>10</td>\n",
       "      <td>4</td>\n",
       "      <td>4</td>\n",
       "      <td>...</td>\n",
       "      <td>20</td>\n",
       "      <td>3</td>\n",
       "      <td>4</td>\n",
       "      <td>10</td>\n",
       "      <td>3</td>\n",
       "      <td>10</td>\n",
       "      <td>10</td>\n",
       "      <td>8</td>\n",
       "      <td>10</td>\n",
       "      <td>6</td>\n",
       "    </tr>\n",
       "    <tr>\n",
       "      <td>linguagens</td>\n",
       "      <td>5</td>\n",
       "      <td>3</td>\n",
       "      <td>3</td>\n",
       "      <td>2</td>\n",
       "      <td>5</td>\n",
       "      <td>4</td>\n",
       "      <td>3</td>\n",
       "      <td>5</td>\n",
       "      <td>8</td>\n",
       "      <td>3</td>\n",
       "      <td>...</td>\n",
       "      <td>6</td>\n",
       "      <td>5</td>\n",
       "      <td>2</td>\n",
       "      <td>4</td>\n",
       "      <td>6</td>\n",
       "      <td>4</td>\n",
       "      <td>4</td>\n",
       "      <td>4</td>\n",
       "      <td>4</td>\n",
       "      <td>3</td>\n",
       "    </tr>\n",
       "    <tr>\n",
       "      <td>altura</td>\n",
       "      <td>0</td>\n",
       "      <td>154</td>\n",
       "      <td>0</td>\n",
       "      <td>181</td>\n",
       "      <td>186</td>\n",
       "      <td>182</td>\n",
       "      <td>184</td>\n",
       "      <td>167</td>\n",
       "      <td>182</td>\n",
       "      <td>160</td>\n",
       "      <td>...</td>\n",
       "      <td>190</td>\n",
       "      <td>168</td>\n",
       "      <td>165</td>\n",
       "      <td>185</td>\n",
       "      <td>175</td>\n",
       "      <td>182</td>\n",
       "      <td>165</td>\n",
       "      <td>168</td>\n",
       "      <td>177</td>\n",
       "      <td>183</td>\n",
       "    </tr>\n",
       "    <tr>\n",
       "      <td>tempo_para_ufcg</td>\n",
       "      <td>73</td>\n",
       "      <td>20</td>\n",
       "      <td>10</td>\n",
       "      <td>10</td>\n",
       "      <td>19</td>\n",
       "      <td>30</td>\n",
       "      <td>60</td>\n",
       "      <td>25</td>\n",
       "      <td>15</td>\n",
       "      <td>90</td>\n",
       "      <td>...</td>\n",
       "      <td>10</td>\n",
       "      <td>7</td>\n",
       "      <td>15</td>\n",
       "      <td>60</td>\n",
       "      <td>20</td>\n",
       "      <td>10</td>\n",
       "      <td>10</td>\n",
       "      <td>15</td>\n",
       "      <td>25</td>\n",
       "      <td>80</td>\n",
       "    </tr>\n",
       "    <tr>\n",
       "      <td>transporte</td>\n",
       "      <td>NaN</td>\n",
       "      <td>de carro/moto</td>\n",
       "      <td>de carro/moto</td>\n",
       "      <td>a pé</td>\n",
       "      <td>de carro/moto</td>\n",
       "      <td>de ônibus</td>\n",
       "      <td>de ônibus</td>\n",
       "      <td>de ônibus</td>\n",
       "      <td>a pé</td>\n",
       "      <td>de ônibus</td>\n",
       "      <td>...</td>\n",
       "      <td>a pé</td>\n",
       "      <td>a pé</td>\n",
       "      <td>de carro/moto</td>\n",
       "      <td>de ônibus</td>\n",
       "      <td>de carro/moto</td>\n",
       "      <td>de carro/moto</td>\n",
       "      <td>de carro/moto</td>\n",
       "      <td>de carro/moto</td>\n",
       "      <td>de carro/moto</td>\n",
       "      <td>de ônibus</td>\n",
       "    </tr>\n",
       "    <tr>\n",
       "      <td>gosta_de_forms</td>\n",
       "      <td>1</td>\n",
       "      <td>3</td>\n",
       "      <td>5</td>\n",
       "      <td>4</td>\n",
       "      <td>4</td>\n",
       "      <td>5</td>\n",
       "      <td>4</td>\n",
       "      <td>5</td>\n",
       "      <td>3</td>\n",
       "      <td>3</td>\n",
       "      <td>...</td>\n",
       "      <td>5</td>\n",
       "      <td>4</td>\n",
       "      <td>5</td>\n",
       "      <td>4</td>\n",
       "      <td>4</td>\n",
       "      <td>5</td>\n",
       "      <td>4</td>\n",
       "      <td>4</td>\n",
       "      <td>3</td>\n",
       "      <td>5</td>\n",
       "    </tr>\n",
       "  </tbody>\n",
       "</table>\n",
       "<p>7 rows × 44 columns</p>\n",
       "</div>"
      ],
      "text/plain": [
       "                    0              1              2      3              4   \\\n",
       "sexo             Homem         Mulher          Homem  Homem          Homem   \n",
       "repositorios         3              9              2      2             10   \n",
       "linguagens           5              3              3      2              5   \n",
       "altura               0            154              0    181            186   \n",
       "tempo_para_ufcg     73             20             10     10             19   \n",
       "transporte         NaN  de carro/moto  de carro/moto   a pé  de carro/moto   \n",
       "gosta_de_forms       1              3              5      4              4   \n",
       "\n",
       "                        5          6          7      8          9   ...  \\\n",
       "sexo                 Homem      Homem      Homem  Homem      Homem  ...   \n",
       "repositorios             5         20         10      4          4  ...   \n",
       "linguagens               4          3          5      8          3  ...   \n",
       "altura                 182        184        167    182        160  ...   \n",
       "tempo_para_ufcg         30         60         25     15         90  ...   \n",
       "transporte       de ônibus  de ônibus  de ônibus   a pé  de ônibus  ...   \n",
       "gosta_de_forms           5          4          5      3          3  ...   \n",
       "\n",
       "                    34     35             36         37             38  \\\n",
       "sexo             Homem  Homem         Mulher      Homem          Homem   \n",
       "repositorios        20      3              4         10              3   \n",
       "linguagens           6      5              2          4              6   \n",
       "altura             190    168            165        185            175   \n",
       "tempo_para_ufcg     10      7             15         60             20   \n",
       "transporte        a pé   a pé  de carro/moto  de ônibus  de carro/moto   \n",
       "gosta_de_forms       5      4              5          4              4   \n",
       "\n",
       "                            39             40             41             42  \\\n",
       "sexo                     Homem          Homem          Homem          Homem   \n",
       "repositorios                10             10              8             10   \n",
       "linguagens                   4              4              4              4   \n",
       "altura                     182            165            168            177   \n",
       "tempo_para_ufcg             10             10             15             25   \n",
       "transporte       de carro/moto  de carro/moto  de carro/moto  de carro/moto   \n",
       "gosta_de_forms               5              4              4              3   \n",
       "\n",
       "                        43  \n",
       "sexo                 Homem  \n",
       "repositorios             6  \n",
       "linguagens               3  \n",
       "altura                 183  \n",
       "tempo_para_ufcg         80  \n",
       "transporte       de ônibus  \n",
       "gosta_de_forms           5  \n",
       "\n",
       "[7 rows x 44 columns]"
      ]
     },
     "execution_count": 26,
     "metadata": {},
     "output_type": "execute_result"
    }
   ],
   "source": [
    "alunos.T"
   ]
  },
  {
   "cell_type": "markdown",
   "metadata": {},
   "source": [
    "Que variávies tem uma escala de razão? O que podemos fazer com essas variáveis?\n",
    "\n",
    "Histograma!"
   ]
  },
  {
   "cell_type": "code",
   "execution_count": 27,
   "metadata": {},
   "outputs": [
    {
     "data": {
      "text/plain": [
       "3    14\n",
       "4    10\n",
       "5     8\n",
       "2     6\n",
       "6     3\n",
       "7     2\n",
       "8     1\n",
       "Name: linguagens, dtype: int64"
      ]
     },
     "execution_count": 27,
     "metadata": {},
     "output_type": "execute_result"
    }
   ],
   "source": [
    "alunos.linguagens.value_counts()"
   ]
  },
  {
   "cell_type": "code",
   "execution_count": 28,
   "metadata": {},
   "outputs": [
    {
     "data": {
      "text/plain": [
       "<matplotlib.axes._subplots.AxesSubplot at 0x7f4e8b38ae90>"
      ]
     },
     "execution_count": 28,
     "metadata": {},
     "output_type": "execute_result"
    },
    {
     "data": {
      "image/png": "[encoded data removed]",
      "text/plain": [
       "<Figure size 432x288 with 1 Axes>"
      ]
     },
     "metadata": {
      "needs_background": "light"
     },
     "output_type": "display_data"
    }
   ],
   "source": [
    "alunos.linguagens.plot(kind='hist')"
   ]
  },
  {
   "cell_type": "code",
   "execution_count": 29,
   "metadata": {},
   "outputs": [
    {
     "data": {
      "text/plain": [
       "<matplotlib.axes._subplots.AxesSubplot at 0x7f4e875862d0>"
      ]
     },
     "execution_count": 29,
     "metadata": {},
     "output_type": "execute_result"
    },
    {
     "data": {
      "image/png": "[encoded data removed]",
      "text/plain": [
       "<Figure size 432x288 with 1 Axes>"
      ]
     },
     "metadata": {
      "needs_background": "light"
     },
     "output_type": "display_data"
    }
   ],
   "source": [
    "alunos.linguagens.plot(kind='hist', bins=7)"
   ]
  },
  {
   "cell_type": "markdown",
   "metadata": {},
   "source": [
    "O mesmo podemos fazer para tempo de transporte. Agora considerando por faixas de valores diferentes (Bins = faixas).\n",
    "\n",
    "*bins são uma parte muito importante*\n"
   ]
  },
  {
   "cell_type": "code",
   "execution_count": 30,
   "metadata": {},
   "outputs": [
    {
     "data": {
      "text/plain": [
       "<matplotlib.axes._subplots.AxesSubplot at 0x7f4e87503050>"
      ]
     },
     "execution_count": 30,
     "metadata": {},
     "output_type": "execute_result"
    },
    {
     "data": {
      "image/png": "[encoded data removed]",
      "text/plain": [
       "<Figure size 432x288 with 1 Axes>"
      ]
     },
     "metadata": {
      "needs_background": "light"
     },
     "output_type": "display_data"
    }
   ],
   "source": [
    "alunos.tempo_para_ufcg.plot(kind='hist', bins=8, color='orange', edgecolor='black')"
   ]
  },
  {
   "cell_type": "code",
   "execution_count": 31,
   "metadata": {},
   "outputs": [
    {
     "data": {
      "text/plain": [
       "<matplotlib.axes._subplots.AxesSubplot at 0x7f4e87477c50>"
      ]
     },
     "execution_count": 31,
     "metadata": {},
     "output_type": "execute_result"
    },
    {
     "data": {
      "image/png": "[encoded data removed]",
      "text/plain": [
       "<Figure size 432x288 with 1 Axes>"
      ]
     },
     "metadata": {
      "needs_background": "light"
     },
     "output_type": "display_data"
    }
   ],
   "source": [
    "alunos.tempo_para_ufcg.plot(kind='density', color='orange')"
   ]
  },
  {
   "cell_type": "markdown",
   "metadata": {},
   "source": [
    "Para variáveis contínuas, a função de densidade pode ser usada. `geom_freqpoly` também é mais legível quando temos muitos dados.\n",
    "\n",
    "Mais informação sobre tempo para chegar na UFCG:"
   ]
  },
  {
   "cell_type": "code",
   "execution_count": 32,
   "metadata": {},
   "outputs": [],
   "source": [
    "# Utilizando a biblioteca gráfica seaborn\n",
    "import seaborn as sns\n",
    "sns.set(style=\"whitegrid\")"
   ]
  },
  {
   "cell_type": "code",
   "execution_count": 33,
   "metadata": {},
   "outputs": [
    {
     "data": {
      "text/plain": [
       "<matplotlib.axes._subplots.AxesSubplot at 0x7f4e7d8a2e90>"
      ]
     },
     "execution_count": 33,
     "metadata": {},
     "output_type": "execute_result"
    },
    {
     "data": {
      "image/png": "[encoded data removed]",
      "text/plain": [
       "<Figure size 432x288 with 1 Axes>"
      ]
     },
     "metadata": {},
     "output_type": "display_data"
    }
   ],
   "source": [
    "sns.distplot(alunos.tempo_para_ufcg.fillna(0), \n",
    "             color='darkblue', \n",
    "             hist_kws={'edgecolor':'black'},\n",
    "             kde_kws={'linewidth': 2})"
   ]
  },
  {
   "cell_type": "code",
   "execution_count": 34,
   "metadata": {},
   "outputs": [
    {
     "data": {
      "text/plain": [
       "<matplotlib.axes._subplots.AxesSubplot at 0x7f4e7d834710>"
      ]
     },
     "execution_count": 34,
     "metadata": {},
     "output_type": "execute_result"
    },
    {
     "data": {
      "image/png": "[encoded data removed]",
      "text/plain": [
       "<Figure size 432x288 with 1 Axes>"
      ]
     },
     "metadata": {},
     "output_type": "display_data"
    }
   ],
   "source": [
    "sns.distplot(alunos.tempo_para_ufcg.dropna(), \n",
    "             hist=False,\n",
    "             kde_kws={'color':'gray', 'linewidth': 2},\n",
    "             rug=True,\n",
    "             rug_kws={'color':'red'})"
   ]
  },
  {
   "cell_type": "markdown",
   "metadata": {},
   "source": [
    "Vamos ver agora a distribuição da altura dos alunos:"
   ]
  },
  {
   "cell_type": "code",
   "execution_count": 35,
   "metadata": {},
   "outputs": [
    {
     "data": {
      "text/plain": [
       "<matplotlib.axes._subplots.AxesSubplot at 0x7f4e7d7f9dd0>"
      ]
     },
     "execution_count": 35,
     "metadata": {},
     "output_type": "execute_result"
    },
    {
     "data": {
      "image/png": "[encoded data removed]",
      "text/plain": [
       "<Figure size 432x288 with 1 Axes>"
      ]
     },
     "metadata": {},
     "output_type": "display_data"
    }
   ],
   "source": [
    "alunos[alunos.altura >= 150]['altura'].plot(kind='hist')"
   ]
  },
  {
   "cell_type": "code",
   "execution_count": 36,
   "metadata": {},
   "outputs": [
    {
     "data": {
      "text/plain": [
       "<matplotlib.axes._subplots.AxesSubplot at 0x7f4e7d786610>"
      ]
     },
     "execution_count": 36,
     "metadata": {},
     "output_type": "execute_result"
    },
    {
     "data": {
      "image/png": "[encoded data removed]",
      "text/plain": [
       "<Figure size 432x288 with 1 Axes>"
      ]
     },
     "metadata": {},
     "output_type": "display_data"
    }
   ],
   "source": [
    "alunos[alunos.altura >= 150]['altura'].plot(kind='density')"
   ]
  },
  {
   "cell_type": "markdown",
   "metadata": {},
   "source": [
    "### Índices de tendência central e dispersão"
   ]
  },
  {
   "cell_type": "code",
   "execution_count": 37,
   "metadata": {},
   "outputs": [
    {
     "name": "stdout",
     "output_type": "stream",
     "text": [
      "Média: 3.9545454545454546\n",
      "Mediana: 4.0\n",
      "Variância: 2.137420718816067\n",
      "Desvio padrão: 1.4619920378771107\n"
     ]
    }
   ],
   "source": [
    "# Média\n",
    "print('Média:', alunos.linguagens.dropna().mean())\n",
    "# Mediana\n",
    "print('Mediana:', alunos.linguagens.dropna().median())\n",
    "# Variância\n",
    "print('Variância:', alunos.linguagens.dropna().var())\n",
    "# Desvio padrão\n",
    "print('Desvio padrão:', alunos.linguagens.dropna().std())"
   ]
  },
  {
   "cell_type": "markdown",
   "metadata": {},
   "source": [
    "### Análise exploratória dos dados\n",
    "\n",
    "Em uma análise exploratória buscamos entender os dados em mãos. Não queremos ainda inferir nada. \n",
    "Como? Fazendo perguntas...\n",
    "\n",
    "Como as distribuições do \"tempo para chegar na UFCG\" mudam para cada tipo diferente de transporte?\n"
   ]
  },
  {
   "cell_type": "code",
   "execution_count": 38,
   "metadata": {},
   "outputs": [
    {
     "data": {
      "image/png": "[encoded data removed]",
      "text/plain": [
       "<Figure size 766.225x216 with 3 Axes>"
      ]
     },
     "metadata": {},
     "output_type": "display_data"
    }
   ],
   "source": [
    "fig = sns.FacetGrid(alunos, col='transporte', hue='transporte')\n",
    "fig.map(plt.hist, 'tempo_para_ufcg')\n",
    "fig.add_legend()\n",
    "plt.show()"
   ]
  },
  {
   "cell_type": "markdown",
   "metadata": {},
   "source": [
    "### scatter plot\n",
    "Olhando variáveis de razão e categóricas juntas em um scatterplot:"
   ]
  },
  {
   "cell_type": "code",
   "execution_count": 39,
   "metadata": {},
   "outputs": [
    {
     "data": {
      "image/png": "[encoded data removed]",
      "text/plain": [
       "<Figure size 432x288 with 1 Axes>"
      ]
     },
     "metadata": {},
     "output_type": "display_data"
    }
   ],
   "source": [
    "sns.stripplot(x='transporte', y='tempo_para_ufcg', data=alunos, s=7, lw=1)\n",
    "plt.show()"
   ]
  },
  {
   "cell_type": "markdown",
   "metadata": {},
   "source": [
    "### Boxplot"
   ]
  },
  {
   "cell_type": "code",
   "execution_count": 40,
   "metadata": {},
   "outputs": [
    {
     "data": {
      "text/plain": [
       "<matplotlib.axes._subplots.AxesSubplot at 0x7f4e7d4fccd0>"
      ]
     },
     "execution_count": 40,
     "metadata": {},
     "output_type": "execute_result"
    },
    {
     "data": {
      "image/png": "[encoded data removed]",
      "text/plain": [
       "<Figure size 432x288 with 1 Axes>"
      ]
     },
     "metadata": {},
     "output_type": "display_data"
    }
   ],
   "source": [
    "sns.boxplot(x='transporte', y='tempo_para_ufcg', data=alunos, color='white')\n",
    "sns.stripplot(x='transporte', y='tempo_para_ufcg', data=alunos, s=5, lw=1, color='orange', alpha=0.7)"
   ]
  },
  {
   "cell_type": "code",
   "execution_count": 41,
   "metadata": {},
   "outputs": [
    {
     "data": {
      "image/png": "[encoded data removed]",
      "text/plain": [
       "<Figure size 432x288 with 1 Axes>"
      ]
     },
     "metadata": {},
     "output_type": "display_data"
    }
   ],
   "source": [
    "# outra forma \n",
    "sns.boxplot(x='transporte', y='tempo_para_ufcg', data=alunos, palette='Set1')\n",
    "sns.swarmplot(x='transporte', y='tempo_para_ufcg', data=alunos, s=5, lw=1, color='orange')\n",
    "plt.show()"
   ]
  },
  {
   "cell_type": "code",
   "execution_count": 42,
   "metadata": {},
   "outputs": [
    {
     "data": {
      "text/html": [
       "<div>\n",
       "<style scoped>\n",
       "    .dataframe tbody tr th:only-of-type {\n",
       "        vertical-align: middle;\n",
       "    }\n",
       "\n",
       "    .dataframe tbody tr th {\n",
       "        vertical-align: top;\n",
       "    }\n",
       "\n",
       "    .dataframe thead th {\n",
       "        text-align: right;\n",
       "    }\n",
       "</style>\n",
       "<table border=\"1\" class=\"dataframe\">\n",
       "  <thead>\n",
       "    <tr style=\"text-align: right;\">\n",
       "      <th></th>\n",
       "      <th>transporte</th>\n",
       "      <th>tempo_minimo</th>\n",
       "      <th>tempo_medio</th>\n",
       "      <th>variabilidade</th>\n",
       "      <th>tempo_maximo</th>\n",
       "    </tr>\n",
       "  </thead>\n",
       "  <tbody>\n",
       "    <tr>\n",
       "      <td>0</td>\n",
       "      <td>a pé</td>\n",
       "      <td>6.0</td>\n",
       "      <td>9.285714</td>\n",
       "      <td>3.039424</td>\n",
       "      <td>15.0</td>\n",
       "    </tr>\n",
       "    <tr>\n",
       "      <td>1</td>\n",
       "      <td>de carro/moto</td>\n",
       "      <td>2.0</td>\n",
       "      <td>16.736842</td>\n",
       "      <td>12.045479</td>\n",
       "      <td>60.0</td>\n",
       "    </tr>\n",
       "    <tr>\n",
       "      <td>2</td>\n",
       "      <td>de ônibus</td>\n",
       "      <td>20.0</td>\n",
       "      <td>44.062500</td>\n",
       "      <td>21.151734</td>\n",
       "      <td>90.0</td>\n",
       "    </tr>\n",
       "  </tbody>\n",
       "</table>\n",
       "</div>"
      ],
      "text/plain": [
       "      transporte  tempo_minimo  tempo_medio  variabilidade  tempo_maximo\n",
       "0           a pé           6.0     9.285714       3.039424          15.0\n",
       "1  de carro/moto           2.0    16.736842      12.045479          60.0\n",
       "2      de ônibus          20.0    44.062500      21.151734          90.0"
      ]
     },
     "execution_count": 42,
     "metadata": {},
     "output_type": "execute_result"
    }
   ],
   "source": [
    "alunos_transporte = alunos.groupby('transporte', as_index=False).agg({'tempo_para_ufcg':['min', 'mean', 'std', 'max'] })\n",
    "alunos_transporte.columns = ['transporte', 'tempo_minimo', 'tempo_medio', 'variabilidade', 'tempo_maximo']\n",
    "alunos_transporte"
   ]
  },
  {
   "cell_type": "markdown",
   "metadata": {},
   "source": [
    "Será que a altura das pessoas tem relação com seu gênero? homens e mulheres tem a mesma altura?"
   ]
  },
  {
   "cell_type": "code",
   "execution_count": 43,
   "metadata": {},
   "outputs": [
    {
     "data": {
      "image/png": "[encoded data removed]",
      "text/plain": [
       "<Figure size 432x288 with 1 Axes>"
      ]
     },
     "metadata": {},
     "output_type": "display_data"
    }
   ],
   "source": [
    "sns.boxplot(x='sexo', y='altura', data=alunos[alunos.altura >= 150], color='white')\n",
    "sns.stripplot(x='sexo', y='altura', data=alunos[alunos.altura >= 150], s=5, lw=1, color='k', alpha=0.7)\n",
    "plt.show()"
   ]
  },
  {
   "cell_type": "markdown",
   "metadata": {},
   "source": [
    "### Scatter plot\n",
    "Será que os alunos que chegam mais rápido na UFCG sabem mais linguagens?"
   ]
  },
  {
   "cell_type": "code",
   "execution_count": 44,
   "metadata": {},
   "outputs": [
    {
     "data": {
      "image/png": "[encoded data removed]",
      "text/plain": [
       "<Figure size 432x288 with 1 Axes>"
      ]
     },
     "metadata": {},
     "output_type": "display_data"
    }
   ],
   "source": [
    "# OBS: No scritp R y='repositorios'\n",
    "sns.scatterplot(x='tempo_para_ufcg', y='linguagens', data=alunos, color='k', alpha=0.7)\n",
    "plt.show()"
   ]
  },
  {
   "cell_type": "markdown",
   "metadata": {},
   "source": [
    "Será que os alunos que tem mais repositorios sabem masi linguagens?"
   ]
  },
  {
   "cell_type": "code",
   "execution_count": 45,
   "metadata": {},
   "outputs": [
    {
     "data": {
      "image/png": "[encoded data removed]",
      "text/plain": [
       "<Figure size 432x288 with 1 Axes>"
      ]
     },
     "metadata": {},
     "output_type": "display_data"
    }
   ],
   "source": [
    "sns.scatterplot(x='linguagens', y='repositorios', data=alunos, color='k', alpha=0.7)\n",
    "plt.show()"
   ]
  },
  {
   "cell_type": "markdown",
   "metadata": {},
   "source": [
    "Será que há uma relação entre altura e número de linguagens que um aluno sabe?"
   ]
  },
  {
   "cell_type": "code",
   "execution_count": 46,
   "metadata": {},
   "outputs": [
    {
     "data": {
      "image/png": "[encoded data removed]",
      "text/plain": [
       "<Figure size 432x288 with 1 Axes>"
      ]
     },
     "metadata": {},
     "output_type": "display_data"
    }
   ],
   "source": [
    "fig = sns.swarmplot(x='altura', y='linguagens', data=alunos[alunos.altura>0], color='k', alpha=0.7)\n",
    "plt.setp(fig.get_xticklabels(), rotation=90)\n",
    "plt.show()"
   ]
  },
  {
   "cell_type": "markdown",
   "metadata": {},
   "source": [
    "Será que os alunos que chegam mais rápido na UFCG tem mais repositórios?"
   ]
  },
  {
   "cell_type": "code",
   "execution_count": 47,
   "metadata": {},
   "outputs": [
    {
     "data": {
      "image/png": "[encoded data removed]",
      "text/plain": [
       "<Figure size 432x288 with 1 Axes>"
      ]
     },
     "metadata": {},
     "output_type": "display_data"
    }
   ],
   "source": [
    "fig = sns.stripplot(x='tempo_para_ufcg', y='repositorios', data=alunos, s=5, lw=1, color='k', alpha=0.7)\n",
    "plt.setp(fig.get_xticklabels(), rotation=90)\n",
    "plt.show()"
   ]
  },
  {
   "cell_type": "markdown",
   "metadata": {},
   "source": [
    "### Uma visão geral de todas as variáveis 2 a 2 de uma vez"
   ]
  },
  {
   "cell_type": "code",
   "execution_count": 49,
   "metadata": {},
   "outputs": [
    {
     "data": {
      "image/png": "[encoded data removed]",
      "text/plain": [
       "<Figure size 720x720 with 20 Axes>"
      ]
     },
     "metadata": {},
     "output_type": "display_data"
    }
   ],
   "source": [
    "sns.pairplot(alunos[['repositorios', 'linguagens', 'altura', 'tempo_para_ufcg']].dropna())\n",
    "plt.show()"
   ]
  },
  {
   "cell_type": "code",
   "execution_count": null,
   "metadata": {},
   "outputs": [],
   "source": []
  }
 ],
 "metadata": {
  "kernelspec": {
   "display_name": "Python 3",
   "language": "python",
   "name": "python3"
  },
  "language_info": {
   "codemirror_mode": {
    "name": "ipython",
    "version": 3
   },
   "file_extension": ".py",
   "mimetype": "text/x-python",
   "name": "python",
   "nbconvert_exporter": "python",
   "pygments_lexer": "ipython3",
   "version": "3.7.4"
  }
 },
 "nbformat": 4,
 "nbformat_minor": 2
}
