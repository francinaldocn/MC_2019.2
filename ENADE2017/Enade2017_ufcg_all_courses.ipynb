{
 "cells": [
  {
   "cell_type": "markdown",
   "metadata": {},
   "source": [
    "## Enade 2017 - Universidade Federal de Campina Grande (UFCG)"
   ]
  },
  {
   "cell_type": "code",
   "execution_count": 1,
   "metadata": {},
   "outputs": [],
   "source": [
    "# Biblioteca científica\n",
    "import numpy as np\n",
    "# Biblioteca para análise de dados\n",
    "import pandas as pd\n",
    "# Suprimindo os warnings da biblioteca pandas\n",
    "pd.options.mode.chained_assignment = None\n",
    "# Bibliotecas de visualização de dados\n",
    "import matplotlib.pyplot as plt\n",
    "import matplotlib.patches as mpatches\n",
    "import matplotlib.ticker as mtick\n",
    "plt.style.use('ggplot')\n",
    "import seaborn as sns\n",
    "sns.set_style('whitegrid')\n",
    "%matplotlib inline"
   ]
  },
  {
   "cell_type": "markdown",
   "metadata": {},
   "source": [
    "### Carregando e verificando os dados"
   ]
  },
  {
   "cell_type": "code",
   "execution_count": 2,
   "metadata": {},
   "outputs": [],
   "source": [
    "# Dados do Censo da Educação Superior 2017 (Curso de computação da UFCG e UFC)\n",
    "df = pd.read_csv('dados/enade2017_ufcg.csv')"
   ]
  },
  {
   "cell_type": "code",
   "execution_count": 3,
   "metadata": {
    "scrolled": false
   },
   "outputs": [
    {
     "data": {
      "text/html": [
       "<div>\n",
       "<style scoped>\n",
       "    .dataframe tbody tr th:only-of-type {\n",
       "        vertical-align: middle;\n",
       "    }\n",
       "\n",
       "    .dataframe tbody tr th {\n",
       "        vertical-align: top;\n",
       "    }\n",
       "\n",
       "    .dataframe thead th {\n",
       "        text-align: right;\n",
       "    }\n",
       "</style>\n",
       "<table border=\"1\" class=\"dataframe\">\n",
       "  <thead>\n",
       "    <tr style=\"text-align: right;\">\n",
       "      <th></th>\n",
       "      <th>NU_ANO</th>\n",
       "      <th>CO_IES</th>\n",
       "      <th>CO_CATEGAD</th>\n",
       "      <th>CO_ORGACAD</th>\n",
       "      <th>CO_GRUPO</th>\n",
       "      <th>CO_CURSO</th>\n",
       "      <th>CO_MODALIDADE</th>\n",
       "      <th>CO_MUNIC_CURSO</th>\n",
       "      <th>CO_UF_CURSO</th>\n",
       "      <th>CO_REGIAO_CURSO</th>\n",
       "      <th>...</th>\n",
       "      <th>QE_I77</th>\n",
       "      <th>QE_I78</th>\n",
       "      <th>QE_I79</th>\n",
       "      <th>QE_I80</th>\n",
       "      <th>QE_I81</th>\n",
       "      <th>NO_CURSO</th>\n",
       "      <th>Instituicao</th>\n",
       "      <th>Sigla</th>\n",
       "      <th>Municipio</th>\n",
       "      <th>UF</th>\n",
       "    </tr>\n",
       "  </thead>\n",
       "  <tbody>\n",
       "    <tr>\n",
       "      <td>0</td>\n",
       "      <td>2017</td>\n",
       "      <td>2564</td>\n",
       "      <td>1</td>\n",
       "      <td>10028</td>\n",
       "      <td>2402</td>\n",
       "      <td>13405</td>\n",
       "      <td>1</td>\n",
       "      <td>2503704</td>\n",
       "      <td>25</td>\n",
       "      <td>2</td>\n",
       "      <td>...</td>\n",
       "      <td>A</td>\n",
       "      <td>B</td>\n",
       "      <td>B</td>\n",
       "      <td>B</td>\n",
       "      <td>B</td>\n",
       "      <td>HISTÓRIA</td>\n",
       "      <td>UNIVERSIDADE FEDERAL DE CAMPINA GRANDE (UFCG)</td>\n",
       "      <td>UFCG</td>\n",
       "      <td>Campina Grande</td>\n",
       "      <td>PB</td>\n",
       "    </tr>\n",
       "    <tr>\n",
       "      <td>1</td>\n",
       "      <td>2017</td>\n",
       "      <td>2564</td>\n",
       "      <td>1</td>\n",
       "      <td>10028</td>\n",
       "      <td>2402</td>\n",
       "      <td>13405</td>\n",
       "      <td>1</td>\n",
       "      <td>2503704</td>\n",
       "      <td>25</td>\n",
       "      <td>2</td>\n",
       "      <td>...</td>\n",
       "      <td>A</td>\n",
       "      <td>B</td>\n",
       "      <td>B</td>\n",
       "      <td>B</td>\n",
       "      <td>B</td>\n",
       "      <td>HISTÓRIA</td>\n",
       "      <td>UNIVERSIDADE FEDERAL DE CAMPINA GRANDE (UFCG)</td>\n",
       "      <td>UFCG</td>\n",
       "      <td>Campina Grande</td>\n",
       "      <td>PB</td>\n",
       "    </tr>\n",
       "    <tr>\n",
       "      <td>2</td>\n",
       "      <td>2017</td>\n",
       "      <td>2564</td>\n",
       "      <td>1</td>\n",
       "      <td>10028</td>\n",
       "      <td>2402</td>\n",
       "      <td>13405</td>\n",
       "      <td>1</td>\n",
       "      <td>2503704</td>\n",
       "      <td>25</td>\n",
       "      <td>2</td>\n",
       "      <td>...</td>\n",
       "      <td>A</td>\n",
       "      <td>B</td>\n",
       "      <td>C</td>\n",
       "      <td>A</td>\n",
       "      <td>A</td>\n",
       "      <td>HISTÓRIA</td>\n",
       "      <td>UNIVERSIDADE FEDERAL DE CAMPINA GRANDE (UFCG)</td>\n",
       "      <td>UFCG</td>\n",
       "      <td>Campina Grande</td>\n",
       "      <td>PB</td>\n",
       "    </tr>\n",
       "    <tr>\n",
       "      <td>3</td>\n",
       "      <td>2017</td>\n",
       "      <td>2564</td>\n",
       "      <td>1</td>\n",
       "      <td>10028</td>\n",
       "      <td>2402</td>\n",
       "      <td>13405</td>\n",
       "      <td>1</td>\n",
       "      <td>2503704</td>\n",
       "      <td>25</td>\n",
       "      <td>2</td>\n",
       "      <td>...</td>\n",
       "      <td>E</td>\n",
       "      <td>B</td>\n",
       "      <td>C</td>\n",
       "      <td>B</td>\n",
       "      <td>B</td>\n",
       "      <td>HISTÓRIA</td>\n",
       "      <td>UNIVERSIDADE FEDERAL DE CAMPINA GRANDE (UFCG)</td>\n",
       "      <td>UFCG</td>\n",
       "      <td>Campina Grande</td>\n",
       "      <td>PB</td>\n",
       "    </tr>\n",
       "    <tr>\n",
       "      <td>4</td>\n",
       "      <td>2017</td>\n",
       "      <td>2564</td>\n",
       "      <td>1</td>\n",
       "      <td>10028</td>\n",
       "      <td>2402</td>\n",
       "      <td>13405</td>\n",
       "      <td>1</td>\n",
       "      <td>2503704</td>\n",
       "      <td>25</td>\n",
       "      <td>2</td>\n",
       "      <td>...</td>\n",
       "      <td>A</td>\n",
       "      <td>C</td>\n",
       "      <td>D</td>\n",
       "      <td>D</td>\n",
       "      <td>A</td>\n",
       "      <td>HISTÓRIA</td>\n",
       "      <td>UNIVERSIDADE FEDERAL DE CAMPINA GRANDE (UFCG)</td>\n",
       "      <td>UFCG</td>\n",
       "      <td>Campina Grande</td>\n",
       "      <td>PB</td>\n",
       "    </tr>\n",
       "  </tbody>\n",
       "</table>\n",
       "<p>5 rows × 155 columns</p>\n",
       "</div>"
      ],
      "text/plain": [
       "   NU_ANO  CO_IES  CO_CATEGAD  CO_ORGACAD  CO_GRUPO  CO_CURSO  CO_MODALIDADE  \\\n",
       "0    2017    2564           1       10028      2402     13405              1   \n",
       "1    2017    2564           1       10028      2402     13405              1   \n",
       "2    2017    2564           1       10028      2402     13405              1   \n",
       "3    2017    2564           1       10028      2402     13405              1   \n",
       "4    2017    2564           1       10028      2402     13405              1   \n",
       "\n",
       "   CO_MUNIC_CURSO  CO_UF_CURSO  CO_REGIAO_CURSO  ...  QE_I77 QE_I78  QE_I79  \\\n",
       "0         2503704           25                2  ...       A      B       B   \n",
       "1         2503704           25                2  ...       A      B       B   \n",
       "2         2503704           25                2  ...       A      B       C   \n",
       "3         2503704           25                2  ...       E      B       C   \n",
       "4         2503704           25                2  ...       A      C       D   \n",
       "\n",
       "   QE_I80  QE_I81  NO_CURSO                                    Instituicao  \\\n",
       "0       B       B  HISTÓRIA  UNIVERSIDADE FEDERAL DE CAMPINA GRANDE (UFCG)   \n",
       "1       B       B  HISTÓRIA  UNIVERSIDADE FEDERAL DE CAMPINA GRANDE (UFCG)   \n",
       "2       A       A  HISTÓRIA  UNIVERSIDADE FEDERAL DE CAMPINA GRANDE (UFCG)   \n",
       "3       B       B  HISTÓRIA  UNIVERSIDADE FEDERAL DE CAMPINA GRANDE (UFCG)   \n",
       "4       D       A  HISTÓRIA  UNIVERSIDADE FEDERAL DE CAMPINA GRANDE (UFCG)   \n",
       "\n",
       "   Sigla       Municipio  UF  \n",
       "0   UFCG  Campina Grande  PB  \n",
       "1   UFCG  Campina Grande  PB  \n",
       "2   UFCG  Campina Grande  PB  \n",
       "3   UFCG  Campina Grande  PB  \n",
       "4   UFCG  Campina Grande  PB  \n",
       "\n",
       "[5 rows x 155 columns]"
      ]
     },
     "execution_count": 3,
     "metadata": {},
     "output_type": "execute_result"
    }
   ],
   "source": [
    "# Exibindo o cabeçalho do dataframe\n",
    "df.head()"
   ]
  },
  {
   "cell_type": "code",
   "execution_count": 4,
   "metadata": {},
   "outputs": [
    {
     "name": "stdout",
     "output_type": "stream",
     "text": [
      "<class 'pandas.core.frame.DataFrame'>\n",
      "RangeIndex: 1757 entries, 0 to 1756\n",
      "Columns: 155 entries, NU_ANO to UF\n",
      "dtypes: float64(74), int64(21), object(60)\n",
      "memory usage: 2.1+ MB\n"
     ]
    }
   ],
   "source": [
    "# Exibindo as informações do dataframe\n",
    "df.info()"
   ]
  },
  {
   "cell_type": "code",
   "execution_count": 5,
   "metadata": {},
   "outputs": [
    {
     "data": {
      "text/plain": [
       "array(['NU_ANO', 'CO_IES', 'CO_CATEGAD', 'CO_ORGACAD', 'CO_GRUPO',\n",
       "       'CO_CURSO', 'CO_MODALIDADE', 'CO_MUNIC_CURSO', 'CO_UF_CURSO',\n",
       "       'CO_REGIAO_CURSO', 'NU_IDADE', 'TP_SEXO', 'ANO_FIM_EM',\n",
       "       'ANO_IN_GRAD', 'CO_TURNO_GRADUACAO', 'TP_INSCRICAO_ADM',\n",
       "       'TP_INSCRICAO', 'NU_ITEM_OFG', 'NU_ITEM_OFG_Z', 'NU_ITEM_OFG_X',\n",
       "       'NU_ITEM_OFG_N', 'NU_ITEM_OCE', 'NU_ITEM_OCE_Z', 'NU_ITEM_OCE_X',\n",
       "       'NU_ITEM_OCE_N', 'DS_VT_GAB_OFG_ORIG', 'DS_VT_GAB_OFG_FIN',\n",
       "       'DS_VT_GAB_OCE_ORIG', 'DS_VT_GAB_OCE_FIN', 'DS_VT_ESC_OFG',\n",
       "       'DS_VT_ACE_OFG', 'DS_VT_ESC_OCE', 'DS_VT_ACE_OCE', 'TP_PRES',\n",
       "       'TP_PR_GER', 'TP_PR_OB_FG', 'TP_PR_DI_FG', 'TP_PR_OB_CE',\n",
       "       'TP_PR_DI_CE', 'TP_SFG_D1', 'TP_SFG_D2', 'TP_SCE_D1', 'TP_SCE_D2',\n",
       "       'TP_SCE_D3', 'NT_GER', 'NT_FG', 'NT_OBJ_FG', 'NT_DIS_FG',\n",
       "       'NT_FG_D1', 'NT_FG_D1_PT', 'NT_FG_D1_CT', 'NT_FG_D2',\n",
       "       'NT_FG_D2_PT', 'NT_FG_D2_CT', 'NT_CE', 'NT_OBJ_CE', 'NT_DIS_CE',\n",
       "       'NT_CE_D1', 'NT_CE_D2', 'NT_CE_D3', 'CO_RS_I1', 'CO_RS_I2',\n",
       "       'CO_RS_I3', 'CO_RS_I4', 'CO_RS_I5', 'CO_RS_I6', 'CO_RS_I7',\n",
       "       'CO_RS_I8', 'CO_RS_I9', 'QE_I01', 'QE_I02', 'QE_I03', 'QE_I04',\n",
       "       'QE_I05', 'QE_I06', 'QE_I07', 'QE_I08', 'QE_I09', 'QE_I10',\n",
       "       'QE_I11', 'QE_I12', 'QE_I13', 'QE_I14', 'QE_I15', 'QE_I16',\n",
       "       'QE_I17', 'QE_I18', 'QE_I19', 'QE_I20', 'QE_I21', 'QE_I22',\n",
       "       'QE_I23', 'QE_I24', 'QE_I25', 'QE_I26', 'QE_I27', 'QE_I28',\n",
       "       'QE_I29', 'QE_I30', 'QE_I31', 'QE_I32', 'QE_I33', 'QE_I34',\n",
       "       'QE_I35', 'QE_I36', 'QE_I37', 'QE_I38', 'QE_I39', 'QE_I40',\n",
       "       'QE_I41', 'QE_I42', 'QE_I43', 'QE_I44', 'QE_I45', 'QE_I46',\n",
       "       'QE_I47', 'QE_I48', 'QE_I49', 'QE_I50', 'QE_I51', 'QE_I52',\n",
       "       'QE_I53', 'QE_I54', 'QE_I55', 'QE_I56', 'QE_I57', 'QE_I58',\n",
       "       'QE_I59', 'QE_I60', 'QE_I61', 'QE_I62', 'QE_I63', 'QE_I64',\n",
       "       'QE_I65', 'QE_I66', 'QE_I67', 'QE_I68', 'QE_I69', 'QE_I70',\n",
       "       'QE_I71', 'QE_I72', 'QE_I73', 'QE_I74', 'QE_I75', 'QE_I76',\n",
       "       'QE_I77', 'QE_I78', 'QE_I79', 'QE_I80', 'QE_I81', 'NO_CURSO',\n",
       "       'Instituicao', 'Sigla', 'Municipio', 'UF'], dtype=object)"
      ]
     },
     "execution_count": 5,
     "metadata": {},
     "output_type": "execute_result"
    }
   ],
   "source": [
    "df.columns.values"
   ]
  },
  {
   "cell_type": "markdown",
   "metadata": {},
   "source": [
    "### Separando as colunas do questionário do estudante referente a avaliação do curso/infraestrutura"
   ]
  },
  {
   "cell_type": "code",
   "execution_count": 6,
   "metadata": {},
   "outputs": [],
   "source": [
    "# Separando as colunas\n",
    "df_ava = df[['CO_IES', 'Instituicao', 'CO_CURSO', 'NO_CURSO', 'Municipio', 'UF', \n",
    "             'QE_I27', 'QE_I28', 'QE_I29', 'QE_I30', 'QE_I31', 'QE_I32', 'QE_I33', 'QE_I34',\n",
    "             'QE_I35', 'QE_I36', 'QE_I37', 'QE_I38', 'QE_I39', 'QE_I40', 'QE_I41', 'QE_I42', \n",
    "             'QE_I43', 'QE_I44', 'QE_I45', 'QE_I46', 'QE_I47', 'QE_I48', 'QE_I49', 'QE_I50', \n",
    "             'QE_I51', 'QE_I52', 'QE_I53', 'QE_I54', 'QE_I55', 'QE_I56', 'QE_I57', 'QE_I58',\n",
    "             'QE_I59', 'QE_I60', 'QE_I61', 'QE_I62', 'QE_I63', 'QE_I64', 'QE_I65', 'QE_I66', \n",
    "             'QE_I67', 'QE_I68'\n",
    "            ]]"
   ]
  },
  {
   "cell_type": "code",
   "execution_count": 7,
   "metadata": {},
   "outputs": [
    {
     "data": {
      "text/html": [
       "<div>\n",
       "<style scoped>\n",
       "    .dataframe tbody tr th:only-of-type {\n",
       "        vertical-align: middle;\n",
       "    }\n",
       "\n",
       "    .dataframe tbody tr th {\n",
       "        vertical-align: top;\n",
       "    }\n",
       "\n",
       "    .dataframe thead th {\n",
       "        text-align: right;\n",
       "    }\n",
       "</style>\n",
       "<table border=\"1\" class=\"dataframe\">\n",
       "  <thead>\n",
       "    <tr style=\"text-align: right;\">\n",
       "      <th></th>\n",
       "      <th>CO_IES</th>\n",
       "      <th>Instituicao</th>\n",
       "      <th>CO_CURSO</th>\n",
       "      <th>NO_CURSO</th>\n",
       "      <th>Municipio</th>\n",
       "      <th>UF</th>\n",
       "      <th>QE_I27</th>\n",
       "      <th>QE_I28</th>\n",
       "      <th>QE_I29</th>\n",
       "      <th>QE_I30</th>\n",
       "      <th>...</th>\n",
       "      <th>QE_I59</th>\n",
       "      <th>QE_I60</th>\n",
       "      <th>QE_I61</th>\n",
       "      <th>QE_I62</th>\n",
       "      <th>QE_I63</th>\n",
       "      <th>QE_I64</th>\n",
       "      <th>QE_I65</th>\n",
       "      <th>QE_I66</th>\n",
       "      <th>QE_I67</th>\n",
       "      <th>QE_I68</th>\n",
       "    </tr>\n",
       "  </thead>\n",
       "  <tbody>\n",
       "    <tr>\n",
       "      <td>0</td>\n",
       "      <td>2564</td>\n",
       "      <td>UNIVERSIDADE FEDERAL DE CAMPINA GRANDE (UFCG)</td>\n",
       "      <td>13405</td>\n",
       "      <td>HISTÓRIA</td>\n",
       "      <td>Campina Grande</td>\n",
       "      <td>PB</td>\n",
       "      <td>6.0</td>\n",
       "      <td>3.0</td>\n",
       "      <td>6.0</td>\n",
       "      <td>5.0</td>\n",
       "      <td>...</td>\n",
       "      <td>5.0</td>\n",
       "      <td>6.0</td>\n",
       "      <td>4.0</td>\n",
       "      <td>4.0</td>\n",
       "      <td>4.0</td>\n",
       "      <td>5.0</td>\n",
       "      <td>2.0</td>\n",
       "      <td>5.0</td>\n",
       "      <td>4.0</td>\n",
       "      <td>4.0</td>\n",
       "    </tr>\n",
       "    <tr>\n",
       "      <td>1</td>\n",
       "      <td>2564</td>\n",
       "      <td>UNIVERSIDADE FEDERAL DE CAMPINA GRANDE (UFCG)</td>\n",
       "      <td>13405</td>\n",
       "      <td>HISTÓRIA</td>\n",
       "      <td>Campina Grande</td>\n",
       "      <td>PB</td>\n",
       "      <td>6.0</td>\n",
       "      <td>5.0</td>\n",
       "      <td>6.0</td>\n",
       "      <td>4.0</td>\n",
       "      <td>...</td>\n",
       "      <td>4.0</td>\n",
       "      <td>5.0</td>\n",
       "      <td>4.0</td>\n",
       "      <td>3.0</td>\n",
       "      <td>3.0</td>\n",
       "      <td>1.0</td>\n",
       "      <td>2.0</td>\n",
       "      <td>6.0</td>\n",
       "      <td>6.0</td>\n",
       "      <td>4.0</td>\n",
       "    </tr>\n",
       "    <tr>\n",
       "      <td>2</td>\n",
       "      <td>2564</td>\n",
       "      <td>UNIVERSIDADE FEDERAL DE CAMPINA GRANDE (UFCG)</td>\n",
       "      <td>13405</td>\n",
       "      <td>HISTÓRIA</td>\n",
       "      <td>Campina Grande</td>\n",
       "      <td>PB</td>\n",
       "      <td>5.0</td>\n",
       "      <td>5.0</td>\n",
       "      <td>6.0</td>\n",
       "      <td>6.0</td>\n",
       "      <td>...</td>\n",
       "      <td>5.0</td>\n",
       "      <td>6.0</td>\n",
       "      <td>4.0</td>\n",
       "      <td>7.0</td>\n",
       "      <td>7.0</td>\n",
       "      <td>4.0</td>\n",
       "      <td>7.0</td>\n",
       "      <td>5.0</td>\n",
       "      <td>5.0</td>\n",
       "      <td>5.0</td>\n",
       "    </tr>\n",
       "    <tr>\n",
       "      <td>3</td>\n",
       "      <td>2564</td>\n",
       "      <td>UNIVERSIDADE FEDERAL DE CAMPINA GRANDE (UFCG)</td>\n",
       "      <td>13405</td>\n",
       "      <td>HISTÓRIA</td>\n",
       "      <td>Campina Grande</td>\n",
       "      <td>PB</td>\n",
       "      <td>4.0</td>\n",
       "      <td>4.0</td>\n",
       "      <td>4.0</td>\n",
       "      <td>4.0</td>\n",
       "      <td>...</td>\n",
       "      <td>4.0</td>\n",
       "      <td>4.0</td>\n",
       "      <td>3.0</td>\n",
       "      <td>4.0</td>\n",
       "      <td>3.0</td>\n",
       "      <td>3.0</td>\n",
       "      <td>7.0</td>\n",
       "      <td>6.0</td>\n",
       "      <td>4.0</td>\n",
       "      <td>4.0</td>\n",
       "    </tr>\n",
       "    <tr>\n",
       "      <td>4</td>\n",
       "      <td>2564</td>\n",
       "      <td>UNIVERSIDADE FEDERAL DE CAMPINA GRANDE (UFCG)</td>\n",
       "      <td>13405</td>\n",
       "      <td>HISTÓRIA</td>\n",
       "      <td>Campina Grande</td>\n",
       "      <td>PB</td>\n",
       "      <td>3.0</td>\n",
       "      <td>2.0</td>\n",
       "      <td>1.0</td>\n",
       "      <td>1.0</td>\n",
       "      <td>...</td>\n",
       "      <td>1.0</td>\n",
       "      <td>2.0</td>\n",
       "      <td>1.0</td>\n",
       "      <td>1.0</td>\n",
       "      <td>1.0</td>\n",
       "      <td>1.0</td>\n",
       "      <td>1.0</td>\n",
       "      <td>1.0</td>\n",
       "      <td>1.0</td>\n",
       "      <td>1.0</td>\n",
       "    </tr>\n",
       "  </tbody>\n",
       "</table>\n",
       "<p>5 rows × 48 columns</p>\n",
       "</div>"
      ],
      "text/plain": [
       "   CO_IES                                    Instituicao  CO_CURSO  NO_CURSO  \\\n",
       "0    2564  UNIVERSIDADE FEDERAL DE CAMPINA GRANDE (UFCG)     13405  HISTÓRIA   \n",
       "1    2564  UNIVERSIDADE FEDERAL DE CAMPINA GRANDE (UFCG)     13405  HISTÓRIA   \n",
       "2    2564  UNIVERSIDADE FEDERAL DE CAMPINA GRANDE (UFCG)     13405  HISTÓRIA   \n",
       "3    2564  UNIVERSIDADE FEDERAL DE CAMPINA GRANDE (UFCG)     13405  HISTÓRIA   \n",
       "4    2564  UNIVERSIDADE FEDERAL DE CAMPINA GRANDE (UFCG)     13405  HISTÓRIA   \n",
       "\n",
       "        Municipio  UF  QE_I27  QE_I28  QE_I29  QE_I30  ...  QE_I59  QE_I60  \\\n",
       "0  Campina Grande  PB     6.0     3.0     6.0     5.0  ...     5.0     6.0   \n",
       "1  Campina Grande  PB     6.0     5.0     6.0     4.0  ...     4.0     5.0   \n",
       "2  Campina Grande  PB     5.0     5.0     6.0     6.0  ...     5.0     6.0   \n",
       "3  Campina Grande  PB     4.0     4.0     4.0     4.0  ...     4.0     4.0   \n",
       "4  Campina Grande  PB     3.0     2.0     1.0     1.0  ...     1.0     2.0   \n",
       "\n",
       "   QE_I61  QE_I62  QE_I63  QE_I64  QE_I65  QE_I66  QE_I67  QE_I68  \n",
       "0     4.0     4.0     4.0     5.0     2.0     5.0     4.0     4.0  \n",
       "1     4.0     3.0     3.0     1.0     2.0     6.0     6.0     4.0  \n",
       "2     4.0     7.0     7.0     4.0     7.0     5.0     5.0     5.0  \n",
       "3     3.0     4.0     3.0     3.0     7.0     6.0     4.0     4.0  \n",
       "4     1.0     1.0     1.0     1.0     1.0     1.0     1.0     1.0  \n",
       "\n",
       "[5 rows x 48 columns]"
      ]
     },
     "execution_count": 7,
     "metadata": {},
     "output_type": "execute_result"
    }
   ],
   "source": [
    "# Exibindo o dataframe resultante\n",
    "df_ava.head()"
   ]
  },
  {
   "cell_type": "code",
   "execution_count": 8,
   "metadata": {},
   "outputs": [],
   "source": [
    "# Removendo os dados faltantes\n",
    "df_ava = df_ava.dropna()"
   ]
  },
  {
   "cell_type": "code",
   "execution_count": 9,
   "metadata": {},
   "outputs": [
    {
     "name": "stdout",
     "output_type": "stream",
     "text": [
      "<class 'pandas.core.frame.DataFrame'>\n",
      "Int64Index: 1696 entries, 0 to 1756\n",
      "Data columns (total 48 columns):\n",
      "CO_IES         1696 non-null int64\n",
      "Instituicao    1696 non-null object\n",
      "CO_CURSO       1696 non-null int64\n",
      "NO_CURSO       1696 non-null object\n",
      "Municipio      1696 non-null object\n",
      "UF             1696 non-null object\n",
      "QE_I27         1696 non-null float64\n",
      "QE_I28         1696 non-null float64\n",
      "QE_I29         1696 non-null float64\n",
      "QE_I30         1696 non-null float64\n",
      "QE_I31         1696 non-null float64\n",
      "QE_I32         1696 non-null float64\n",
      "QE_I33         1696 non-null float64\n",
      "QE_I34         1696 non-null float64\n",
      "QE_I35         1696 non-null float64\n",
      "QE_I36         1696 non-null float64\n",
      "QE_I37         1696 non-null float64\n",
      "QE_I38         1696 non-null float64\n",
      "QE_I39         1696 non-null float64\n",
      "QE_I40         1696 non-null float64\n",
      "QE_I41         1696 non-null float64\n",
      "QE_I42         1696 non-null float64\n",
      "QE_I43         1696 non-null float64\n",
      "QE_I44         1696 non-null float64\n",
      "QE_I45         1696 non-null float64\n",
      "QE_I46         1696 non-null float64\n",
      "QE_I47         1696 non-null float64\n",
      "QE_I48         1696 non-null float64\n",
      "QE_I49         1696 non-null float64\n",
      "QE_I50         1696 non-null float64\n",
      "QE_I51         1696 non-null float64\n",
      "QE_I52         1696 non-null float64\n",
      "QE_I53         1696 non-null float64\n",
      "QE_I54         1696 non-null float64\n",
      "QE_I55         1696 non-null float64\n",
      "QE_I56         1696 non-null float64\n",
      "QE_I57         1696 non-null float64\n",
      "QE_I58         1696 non-null float64\n",
      "QE_I59         1696 non-null float64\n",
      "QE_I60         1696 non-null float64\n",
      "QE_I61         1696 non-null float64\n",
      "QE_I62         1696 non-null float64\n",
      "QE_I63         1696 non-null float64\n",
      "QE_I64         1696 non-null float64\n",
      "QE_I65         1696 non-null float64\n",
      "QE_I66         1696 non-null float64\n",
      "QE_I67         1696 non-null float64\n",
      "QE_I68         1696 non-null float64\n",
      "dtypes: float64(42), int64(2), object(4)\n",
      "memory usage: 649.2+ KB\n"
     ]
    }
   ],
   "source": [
    "# Informações do dataframe\n",
    "df_ava.info()"
   ]
  },
  {
   "cell_type": "markdown",
   "metadata": {},
   "source": [
    "As variáveis **QE_I27** a **QE_I68** foram marcadas conforme o grau de concordância do aluno para cada assertiva, segundo a escala que varia de 1 (discordância total) a 6 (concordância total). A resposta 7 foi marcada quando julgado \"não ter elementos para avaliar a assertiva\" e resposta 8 para quando \"considerar não pertinente ao curso\".\n",
    "\n",
    "    1 = Discordo Totalmente\n",
    "    2\n",
    "    3\n",
    "    4\n",
    "    5\n",
    "    6 = Concordo Totalmente\n",
    "    7 = Não sei responder.\n",
    "    8 = Não se aplica."
   ]
  },
  {
   "cell_type": "markdown",
   "metadata": {},
   "source": [
    "**QE_I27** - As disciplinas cursadas contribuíram para sua formação integral, como cidadão e profissional?"
   ]
  },
  {
   "cell_type": "code",
   "execution_count": 73,
   "metadata": {},
   "outputs": [
    {
     "name": "stdout",
     "output_type": "stream",
     "text": [
      "\n",
      "\u001b[1mQE_I27\u001b[0m- As disciplinas cursadas contribuíram para sua \n",
      "formação integral, como cidadão e profissional?\n"
     ]
    },
    {
     "data": {
      "image/png": "[encoded data removed]",
      "text/plain": [
       "<Figure size 432x432 with 1 Axes>"
      ]
     },
     "metadata": {
      "needs_background": "light"
     },
     "output_type": "display_data"
    }
   ],
   "source": [
    "# Imprimindo o texto do item\n",
    "print('\\n\\033[1m' + 'QE_I27' + '\\033[0m' + '- As disciplinas cursadas contribuíram' +\n",
    "      ' para sua \\nformação integral, como cidadão e profissional?')\n",
    "\n",
    "# Definindo o tamanho da figura\n",
    "fig, ax = plt.subplots(figsize=(6,6))\n",
    "\n",
    "# Criando dataframe com o percentual de cada resposta\n",
    "qe_i27 = pd.DataFrame(df_ava.QE_I27.value_counts()/df_ava.QE_I27.count()*100).reset_index()\n",
    "\n",
    "# Definindo o nome das colunas\n",
    "qe_i27.columns = ['QE_I27', 'PERCENT']\n",
    "\n",
    "# Gerando a figura\n",
    "ax = sns.barplot('PERCENT', 'QE_I27', data=qe_i27, orient = 'h')\n",
    "\n",
    "# Definindo o nome do eixo horizontal\n",
    "ax.set_xlabel('Percentual de respostas', fontsize=15)\n",
    "\n",
    "# Definindo o nome do eixo vertical\n",
    "ax.set_ylabel('Concordância', fontsize=15)\n",
    "\n",
    "\n",
    "# Formatando o eixo vertical como percentagem\n",
    "ax.xaxis.set_major_formatter(mtick.PercentFormatter()) \n",
    "\n",
    "# Alterando o xticklabels\n",
    "ylabels = ['Discordo totalmente', '2', '3', '4', '5', 'Concordo totalmente','Não sei responder',\n",
    "           'Não se aplica']\n",
    "ax.set_yticklabels(ylabels, rotation=0)\n",
    "\n",
    "# Exibindo a figura sem mensagem de retorno\n",
    "plt.show()"
   ]
  },
  {
   "cell_type": "markdown",
   "metadata": {},
   "source": [
    "**QE_I28** - Os conteúdos abordados nas disciplinas do curso favoreceram sua atuação em estágios ou em atividades de iniciação profissional?"
   ]
  },
  {
   "cell_type": "code",
   "execution_count": 76,
   "metadata": {
    "scrolled": false
   },
   "outputs": [
    {
     "name": "stdout",
     "output_type": "stream",
     "text": [
      "\n",
      "\u001b[1mQE_I28\u001b[0m- Os conteúdos abordados nas disciplinas do curso\n",
      "favoreceram sua atuação em estágios ou em atividades de \n",
      "iniciação profissional?\n"
     ]
    },
    {
     "data": {
      "image/png": "[encoded data removed]",
      "text/plain": [
       "<Figure size 432x432 with 1 Axes>"
      ]
     },
     "metadata": {
      "needs_background": "light"
     },
     "output_type": "display_data"
    }
   ],
   "source": [
    "# Imprimindo o texto do item\n",
    "print('\\n\\033[1m' + 'QE_I28' + '\\033[0m' + '- Os conteúdos abordados nas disciplinas do curso' + \n",
    "      '\\nfavoreceram sua atuação em estágios ou em atividades de \\niniciação profissional?')\n",
    "\n",
    "# Definindo o tamanho da figura\n",
    "fig, ax = plt.subplots(figsize=(6,6))\n",
    "\n",
    "# Criando dataframe com o percentual de cada resposta\n",
    "qe_i28 = pd.DataFrame(df_ava.QE_I28.value_counts()/df_ava.QE_I28.count()*100).reset_index()\n",
    "\n",
    "# Definindo o nome das colunas\n",
    "qe_i28.columns = ['QE_I28', 'PERCENT']\n",
    "\n",
    "# Gerando a figura\n",
    "ax = sns.barplot('PERCENT', 'QE_I28', data=qe_i28, orient = 'h')\n",
    "\n",
    "# Definindo o nome do eixo horizontal\n",
    "ax.set_xlabel('Percentual de respostas', fontsize=15)\n",
    "\n",
    "# Definindo o nome do eixo vertical\n",
    "ax.set_ylabel('Concordância', fontsize=15)\n",
    "\n",
    "\n",
    "# Formatando o eixo vertical como percentagem\n",
    "ax.xaxis.set_major_formatter(mtick.PercentFormatter()) \n",
    "\n",
    "# Alterando o xticklabels\n",
    "ylabels = ['Discordo totalmente', '2', '3', '4', '5', 'Concordo totalmente','Não sei responder',\n",
    "           'Não se aplica']\n",
    "ax.set_yticklabels(ylabels, rotation=0)\n",
    "\n",
    "# Exibindo a figura sem mensagem de retorno\n",
    "plt.show()"
   ]
  },
  {
   "cell_type": "markdown",
   "metadata": {},
   "source": [
    "**QE_I61** - As condições de infraestrutura das salas de aula foram adequadas."
   ]
  },
  {
   "cell_type": "code",
   "execution_count": 74,
   "metadata": {},
   "outputs": [
    {
     "name": "stdout",
     "output_type": "stream",
     "text": [
      "\n",
      "\u001b[1mQE_I61\u001b[0m- As condições de infraestrutura das salas de aula foram adequadas?\n"
     ]
    },
    {
     "data": {
      "image/png": "[encoded data removed]",
      "text/plain": [
       "<Figure size 432x432 with 1 Axes>"
      ]
     },
     "metadata": {
      "needs_background": "light"
     },
     "output_type": "display_data"
    }
   ],
   "source": [
    "# Imprimindo o texto do item\n",
    "print('\\n\\033[1m' + 'QE_I61' + '\\033[0m' + '- As condições de infraestrutura das salas de aula foram adequadas?')\n",
    "\n",
    "# Definindo o tamanho da figura\n",
    "fig, ax = plt.subplots(figsize=(6,6))\n",
    "\n",
    "# Criando dataframe com o percentual de cada resposta\n",
    "qe_i61 = pd.DataFrame(df_ava.QE_I61.value_counts()/df_ava.QE_I61.count()*100).reset_index()\n",
    "\n",
    "# Definindo o nome das colunas\n",
    "qe_i61.columns = ['QE_I61', 'PERCENT']\n",
    "\n",
    "# Gerando a figura\n",
    "ax = sns.barplot('PERCENT', 'QE_I61', data=qe_i61, orient = 'h')\n",
    "\n",
    "# Definindo o nome do eixo horizontal\n",
    "ax.set_xlabel('Percentual de respostas', fontsize=15)\n",
    "\n",
    "# Definindo o nome do eixo vertical\n",
    "ax.set_ylabel('Concordância', fontsize=15)\n",
    "\n",
    "\n",
    "# Formatando o eixo vertical como percentagem\n",
    "ax.xaxis.set_major_formatter(mtick.PercentFormatter()) \n",
    "\n",
    "# Alterando o xticklabels\n",
    "ylabels = ['Discordo totalmente', '2', '3', '4', '5', 'Concordo totalmente','Não sei responder',\n",
    "           'Não se aplica']\n",
    "ax.set_yticklabels(ylabels, rotation=0)\n",
    "\n",
    "# Exibindo a figura sem mensagem de retorno\n",
    "plt.show()"
   ]
  },
  {
   "cell_type": "markdown",
   "metadata": {},
   "source": [
    "**QE_I64** - A biblioteca dispôs das referências bibliográficas que os estudantes necessitaram?"
   ]
  },
  {
   "cell_type": "code",
   "execution_count": 70,
   "metadata": {},
   "outputs": [
    {
     "name": "stdout",
     "output_type": "stream",
     "text": [
      "\n",
      "\u001b[1mQE_I64\u001b[0m- A biblioteca dispôs das referências bibliográficas\n",
      "que os estudantes necessitaram?\n"
     ]
    },
    {
     "data": {
      "image/png": "[encoded data removed]",
      "text/plain": [
       "<Figure size 432x432 with 1 Axes>"
      ]
     },
     "metadata": {
      "needs_background": "light"
     },
     "output_type": "display_data"
    }
   ],
   "source": [
    "# Imprimindo o texto do item\n",
    "print('\\n\\033[1m' + 'QE_I64' + '\\033[0m' + '- A biblioteca dispôs das referências bibliográficas' +\n",
    "      '\\nque os estudantes necessitaram?')\n",
    "\n",
    "# Definindo o tamanho da figura\n",
    "fig, ax = plt.subplots(figsize=(6,6))\n",
    "\n",
    "# Criando dataframe com o percentual de cada resposta\n",
    "qe_i64 = pd.DataFrame(df_ava.QE_I61.value_counts()/df_ava.QE_I61.count()*100).reset_index()\n",
    "\n",
    "# Definindo o nome das colunas\n",
    "qe_i64.columns = ['QE_I64', 'PERCENT']\n",
    "\n",
    "# Gerando a figura\n",
    "ax = sns.barplot('PERCENT', 'QE_I64', data=qe_i64, orient = 'h')\n",
    "\n",
    "# Definindo o nome do eixo horizontal\n",
    "ax.set_xlabel('Percentual de respostas', fontsize=15)\n",
    "\n",
    "# Definindo o nome do eixo vertical\n",
    "ax.set_ylabel('Concordância', fontsize=15)\n",
    "\n",
    "\n",
    "# Formatando o eixo vertical como percentagem\n",
    "ax.xaxis.set_major_formatter(mtick.PercentFormatter()) \n",
    "\n",
    "# Alterando o xticklabels\n",
    "ylabels = ['Discordo totalmente', '2', '3', '4', '5', 'Concordo totalmente','Não sei responder',\n",
    "           'Não se aplica']\n",
    "ax.set_yticklabels(ylabels, rotation=0)\n",
    "\n",
    "# Exibindo a figura sem mensagem de retorno\n",
    "plt.show()"
   ]
  },
  {
   "cell_type": "markdown",
   "metadata": {},
   "source": [
    "**QE_I68** - A instituição dispôs de refeitório, cantina e banheiros em condições adequadas que atenderam as necessidades dos seus usuários?"
   ]
  },
  {
   "cell_type": "code",
   "execution_count": 62,
   "metadata": {},
   "outputs": [
    {
     "name": "stdout",
     "output_type": "stream",
     "text": [
      "\n",
      "\u001b[1mQE_I68\u001b[0m- A instituição dispôs de refeitório, cantina e banheiros\n",
      "em condições adequadas que atenderam as necessidades dos seus usuários?\n"
     ]
    },
    {
     "data": {
      "image/png": "[encoded data removed]",
      "text/plain": [
       "<Figure size 432x432 with 1 Axes>"
      ]
     },
     "metadata": {
      "needs_background": "light"
     },
     "output_type": "display_data"
    }
   ],
   "source": [
    "# Imprimindo o texto do item\n",
    "print('\\n\\033[1m' + 'QE_I68' + '\\033[0m' + '- A instituição dispôs de refeitório, cantina e banheiros' +\n",
    "      '\\nem condições adequadas que atenderam as necessidades dos seus usuários?')\n",
    "\n",
    "# Definindo o tamanho da figura\n",
    "fig, ax = plt.subplots(figsize=(6,6))\n",
    "\n",
    "# Criando dataframe com o percentual de cada resposta\n",
    "qe_i68 = pd.DataFrame(df_ava.QE_I68.value_counts()/df_ava.QE_I68.count()*100).reset_index()\n",
    "\n",
    "# Definindo o nome das colunas\n",
    "qe_i68.columns = ['QE_I68', 'PERCENT']\n",
    "\n",
    "# Gerando a figura\n",
    "ax = sns.barplot('PERCENT', 'QE_I68', data=qe_i68, orient = 'h')\n",
    "\n",
    "# Definindo o nome do eixo horizontal\n",
    "ax.set_xlabel('Percentual de respostas', fontsize=15)\n",
    "\n",
    "# Definindo o nome do eixo vertical\n",
    "ax.set_ylabel('Concordância', fontsize=15)\n",
    "\n",
    "\n",
    "# Formatando o eixo vertical como percentagem\n",
    "ax.xaxis.set_major_formatter(mtick.PercentFormatter()) \n",
    "\n",
    "# Alterando o xticklabels\n",
    "ylabels = ['Discordo totalmente', '2', '3', '4', '5', 'Concordo totalmente','Não sei responder',\n",
    "           'Não se aplica']\n",
    "ax.set_yticklabels(ylabels, rotation=0)\n",
    "\n",
    "# Exibindo a figura sem mensagem de retorno\n",
    "plt.show()"
   ]
  },
  {
   "cell_type": "code",
   "execution_count": null,
   "metadata": {},
   "outputs": [],
   "source": []
  }
 ],
 "metadata": {
  "kernelspec": {
   "display_name": "Python 3",
   "language": "python",
   "name": "python3"
  },
  "language_info": {
   "codemirror_mode": {
    "name": "ipython",
    "version": 3
   },
   "file_extension": ".py",
   "mimetype": "text/x-python",
   "name": "python",
   "nbconvert_exporter": "python",
   "pygments_lexer": "ipython3",
   "version": "3.7.4"
  }
 },
 "nbformat": 4,
 "nbformat_minor": 2
}
