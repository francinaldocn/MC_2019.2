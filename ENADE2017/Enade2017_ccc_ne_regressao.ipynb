{
 "cells": [
  {
   "cell_type": "markdown",
   "metadata": {},
   "source": [
    "# ENADE 2017\n",
    "\n",
    "Dados do curso de Bacharelado em Ciência da Computação das Universidades/Faculdades da Região Nordeste"
   ]
  },
  {
   "cell_type": "markdown",
   "metadata": {},
   "source": [
    "**Como é calculada a nota do ENADE?**\n",
    "\n",
    "Para calcular a nota do ENADE, são tiradas separadamente as médias das notas dos estudantes na prova de Formação Geral e na de Componente Específico. Em seguida, é calculada uma média ponderada entre esses dois valores, sendo atribuído peso 1 ao primeiro e 3 ao segundo.\n",
    "\n",
    "As médias obtidas pelos alunos são então padronizadas, de acordo com a média brasileira e o desvio padrão, em conceitos que vão de 1 a 5. Sendo atribuído o conceito 3 aos cursos que estão na média ou próximos a ela, 1 e 2 aos que estão abaixo e 4 e 5 aos que estão acima.\n",
    "\n",
    "Dessa forma, **a nota do ENADE é sempre um valor relativo**, ou seja, aponta para uma **comparação entre o curso da instituição de ensino superior observada e os cursos restantes daquela área no país**"
   ]
  },
  {
   "cell_type": "markdown",
   "metadata": {},
   "source": [
    "### Carregando as bibliotecas necessárias"
   ]
  },
  {
   "cell_type": "code",
   "execution_count": 1,
   "metadata": {},
   "outputs": [],
   "source": [
    "# Biblioteca científica\n",
    "import numpy as np\n",
    "# Biblioteca para análise de dados\n",
    "import pandas as pd\n",
    "# Suprimindo os warnings da biblioteca pandas\n",
    "pd.options.mode.chained_assignment = None\n",
    "# Bibliotecas de visualização de dados\n",
    "import matplotlib.pyplot as plt\n",
    "import matplotlib.patches as mpatches\n",
    "import matplotlib.ticker as mtick\n",
    "plt.style.use('ggplot')\n",
    "import seaborn as sns\n",
    "sns.set_style('whitegrid')\n",
    "%matplotlib inline"
   ]
  },
  {
   "cell_type": "markdown",
   "metadata": {},
   "source": [
    "### Carregando e verificando os dados"
   ]
  },
  {
   "cell_type": "code",
   "execution_count": 2,
   "metadata": {},
   "outputs": [],
   "source": [
    "# Dados do Exame Nacional de Desempenho dos Estudantes - 2017 (Curso de computação do nordeste)\n",
    "df = pd.read_csv('dados/enade2017_computacao_ne_clean.csv')"
   ]
  },
  {
   "cell_type": "code",
   "execution_count": 3,
   "metadata": {
    "scrolled": false
   },
   "outputs": [
    {
     "data": {
      "text/html": [
       "<div>\n",
       "<style scoped>\n",
       "    .dataframe tbody tr th:only-of-type {\n",
       "        vertical-align: middle;\n",
       "    }\n",
       "\n",
       "    .dataframe tbody tr th {\n",
       "        vertical-align: top;\n",
       "    }\n",
       "\n",
       "    .dataframe thead th {\n",
       "        text-align: right;\n",
       "    }\n",
       "</style>\n",
       "<table border=\"1\" class=\"dataframe\">\n",
       "  <thead>\n",
       "    <tr style=\"text-align: right;\">\n",
       "      <th></th>\n",
       "      <th>CO_IES</th>\n",
       "      <th>Instituicao</th>\n",
       "      <th>CO_CATEGAD</th>\n",
       "      <th>CO_CURSO</th>\n",
       "      <th>NO_CURSO</th>\n",
       "      <th>Municipio</th>\n",
       "      <th>UF</th>\n",
       "      <th>TP_SEXO</th>\n",
       "      <th>NU_IDADE</th>\n",
       "      <th>QE_I01</th>\n",
       "      <th>...</th>\n",
       "      <th>QE_I17</th>\n",
       "      <th>QE_I18</th>\n",
       "      <th>QE_I19</th>\n",
       "      <th>QE_I20</th>\n",
       "      <th>QE_I21</th>\n",
       "      <th>QE_I22</th>\n",
       "      <th>QE_I24</th>\n",
       "      <th>QE_I25</th>\n",
       "      <th>QE_I26</th>\n",
       "      <th>NT_GER</th>\n",
       "    </tr>\n",
       "  </thead>\n",
       "  <tbody>\n",
       "    <tr>\n",
       "      <td>0</td>\n",
       "      <td>548</td>\n",
       "      <td>UNIVERSIDADE FEDERAL DO MARANHÃO (UFMA)</td>\n",
       "      <td>1</td>\n",
       "      <td>11452</td>\n",
       "      <td>CIÊNCIA DA COMPUTAÇÃO</td>\n",
       "      <td>São Luís</td>\n",
       "      <td>MA</td>\n",
       "      <td>M</td>\n",
       "      <td>27</td>\n",
       "      <td>D</td>\n",
       "      <td>...</td>\n",
       "      <td>A</td>\n",
       "      <td>A</td>\n",
       "      <td>A</td>\n",
       "      <td>A</td>\n",
       "      <td>A</td>\n",
       "      <td>D</td>\n",
       "      <td>A</td>\n",
       "      <td>A</td>\n",
       "      <td>A</td>\n",
       "      <td>45.0</td>\n",
       "    </tr>\n",
       "    <tr>\n",
       "      <td>1</td>\n",
       "      <td>548</td>\n",
       "      <td>UNIVERSIDADE FEDERAL DO MARANHÃO (UFMA)</td>\n",
       "      <td>1</td>\n",
       "      <td>11452</td>\n",
       "      <td>CIÊNCIA DA COMPUTAÇÃO</td>\n",
       "      <td>São Luís</td>\n",
       "      <td>MA</td>\n",
       "      <td>F</td>\n",
       "      <td>22</td>\n",
       "      <td>E</td>\n",
       "      <td>...</td>\n",
       "      <td>A</td>\n",
       "      <td>A</td>\n",
       "      <td>A</td>\n",
       "      <td>B</td>\n",
       "      <td>D</td>\n",
       "      <td>A</td>\n",
       "      <td>A</td>\n",
       "      <td>B</td>\n",
       "      <td>F</td>\n",
       "      <td>48.0</td>\n",
       "    </tr>\n",
       "    <tr>\n",
       "      <td>2</td>\n",
       "      <td>548</td>\n",
       "      <td>UNIVERSIDADE FEDERAL DO MARANHÃO (UFMA)</td>\n",
       "      <td>1</td>\n",
       "      <td>11452</td>\n",
       "      <td>CIÊNCIA DA COMPUTAÇÃO</td>\n",
       "      <td>São Luís</td>\n",
       "      <td>MA</td>\n",
       "      <td>M</td>\n",
       "      <td>27</td>\n",
       "      <td>B</td>\n",
       "      <td>...</td>\n",
       "      <td>B</td>\n",
       "      <td>A</td>\n",
       "      <td>A</td>\n",
       "      <td>A</td>\n",
       "      <td>A</td>\n",
       "      <td>A</td>\n",
       "      <td>B</td>\n",
       "      <td>A</td>\n",
       "      <td>A</td>\n",
       "      <td>55.0</td>\n",
       "    </tr>\n",
       "    <tr>\n",
       "      <td>3</td>\n",
       "      <td>548</td>\n",
       "      <td>UNIVERSIDADE FEDERAL DO MARANHÃO (UFMA)</td>\n",
       "      <td>1</td>\n",
       "      <td>11452</td>\n",
       "      <td>CIÊNCIA DA COMPUTAÇÃO</td>\n",
       "      <td>São Luís</td>\n",
       "      <td>MA</td>\n",
       "      <td>M</td>\n",
       "      <td>32</td>\n",
       "      <td>D</td>\n",
       "      <td>...</td>\n",
       "      <td>B</td>\n",
       "      <td>A</td>\n",
       "      <td>A</td>\n",
       "      <td>A</td>\n",
       "      <td>A</td>\n",
       "      <td>B</td>\n",
       "      <td>B</td>\n",
       "      <td>A</td>\n",
       "      <td>B</td>\n",
       "      <td>23.0</td>\n",
       "    </tr>\n",
       "    <tr>\n",
       "      <td>4</td>\n",
       "      <td>548</td>\n",
       "      <td>UNIVERSIDADE FEDERAL DO MARANHÃO (UFMA)</td>\n",
       "      <td>1</td>\n",
       "      <td>11452</td>\n",
       "      <td>CIÊNCIA DA COMPUTAÇÃO</td>\n",
       "      <td>São Luís</td>\n",
       "      <td>MA</td>\n",
       "      <td>M</td>\n",
       "      <td>25</td>\n",
       "      <td>B</td>\n",
       "      <td>...</td>\n",
       "      <td>A</td>\n",
       "      <td>A</td>\n",
       "      <td>A</td>\n",
       "      <td>E</td>\n",
       "      <td>B</td>\n",
       "      <td>B</td>\n",
       "      <td>A</td>\n",
       "      <td>A</td>\n",
       "      <td>B</td>\n",
       "      <td>54.0</td>\n",
       "    </tr>\n",
       "  </tbody>\n",
       "</table>\n",
       "<p>5 rows × 33 columns</p>\n",
       "</div>"
      ],
      "text/plain": [
       "   CO_IES                              Instituicao  CO_CATEGAD  CO_CURSO  \\\n",
       "0     548  UNIVERSIDADE FEDERAL DO MARANHÃO (UFMA)           1     11452   \n",
       "1     548  UNIVERSIDADE FEDERAL DO MARANHÃO (UFMA)           1     11452   \n",
       "2     548  UNIVERSIDADE FEDERAL DO MARANHÃO (UFMA)           1     11452   \n",
       "3     548  UNIVERSIDADE FEDERAL DO MARANHÃO (UFMA)           1     11452   \n",
       "4     548  UNIVERSIDADE FEDERAL DO MARANHÃO (UFMA)           1     11452   \n",
       "\n",
       "                NO_CURSO Municipio  UF TP_SEXO  NU_IDADE QE_I01  ... QE_I17  \\\n",
       "0  CIÊNCIA DA COMPUTAÇÃO  São Luís  MA       M        27      D  ...      A   \n",
       "1  CIÊNCIA DA COMPUTAÇÃO  São Luís  MA       F        22      E  ...      A   \n",
       "2  CIÊNCIA DA COMPUTAÇÃO  São Luís  MA       M        27      B  ...      B   \n",
       "3  CIÊNCIA DA COMPUTAÇÃO  São Luís  MA       M        32      D  ...      B   \n",
       "4  CIÊNCIA DA COMPUTAÇÃO  São Luís  MA       M        25      B  ...      A   \n",
       "\n",
       "  QE_I18 QE_I19 QE_I20 QE_I21 QE_I22 QE_I24 QE_I25 QE_I26 NT_GER  \n",
       "0      A      A      A      A      D      A      A      A   45.0  \n",
       "1      A      A      B      D      A      A      B      F   48.0  \n",
       "2      A      A      A      A      A      B      A      A   55.0  \n",
       "3      A      A      A      A      B      B      A      B   23.0  \n",
       "4      A      A      E      B      B      A      A      B   54.0  \n",
       "\n",
       "[5 rows x 33 columns]"
      ]
     },
     "execution_count": 3,
     "metadata": {},
     "output_type": "execute_result"
    }
   ],
   "source": [
    "# Exibindo o cabeçalho do dataframe\n",
    "df.head()"
   ]
  },
  {
   "cell_type": "code",
   "execution_count": 4,
   "metadata": {},
   "outputs": [
    {
     "name": "stdout",
     "output_type": "stream",
     "text": [
      "O dataframe é composto por 1427 linhas e 33 colunas\n"
     ]
    }
   ],
   "source": [
    "# Tamanho do dataframe\n",
    "print('O dataframe é composto por', df.shape[0], 'linhas e', df.shape[1], 'colunas')"
   ]
  },
  {
   "cell_type": "code",
   "execution_count": 5,
   "metadata": {
    "scrolled": false
   },
   "outputs": [
    {
     "name": "stdout",
     "output_type": "stream",
     "text": [
      "<class 'pandas.core.frame.DataFrame'>\n",
      "RangeIndex: 1427 entries, 0 to 1426\n",
      "Data columns (total 33 columns):\n",
      "CO_IES         1427 non-null int64\n",
      "Instituicao    1427 non-null object\n",
      "CO_CATEGAD     1427 non-null int64\n",
      "CO_CURSO       1427 non-null int64\n",
      "NO_CURSO       1427 non-null object\n",
      "Municipio      1427 non-null object\n",
      "UF             1427 non-null object\n",
      "TP_SEXO        1427 non-null object\n",
      "NU_IDADE       1427 non-null int64\n",
      "QE_I01         1427 non-null object\n",
      "QE_I02         1427 non-null object\n",
      "QE_I04         1427 non-null object\n",
      "QE_I05         1427 non-null object\n",
      "QE_I06         1427 non-null object\n",
      "QE_I07         1427 non-null object\n",
      "QE_I08         1427 non-null object\n",
      "QE_I09         1427 non-null object\n",
      "QE_I10         1427 non-null object\n",
      "QE_I11         1427 non-null object\n",
      "QE_I12         1427 non-null object\n",
      "QE_I13         1427 non-null object\n",
      "QE_I14         1427 non-null object\n",
      "QE_I15         1427 non-null object\n",
      "QE_I17         1427 non-null object\n",
      "QE_I18         1427 non-null object\n",
      "QE_I19         1427 non-null object\n",
      "QE_I20         1427 non-null object\n",
      "QE_I21         1427 non-null object\n",
      "QE_I22         1427 non-null object\n",
      "QE_I24         1427 non-null object\n",
      "QE_I25         1427 non-null object\n",
      "QE_I26         1427 non-null object\n",
      "NT_GER         1427 non-null float64\n",
      "dtypes: float64(1), int64(4), object(28)\n",
      "memory usage: 368.0+ KB\n"
     ]
    }
   ],
   "source": [
    "# Exibindo as informações do dataframe\n",
    "df.info()"
   ]
  },
  {
   "cell_type": "code",
   "execution_count": 6,
   "metadata": {},
   "outputs": [
    {
     "data": {
      "text/html": [
       "<div>\n",
       "<style scoped>\n",
       "    .dataframe tbody tr th:only-of-type {\n",
       "        vertical-align: middle;\n",
       "    }\n",
       "\n",
       "    .dataframe tbody tr th {\n",
       "        vertical-align: top;\n",
       "    }\n",
       "\n",
       "    .dataframe thead th {\n",
       "        text-align: right;\n",
       "    }\n",
       "</style>\n",
       "<table border=\"1\" class=\"dataframe\">\n",
       "  <thead>\n",
       "    <tr style=\"text-align: right;\">\n",
       "      <th></th>\n",
       "      <th>count</th>\n",
       "      <th>mean</th>\n",
       "      <th>std</th>\n",
       "      <th>min</th>\n",
       "      <th>25%</th>\n",
       "      <th>50%</th>\n",
       "      <th>75%</th>\n",
       "      <th>max</th>\n",
       "    </tr>\n",
       "  </thead>\n",
       "  <tbody>\n",
       "    <tr>\n",
       "      <td>CO_CATEGAD</td>\n",
       "      <td>1427</td>\n",
       "      <td>3</td>\n",
       "      <td>2</td>\n",
       "      <td>1</td>\n",
       "      <td>1</td>\n",
       "      <td>2</td>\n",
       "      <td>4</td>\n",
       "      <td>7</td>\n",
       "    </tr>\n",
       "    <tr>\n",
       "      <td>NU_IDADE</td>\n",
       "      <td>1427</td>\n",
       "      <td>25</td>\n",
       "      <td>4</td>\n",
       "      <td>20</td>\n",
       "      <td>23</td>\n",
       "      <td>24</td>\n",
       "      <td>27</td>\n",
       "      <td>54</td>\n",
       "    </tr>\n",
       "    <tr>\n",
       "      <td>NT_GER</td>\n",
       "      <td>1427</td>\n",
       "      <td>44</td>\n",
       "      <td>13</td>\n",
       "      <td>8</td>\n",
       "      <td>34</td>\n",
       "      <td>43</td>\n",
       "      <td>52</td>\n",
       "      <td>83</td>\n",
       "    </tr>\n",
       "  </tbody>\n",
       "</table>\n",
       "</div>"
      ],
      "text/plain": [
       "           count mean std min 25% 50% 75% max\n",
       "CO_CATEGAD  1427    3   2   1   1   2   4   7\n",
       "NU_IDADE    1427   25   4  20  23  24  27  54\n",
       "NT_GER      1427   44  13   8  34  43  52  83"
      ]
     },
     "execution_count": 6,
     "metadata": {},
     "output_type": "execute_result"
    }
   ],
   "source": [
    "# Descrevendo as variáveis numéricas\n",
    "desc_int = df.drop(['CO_IES', 'CO_CURSO'], axis=1).describe(include=[np.number])\n",
    "desc_int.loc['count'] = desc_int.loc['count'].astype(int).astype(str)\n",
    "desc_int.iloc[1:] = desc_int.iloc[1:].applymap('{:.0f}'.format)\n",
    "desc_int.T"
   ]
  },
  {
   "cell_type": "code",
   "execution_count": 7,
   "metadata": {},
   "outputs": [
    {
     "data": {
      "text/html": [
       "<div>\n",
       "<style scoped>\n",
       "    .dataframe tbody tr th:only-of-type {\n",
       "        vertical-align: middle;\n",
       "    }\n",
       "\n",
       "    .dataframe tbody tr th {\n",
       "        vertical-align: top;\n",
       "    }\n",
       "\n",
       "    .dataframe thead th {\n",
       "        text-align: right;\n",
       "    }\n",
       "</style>\n",
       "<table border=\"1\" class=\"dataframe\">\n",
       "  <thead>\n",
       "    <tr style=\"text-align: right;\">\n",
       "      <th></th>\n",
       "      <th>count</th>\n",
       "      <th>unique</th>\n",
       "      <th>top</th>\n",
       "      <th>freq</th>\n",
       "    </tr>\n",
       "  </thead>\n",
       "  <tbody>\n",
       "    <tr>\n",
       "      <td>TP_SEXO</td>\n",
       "      <td>1427</td>\n",
       "      <td>2</td>\n",
       "      <td>M</td>\n",
       "      <td>1254</td>\n",
       "    </tr>\n",
       "    <tr>\n",
       "      <td>QE_I01</td>\n",
       "      <td>1427</td>\n",
       "      <td>5</td>\n",
       "      <td>C</td>\n",
       "      <td>785</td>\n",
       "    </tr>\n",
       "    <tr>\n",
       "      <td>QE_I02</td>\n",
       "      <td>1427</td>\n",
       "      <td>5</td>\n",
       "      <td>B</td>\n",
       "      <td>769</td>\n",
       "    </tr>\n",
       "    <tr>\n",
       "      <td>QE_I04</td>\n",
       "      <td>1427</td>\n",
       "      <td>5</td>\n",
       "      <td>C</td>\n",
       "      <td>691</td>\n",
       "    </tr>\n",
       "    <tr>\n",
       "      <td>QE_I05</td>\n",
       "      <td>1427</td>\n",
       "      <td>5</td>\n",
       "      <td>B</td>\n",
       "      <td>492</td>\n",
       "    </tr>\n",
       "    <tr>\n",
       "      <td>QE_I06</td>\n",
       "      <td>1427</td>\n",
       "      <td>5</td>\n",
       "      <td>D</td>\n",
       "      <td>862</td>\n",
       "    </tr>\n",
       "    <tr>\n",
       "      <td>QE_I07</td>\n",
       "      <td>1427</td>\n",
       "      <td>5</td>\n",
       "      <td>D</td>\n",
       "      <td>584</td>\n",
       "    </tr>\n",
       "    <tr>\n",
       "      <td>QE_I08</td>\n",
       "      <td>1427</td>\n",
       "      <td>4</td>\n",
       "      <td>A</td>\n",
       "      <td>1249</td>\n",
       "    </tr>\n",
       "    <tr>\n",
       "      <td>QE_I09</td>\n",
       "      <td>1427</td>\n",
       "      <td>6</td>\n",
       "      <td>D</td>\n",
       "      <td>628</td>\n",
       "    </tr>\n",
       "    <tr>\n",
       "      <td>QE_I10</td>\n",
       "      <td>1427</td>\n",
       "      <td>3</td>\n",
       "      <td>A</td>\n",
       "      <td>1410</td>\n",
       "    </tr>\n",
       "    <tr>\n",
       "      <td>QE_I11</td>\n",
       "      <td>1427</td>\n",
       "      <td>6</td>\n",
       "      <td>D</td>\n",
       "      <td>565</td>\n",
       "    </tr>\n",
       "    <tr>\n",
       "      <td>QE_I12</td>\n",
       "      <td>1427</td>\n",
       "      <td>6</td>\n",
       "      <td>D</td>\n",
       "      <td>529</td>\n",
       "    </tr>\n",
       "    <tr>\n",
       "      <td>QE_I13</td>\n",
       "      <td>1427</td>\n",
       "      <td>6</td>\n",
       "      <td>B</td>\n",
       "      <td>1046</td>\n",
       "    </tr>\n",
       "    <tr>\n",
       "      <td>QE_I14</td>\n",
       "      <td>1427</td>\n",
       "      <td>8</td>\n",
       "      <td>D</td>\n",
       "      <td>386</td>\n",
       "    </tr>\n",
       "    <tr>\n",
       "      <td>QE_I15</td>\n",
       "      <td>1427</td>\n",
       "      <td>7</td>\n",
       "      <td>B</td>\n",
       "      <td>353</td>\n",
       "    </tr>\n",
       "    <tr>\n",
       "      <td>QE_I17</td>\n",
       "      <td>1427</td>\n",
       "      <td>5</td>\n",
       "      <td>A</td>\n",
       "      <td>667</td>\n",
       "    </tr>\n",
       "    <tr>\n",
       "      <td>QE_I18</td>\n",
       "      <td>1427</td>\n",
       "      <td>11</td>\n",
       "      <td>A</td>\n",
       "      <td>835</td>\n",
       "    </tr>\n",
       "    <tr>\n",
       "      <td>QE_I19</td>\n",
       "      <td>1427</td>\n",
       "      <td>6</td>\n",
       "      <td>A</td>\n",
       "      <td>1278</td>\n",
       "    </tr>\n",
       "    <tr>\n",
       "      <td>QE_I20</td>\n",
       "      <td>1427</td>\n",
       "      <td>6</td>\n",
       "      <td>A</td>\n",
       "      <td>780</td>\n",
       "    </tr>\n",
       "    <tr>\n",
       "      <td>QE_I21</td>\n",
       "      <td>1427</td>\n",
       "      <td>6</td>\n",
       "      <td>A</td>\n",
       "      <td>1290</td>\n",
       "    </tr>\n",
       "    <tr>\n",
       "      <td>QE_I22</td>\n",
       "      <td>1427</td>\n",
       "      <td>6</td>\n",
       "      <td>A</td>\n",
       "      <td>1118</td>\n",
       "    </tr>\n",
       "    <tr>\n",
       "      <td>QE_I24</td>\n",
       "      <td>1427</td>\n",
       "      <td>6</td>\n",
       "      <td>B</td>\n",
       "      <td>706</td>\n",
       "    </tr>\n",
       "    <tr>\n",
       "      <td>QE_I25</td>\n",
       "      <td>1427</td>\n",
       "      <td>5</td>\n",
       "      <td>A</td>\n",
       "      <td>1259</td>\n",
       "    </tr>\n",
       "    <tr>\n",
       "      <td>QE_I26</td>\n",
       "      <td>1427</td>\n",
       "      <td>7</td>\n",
       "      <td>B</td>\n",
       "      <td>1023</td>\n",
       "    </tr>\n",
       "  </tbody>\n",
       "</table>\n",
       "</div>"
      ],
      "text/plain": [
       "        count unique top  freq\n",
       "TP_SEXO  1427      2   M  1254\n",
       "QE_I01   1427      5   C   785\n",
       "QE_I02   1427      5   B   769\n",
       "QE_I04   1427      5   C   691\n",
       "QE_I05   1427      5   B   492\n",
       "QE_I06   1427      5   D   862\n",
       "QE_I07   1427      5   D   584\n",
       "QE_I08   1427      4   A  1249\n",
       "QE_I09   1427      6   D   628\n",
       "QE_I10   1427      3   A  1410\n",
       "QE_I11   1427      6   D   565\n",
       "QE_I12   1427      6   D   529\n",
       "QE_I13   1427      6   B  1046\n",
       "QE_I14   1427      8   D   386\n",
       "QE_I15   1427      7   B   353\n",
       "QE_I17   1427      5   A   667\n",
       "QE_I18   1427     11   A   835\n",
       "QE_I19   1427      6   A  1278\n",
       "QE_I20   1427      6   A   780\n",
       "QE_I21   1427      6   A  1290\n",
       "QE_I22   1427      6   A  1118\n",
       "QE_I24   1427      6   B   706\n",
       "QE_I25   1427      5   A  1259\n",
       "QE_I26   1427      7   B  1023"
      ]
     },
     "execution_count": 7,
     "metadata": {},
     "output_type": "execute_result"
    }
   ],
   "source": [
    "# Descrevendo as variáveis categóricas\n",
    "cat_obj = df.drop(['Instituicao', 'Municipio', 'UF', 'NO_CURSO'], axis=1).describe(include=[np.object])\n",
    "cat_obj.T"
   ]
  },
  {
   "cell_type": "markdown",
   "metadata": {},
   "source": [
    "### Pré-processessamento dos dados"
   ]
  },
  {
   "cell_type": "code",
   "execution_count": 8,
   "metadata": {},
   "outputs": [],
   "source": [
    "#### Selecionando as variáveis que serão utilizadas\n",
    "df = df[['TP_SEXO', 'NU_IDADE', 'QE_I01', 'QE_I02', 'QE_I04', 'QE_I05',\n",
    "       'QE_I06', 'QE_I07', 'QE_I08', 'QE_I09', 'QE_I10', 'QE_I11', 'QE_I12',\n",
    "       'QE_I13', 'QE_I14', 'QE_I15', 'QE_I17', 'QE_I18', 'QE_I19', 'QE_I20',\n",
    "       'QE_I21', 'QE_I22', 'QE_I24', 'QE_I25', 'QE_I26','NT_GER']]"
   ]
  },
  {
   "cell_type": "markdown",
   "metadata": {},
   "source": [
    "#### Convertendo recursos categóricos\n",
    "\n",
    "A biblioteca do scikit trabalha exclusivamente com atributos numéricos. Logo, é necessário transformar os campos categóricos em variáveis dummy (a variável dummy é uma variável categegórica transformada em numérica). Caso contrário, nosso algoritmo não aceitará esses atributos diretamente como entradas."
   ]
  },
  {
   "cell_type": "code",
   "execution_count": 9,
   "metadata": {},
   "outputs": [
    {
     "data": {
      "text/plain": [
       "Index(['TP_SEXO', 'QE_I01', 'QE_I02', 'QE_I04', 'QE_I05', 'QE_I06', 'QE_I07',\n",
       "       'QE_I08', 'QE_I09', 'QE_I10', 'QE_I11', 'QE_I12', 'QE_I13', 'QE_I14',\n",
       "       'QE_I15', 'QE_I17', 'QE_I18', 'QE_I19', 'QE_I20', 'QE_I21', 'QE_I22',\n",
       "       'QE_I24', 'QE_I25', 'QE_I26'],\n",
       "      dtype='object')"
      ]
     },
     "execution_count": 9,
     "metadata": {},
     "output_type": "execute_result"
    }
   ],
   "source": [
    "# Listando as colunas com variáveis categóricas\n",
    "df.dtypes[df.dtypes == \"object\"].index"
   ]
  },
  {
   "cell_type": "code",
   "execution_count": 10,
   "metadata": {},
   "outputs": [],
   "source": [
    "# Variáveis categóricas que serão utilizadas como preditores\n",
    "categoricas_df = pd.get_dummies(df[['TP_SEXO', 'QE_I01', 'QE_I02', 'QE_I04', 'QE_I05', 'QE_I06', 'QE_I07',\n",
    "                                    'QE_I08', 'QE_I09', 'QE_I10', 'QE_I11', 'QE_I12', 'QE_I13', 'QE_I14',\n",
    "                                    'QE_I15', 'QE_I17', 'QE_I18', 'QE_I19', 'QE_I20', 'QE_I21', 'QE_I22',\n",
    "                                    'QE_I24', 'QE_I25', 'QE_I26']], drop_first=True)"
   ]
  },
  {
   "cell_type": "code",
   "execution_count": 11,
   "metadata": {},
   "outputs": [],
   "source": [
    "# Criando o dataset de treino após o pré-processamento\n",
    "# Removendo os atributos numéricos do dataset\n",
    "temp = df.drop(['TP_SEXO', 'QE_I01', 'QE_I02', 'QE_I04', 'QE_I05', 'QE_I06', 'QE_I07',\n",
    "                                    'QE_I08', 'QE_I09', 'QE_I10', 'QE_I11', 'QE_I12', 'QE_I13', 'QE_I14',\n",
    "                                    'QE_I15', 'QE_I17', 'QE_I18', 'QE_I19', 'QE_I20', 'QE_I21', 'QE_I22',\n",
    "                                    'QE_I24', 'QE_I25', 'QE_I26'], axis=1)\n",
    "# Criando novo dataset com as variáveis numéricas e as variáveis dummy\n",
    "df = pd.concat([temp,categoricas_df],axis=1)"
   ]
  },
  {
   "cell_type": "markdown",
   "metadata": {},
   "source": [
    "## Treinando um modelo de regressão linear\n",
    "\n",
    "Vamos agora começar a treinar o modelo de regressão. Precisamos primeiro dividir nossos dados em uma matriz X que contém os recursos para treinar, e uma matriz y com a variável alvo, neste caso, a coluna NT_GER (Nota Geral no ENADE 2017). "
   ]
  },
  {
   "cell_type": "code",
   "execution_count": 12,
   "metadata": {},
   "outputs": [],
   "source": [
    "# Separando as variáveis preditoras e alvo\n",
    "# Variáveis preditoras\n",
    "X = df.drop(['NT_GER'], axis=1)\n",
    "# Variável alvo\n",
    "y = df['NT_GER']"
   ]
  },
  {
   "cell_type": "markdown",
   "metadata": {},
   "source": [
    "#### Split de treino/teste\n",
    "\n",
    "Agora vamos dividir os dados em um conjunto de treinamento e um conjunto de testes. Vamos criar o modelo usando o conjunto de treinamento e depois usar o conjunto de testes para avaliar o modelo."
   ]
  },
  {
   "cell_type": "code",
   "execution_count": 13,
   "metadata": {},
   "outputs": [],
   "source": [
    "from sklearn.model_selection import train_test_split"
   ]
  },
  {
   "cell_type": "code",
   "execution_count": 14,
   "metadata": {},
   "outputs": [],
   "source": [
    "X_train, X_test, y_train, y_test = train_test_split(X, y, test_size=0.4, random_state=1001)"
   ]
  },
  {
   "cell_type": "markdown",
   "metadata": {},
   "source": [
    "#### Criando e treinando o modelo"
   ]
  },
  {
   "cell_type": "code",
   "execution_count": 15,
   "metadata": {},
   "outputs": [],
   "source": [
    "from sklearn.linear_model import LinearRegression"
   ]
  },
  {
   "cell_type": "code",
   "execution_count": 16,
   "metadata": {},
   "outputs": [],
   "source": [
    "lm = LinearRegression()"
   ]
  },
  {
   "cell_type": "code",
   "execution_count": 17,
   "metadata": {},
   "outputs": [
    {
     "data": {
      "text/plain": [
       "LinearRegression(copy_X=True, fit_intercept=True, n_jobs=None, normalize=False)"
      ]
     },
     "execution_count": 17,
     "metadata": {},
     "output_type": "execute_result"
    }
   ],
   "source": [
    "lm.fit(X_train,y_train)"
   ]
  },
  {
   "cell_type": "markdown",
   "metadata": {},
   "source": [
    "#### Avaliação do modelo"
   ]
  },
  {
   "cell_type": "code",
   "execution_count": 18,
   "metadata": {},
   "outputs": [
    {
     "name": "stdout",
     "output_type": "stream",
     "text": [
      "35.58144913798035\n"
     ]
    }
   ],
   "source": [
    "# Exibindo a intercepção\n",
    "print(lm.intercept_)"
   ]
  },
  {
   "cell_type": "code",
   "execution_count": 19,
   "metadata": {},
   "outputs": [
    {
     "data": {
      "text/html": [
       "<div>\n",
       "<style scoped>\n",
       "    .dataframe tbody tr th:only-of-type {\n",
       "        vertical-align: middle;\n",
       "    }\n",
       "\n",
       "    .dataframe tbody tr th {\n",
       "        vertical-align: top;\n",
       "    }\n",
       "\n",
       "    .dataframe thead th {\n",
       "        text-align: right;\n",
       "    }\n",
       "</style>\n",
       "<table border=\"1\" class=\"dataframe\">\n",
       "  <thead>\n",
       "    <tr style=\"text-align: right;\">\n",
       "      <th></th>\n",
       "      <th>Coefficient</th>\n",
       "    </tr>\n",
       "  </thead>\n",
       "  <tbody>\n",
       "    <tr>\n",
       "      <td>NU_IDADE</td>\n",
       "      <td>-0.555570</td>\n",
       "    </tr>\n",
       "    <tr>\n",
       "      <td>TP_SEXO_M</td>\n",
       "      <td>4.654171</td>\n",
       "    </tr>\n",
       "    <tr>\n",
       "      <td>QE_I01_B</td>\n",
       "      <td>2.333009</td>\n",
       "    </tr>\n",
       "    <tr>\n",
       "      <td>QE_I01_C</td>\n",
       "      <td>0.315533</td>\n",
       "    </tr>\n",
       "    <tr>\n",
       "      <td>QE_I01_D</td>\n",
       "      <td>-0.707595</td>\n",
       "    </tr>\n",
       "    <tr>\n",
       "      <td>QE_I01_E</td>\n",
       "      <td>-4.164224</td>\n",
       "    </tr>\n",
       "    <tr>\n",
       "      <td>QE_I02_B</td>\n",
       "      <td>0.638926</td>\n",
       "    </tr>\n",
       "    <tr>\n",
       "      <td>QE_I02_C</td>\n",
       "      <td>0.766433</td>\n",
       "    </tr>\n",
       "    <tr>\n",
       "      <td>QE_I02_D</td>\n",
       "      <td>-1.362676</td>\n",
       "    </tr>\n",
       "    <tr>\n",
       "      <td>QE_I02_E</td>\n",
       "      <td>4.940236</td>\n",
       "    </tr>\n",
       "  </tbody>\n",
       "</table>\n",
       "</div>"
      ],
      "text/plain": [
       "           Coefficient\n",
       "NU_IDADE     -0.555570\n",
       "TP_SEXO_M     4.654171\n",
       "QE_I01_B      2.333009\n",
       "QE_I01_C      0.315533\n",
       "QE_I01_D     -0.707595\n",
       "QE_I01_E     -4.164224\n",
       "QE_I02_B      0.638926\n",
       "QE_I02_C      0.766433\n",
       "QE_I02_D     -1.362676\n",
       "QE_I02_E      4.940236"
      ]
     },
     "execution_count": 19,
     "metadata": {},
     "output_type": "execute_result"
    }
   ],
   "source": [
    "# Exibindo os coeficientes\n",
    "coeff_df = pd.DataFrame(lm.coef_,X.columns,columns=['Coefficient'])\n",
    "# 10 primeiros coeficientes\n",
    "coeff_df.head(10)"
   ]
  },
  {
   "cell_type": "markdown",
   "metadata": {},
   "source": [
    "#### Predições do modelo"
   ]
  },
  {
   "cell_type": "code",
   "execution_count": 20,
   "metadata": {},
   "outputs": [],
   "source": [
    "predictions = lm.predict(X_test)"
   ]
  },
  {
   "cell_type": "markdown",
   "metadata": {},
   "source": [
    "#### Metricas de avaliação da regressão"
   ]
  },
  {
   "cell_type": "code",
   "execution_count": 21,
   "metadata": {},
   "outputs": [],
   "source": [
    "from sklearn import metrics"
   ]
  },
  {
   "cell_type": "code",
   "execution_count": 22,
   "metadata": {},
   "outputs": [
    {
     "name": "stdout",
     "output_type": "stream",
     "text": [
      "RMSE: 11.215164105698626\n"
     ]
    }
   ],
   "source": [
    "# Computando o RMSE (Root Mean Square Error)\n",
    "print('RMSE:', np.sqrt(metrics.mean_squared_error(y_test, predictions)))"
   ]
  },
  {
   "cell_type": "code",
   "execution_count": 23,
   "metadata": {},
   "outputs": [
    {
     "name": "stdout",
     "output_type": "stream",
     "text": [
      "R²: 0.23451593705771856\n"
     ]
    }
   ],
   "source": [
    "# Coeficiente de determinação (R²)\n",
    "print('R²:', metrics.r2_score(y_test, predictions))"
   ]
  },
  {
   "cell_type": "markdown",
   "metadata": {},
   "source": [
    "#### Visualizações"
   ]
  },
  {
   "cell_type": "code",
   "execution_count": 24,
   "metadata": {
    "scrolled": false
   },
   "outputs": [
    {
     "data": {
      "image/png": "[encoded data removed]",
      "text/plain": [
       "<Figure size 432x432 with 1 Axes>"
      ]
     },
     "metadata": {
      "needs_background": "light"
     },
     "output_type": "display_data"
    }
   ],
   "source": [
    "# Visualizando o modelo\n",
    "fig, ax = plt.subplots(figsize=(6, 6))\n",
    "ax.scatter(y_test, predictions)\n",
    "ax.plot([5, y_test.max()], [5, predictions.max()], '--k', c='blue')\n",
    "ax.set_ylabel('Nota Predita')\n",
    "ax.set_xlabel('Nota Real')\n",
    "ax.set_title('Regressão Linear')\n",
    "ax.text(30, 10, r'$R^2$=%.4f, RMSE=%.4f' % (\n",
    "    metrics.r2_score(y_test, predictions), np.sqrt(metrics.mean_squared_error(y_test, predictions))))\n",
    "ax.set_xlim([0,  y_test.max()+5])\n",
    "ax.set_ylim([0, predictions.max()+5])\n",
    "plt.show()"
   ]
  },
  {
   "cell_type": "code",
   "execution_count": 25,
   "metadata": {},
   "outputs": [
    {
     "data": {
      "image/png": "[encoded data removed]",
      "text/plain": [
       "<Figure size 432x432 with 1 Axes>"
      ]
     },
     "metadata": {
      "needs_background": "light"
     },
     "output_type": "display_data"
    }
   ],
   "source": [
    "### Histograma residual\n",
    "fig, ax = plt.subplots(figsize=(6, 6))\n",
    "sns.distplot((y_test - predictions), bins=50)\n",
    "ax.set_title('Histograma residual')\n",
    "ax.set_xlabel('Notas')\n",
    "plt.show()"
   ]
  },
  {
   "cell_type": "code",
   "execution_count": null,
   "metadata": {},
   "outputs": [],
   "source": []
  }
 ],
 "metadata": {
  "kernelspec": {
   "display_name": "Python 3",
   "language": "python",
   "name": "python3"
  },
  "language_info": {
   "codemirror_mode": {
    "name": "ipython",
    "version": 3
   },
   "file_extension": ".py",
   "mimetype": "text/x-python",
   "name": "python",
   "nbconvert_exporter": "python",
   "pygments_lexer": "ipython3",
   "version": "3.7.4"
  }
 },
 "nbformat": 4,
 "nbformat_minor": 2
}
