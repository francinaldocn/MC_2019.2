{
 "cells": [
  {
   "cell_type": "markdown",
   "metadata": {},
   "source": [
    "# ENADE 2017 - Computação@Nordeste\n",
    "\n",
    "Dados do curso de Bacharelado em Ciência da Computação das Universidades/Faculdades da Região Nordeste"
   ]
  },
  {
   "cell_type": "markdown",
   "metadata": {},
   "source": [
    "**Como é calculada a nota do ENADE?**\n",
    "\n",
    "Para calcular a nota do ENADE, são tiradas separadamente as médias das notas dos estudantes na prova de Formação Geral e na de Componente Específico. Em seguida, é calculada uma média ponderada entre esses dois valores, sendo atribuído peso 1 ao primeiro e 3 ao segundo.\n",
    "\n",
    "As médias obtidas pelos alunos são então padronizadas, de acordo com a média brasileira e o desvio padrão, em conceitos que vão de 1 a 5. Sendo atribuído o conceito 3 aos cursos que estão na média ou próximos a ela, 1 e 2 aos que estão abaixo e 4 e 5 aos que estão acima.\n",
    "\n",
    "Dessa forma, **a nota do ENADE é sempre um valor relativo**, ou seja, aponta para uma **comparação entre o curso da instituição de ensino superior observada e os cursos restantes daquela área no país**"
   ]
  },
  {
   "cell_type": "markdown",
   "metadata": {},
   "source": [
    "### Carregando as bibliotecas necessárias"
   ]
  },
  {
   "cell_type": "code",
   "execution_count": 1,
   "metadata": {},
   "outputs": [],
   "source": [
    "# Biblioteca científica\n",
    "import numpy as np\n",
    "# Biblioteca para análise de dados\n",
    "import pandas as pd\n",
    "# Suprimindo os warnings da biblioteca pandas\n",
    "pd.options.mode.chained_assignment = None\n",
    "# Bibliotecas de visualização de dados\n",
    "import matplotlib.pyplot as plt\n",
    "import matplotlib.patches as mpatches\n",
    "import matplotlib.ticker as mtick\n",
    "plt.style.use('ggplot')\n",
    "import seaborn as sns\n",
    "sns.set_style('whitegrid')\n",
    "%matplotlib inline"
   ]
  },
  {
   "cell_type": "markdown",
   "metadata": {},
   "source": [
    "### Carregando e verificando os dados"
   ]
  },
  {
   "cell_type": "code",
   "execution_count": 2,
   "metadata": {},
   "outputs": [],
   "source": [
    "# Dados do Exame Nacional de Desempenho dos Estudantes - 2017 (Curso de computação do nordeste)\n",
    "df = pd.read_csv('dados/enade2017_ccc_ne_prep.csv')"
   ]
  },
  {
   "cell_type": "code",
   "execution_count": 3,
   "metadata": {
    "scrolled": false
   },
   "outputs": [
    {
     "data": {
      "text/html": [
       "<div>\n",
       "<style scoped>\n",
       "    .dataframe tbody tr th:only-of-type {\n",
       "        vertical-align: middle;\n",
       "    }\n",
       "\n",
       "    .dataframe tbody tr th {\n",
       "        vertical-align: top;\n",
       "    }\n",
       "\n",
       "    .dataframe thead th {\n",
       "        text-align: right;\n",
       "    }\n",
       "</style>\n",
       "<table border=\"1\" class=\"dataframe\">\n",
       "  <thead>\n",
       "    <tr style=\"text-align: right;\">\n",
       "      <th></th>\n",
       "      <th>CO_IES</th>\n",
       "      <th>Instituicao</th>\n",
       "      <th>CO_CATEGAD</th>\n",
       "      <th>CO_CURSO</th>\n",
       "      <th>NO_CURSO</th>\n",
       "      <th>Municipio</th>\n",
       "      <th>UF</th>\n",
       "      <th>TP_SEXO</th>\n",
       "      <th>NU_IDADE</th>\n",
       "      <th>QE_I01</th>\n",
       "      <th>...</th>\n",
       "      <th>QE_I18</th>\n",
       "      <th>QE_I19</th>\n",
       "      <th>QE_I20</th>\n",
       "      <th>QE_I21</th>\n",
       "      <th>QE_I22</th>\n",
       "      <th>QE_I23</th>\n",
       "      <th>QE_I24</th>\n",
       "      <th>QE_I25</th>\n",
       "      <th>QE_I26</th>\n",
       "      <th>NT_GER</th>\n",
       "    </tr>\n",
       "  </thead>\n",
       "  <tbody>\n",
       "    <tr>\n",
       "      <td>0</td>\n",
       "      <td>548</td>\n",
       "      <td>UNIVERSIDADE FEDERAL DO MARANHÃO (UFMA)</td>\n",
       "      <td>1</td>\n",
       "      <td>11452</td>\n",
       "      <td>CIÊNCIA DA COMPUTAÇÃO</td>\n",
       "      <td>São Luís</td>\n",
       "      <td>MA</td>\n",
       "      <td>M</td>\n",
       "      <td>27</td>\n",
       "      <td>A</td>\n",
       "      <td>...</td>\n",
       "      <td>A</td>\n",
       "      <td>A</td>\n",
       "      <td>C</td>\n",
       "      <td>A</td>\n",
       "      <td>A</td>\n",
       "      <td>D</td>\n",
       "      <td>A</td>\n",
       "      <td>E</td>\n",
       "      <td>A</td>\n",
       "      <td>45.2</td>\n",
       "    </tr>\n",
       "    <tr>\n",
       "      <td>1</td>\n",
       "      <td>548</td>\n",
       "      <td>UNIVERSIDADE FEDERAL DO MARANHÃO (UFMA)</td>\n",
       "      <td>1</td>\n",
       "      <td>11452</td>\n",
       "      <td>CIÊNCIA DA COMPUTAÇÃO</td>\n",
       "      <td>São Luís</td>\n",
       "      <td>MA</td>\n",
       "      <td>F</td>\n",
       "      <td>22</td>\n",
       "      <td>A</td>\n",
       "      <td>...</td>\n",
       "      <td>B</td>\n",
       "      <td>F</td>\n",
       "      <td>K</td>\n",
       "      <td>A</td>\n",
       "      <td>B</td>\n",
       "      <td>B</td>\n",
       "      <td>A</td>\n",
       "      <td>H</td>\n",
       "      <td>F</td>\n",
       "      <td>48.4</td>\n",
       "    </tr>\n",
       "    <tr>\n",
       "      <td>2</td>\n",
       "      <td>548</td>\n",
       "      <td>UNIVERSIDADE FEDERAL DO MARANHÃO (UFMA)</td>\n",
       "      <td>1</td>\n",
       "      <td>11452</td>\n",
       "      <td>CIÊNCIA DA COMPUTAÇÃO</td>\n",
       "      <td>São Luís</td>\n",
       "      <td>MA</td>\n",
       "      <td>M</td>\n",
       "      <td>27</td>\n",
       "      <td>A</td>\n",
       "      <td>...</td>\n",
       "      <td>A</td>\n",
       "      <td>A</td>\n",
       "      <td>B</td>\n",
       "      <td>A</td>\n",
       "      <td>A</td>\n",
       "      <td>A</td>\n",
       "      <td>E</td>\n",
       "      <td>H</td>\n",
       "      <td>I</td>\n",
       "      <td>55.5</td>\n",
       "    </tr>\n",
       "    <tr>\n",
       "      <td>3</td>\n",
       "      <td>548</td>\n",
       "      <td>UNIVERSIDADE FEDERAL DO MARANHÃO (UFMA)</td>\n",
       "      <td>1</td>\n",
       "      <td>11452</td>\n",
       "      <td>CIÊNCIA DA COMPUTAÇÃO</td>\n",
       "      <td>São Luís</td>\n",
       "      <td>MA</td>\n",
       "      <td>M</td>\n",
       "      <td>32</td>\n",
       "      <td>A</td>\n",
       "      <td>...</td>\n",
       "      <td>A</td>\n",
       "      <td>B</td>\n",
       "      <td>A</td>\n",
       "      <td>A</td>\n",
       "      <td>A</td>\n",
       "      <td>A</td>\n",
       "      <td>A</td>\n",
       "      <td>E</td>\n",
       "      <td>A</td>\n",
       "      <td>23.5</td>\n",
       "    </tr>\n",
       "    <tr>\n",
       "      <td>4</td>\n",
       "      <td>548</td>\n",
       "      <td>UNIVERSIDADE FEDERAL DO MARANHÃO (UFMA)</td>\n",
       "      <td>1</td>\n",
       "      <td>11452</td>\n",
       "      <td>CIÊNCIA DA COMPUTAÇÃO</td>\n",
       "      <td>São Luís</td>\n",
       "      <td>MA</td>\n",
       "      <td>M</td>\n",
       "      <td>25</td>\n",
       "      <td>A</td>\n",
       "      <td>...</td>\n",
       "      <td>A</td>\n",
       "      <td>B</td>\n",
       "      <td>G</td>\n",
       "      <td>A</td>\n",
       "      <td>C</td>\n",
       "      <td>E</td>\n",
       "      <td>E</td>\n",
       "      <td>E</td>\n",
       "      <td>F</td>\n",
       "      <td>54.3</td>\n",
       "    </tr>\n",
       "  </tbody>\n",
       "</table>\n",
       "<p>5 rows × 34 columns</p>\n",
       "</div>"
      ],
      "text/plain": [
       "   CO_IES                              Instituicao  CO_CATEGAD  CO_CURSO  \\\n",
       "0     548  UNIVERSIDADE FEDERAL DO MARANHÃO (UFMA)           1     11452   \n",
       "1     548  UNIVERSIDADE FEDERAL DO MARANHÃO (UFMA)           1     11452   \n",
       "2     548  UNIVERSIDADE FEDERAL DO MARANHÃO (UFMA)           1     11452   \n",
       "3     548  UNIVERSIDADE FEDERAL DO MARANHÃO (UFMA)           1     11452   \n",
       "4     548  UNIVERSIDADE FEDERAL DO MARANHÃO (UFMA)           1     11452   \n",
       "\n",
       "                NO_CURSO Municipio  UF TP_SEXO  NU_IDADE QE_I01  ... QE_I18  \\\n",
       "0  CIÊNCIA DA COMPUTAÇÃO  São Luís  MA       M        27      A  ...      A   \n",
       "1  CIÊNCIA DA COMPUTAÇÃO  São Luís  MA       F        22      A  ...      B   \n",
       "2  CIÊNCIA DA COMPUTAÇÃO  São Luís  MA       M        27      A  ...      A   \n",
       "3  CIÊNCIA DA COMPUTAÇÃO  São Luís  MA       M        32      A  ...      A   \n",
       "4  CIÊNCIA DA COMPUTAÇÃO  São Luís  MA       M        25      A  ...      A   \n",
       "\n",
       "  QE_I19 QE_I20 QE_I21 QE_I22 QE_I23 QE_I24 QE_I25 QE_I26 NT_GER  \n",
       "0      A      C      A      A      D      A      E      A   45.2  \n",
       "1      F      K      A      B      B      A      H      F   48.4  \n",
       "2      A      B      A      A      A      E      H      I   55.5  \n",
       "3      B      A      A      A      A      A      E      A   23.5  \n",
       "4      B      G      A      C      E      E      E      F   54.3  \n",
       "\n",
       "[5 rows x 34 columns]"
      ]
     },
     "execution_count": 3,
     "metadata": {},
     "output_type": "execute_result"
    }
   ],
   "source": [
    "# Exibindo o cabeçalho do dataframe\n",
    "df.head()"
   ]
  },
  {
   "cell_type": "code",
   "execution_count": 4,
   "metadata": {},
   "outputs": [
    {
     "name": "stdout",
     "output_type": "stream",
     "text": [
      "O dataframe é composto por 1559 linhas e 34 colunas\n"
     ]
    }
   ],
   "source": [
    "# Tamanho do dataframe\n",
    "print('O dataframe é composto por', df.shape[0], 'linhas e', df.shape[1], 'colunas')"
   ]
  },
  {
   "cell_type": "code",
   "execution_count": 5,
   "metadata": {
    "scrolled": false
   },
   "outputs": [
    {
     "name": "stdout",
     "output_type": "stream",
     "text": [
      "<class 'pandas.core.frame.DataFrame'>\n",
      "RangeIndex: 1559 entries, 0 to 1558\n",
      "Data columns (total 34 columns):\n",
      "CO_IES         1559 non-null int64\n",
      "Instituicao    1559 non-null object\n",
      "CO_CATEGAD     1559 non-null int64\n",
      "CO_CURSO       1559 non-null int64\n",
      "NO_CURSO       1559 non-null object\n",
      "Municipio      1559 non-null object\n",
      "UF             1559 non-null object\n",
      "TP_SEXO        1559 non-null object\n",
      "NU_IDADE       1559 non-null int64\n",
      "QE_I01         1559 non-null object\n",
      "QE_I02         1559 non-null object\n",
      "QE_I04         1559 non-null object\n",
      "QE_I05         1559 non-null object\n",
      "QE_I06         1559 non-null object\n",
      "QE_I07         1559 non-null object\n",
      "QE_I08         1559 non-null object\n",
      "QE_I09         1559 non-null object\n",
      "QE_I10         1559 non-null object\n",
      "QE_I11         1559 non-null object\n",
      "QE_I12         1559 non-null object\n",
      "QE_I13         1559 non-null object\n",
      "QE_I14         1559 non-null object\n",
      "QE_I15         1559 non-null object\n",
      "QE_I17         1559 non-null object\n",
      "QE_I18         1559 non-null object\n",
      "QE_I19         1559 non-null object\n",
      "QE_I20         1559 non-null object\n",
      "QE_I21         1559 non-null object\n",
      "QE_I22         1559 non-null object\n",
      "QE_I23         1559 non-null object\n",
      "QE_I24         1559 non-null object\n",
      "QE_I25         1559 non-null object\n",
      "QE_I26         1559 non-null object\n",
      "NT_GER         1559 non-null float64\n",
      "dtypes: float64(1), int64(4), object(29)\n",
      "memory usage: 414.2+ KB\n"
     ]
    }
   ],
   "source": [
    "# Exibindo as informações do dataframe\n",
    "df.info()"
   ]
  },
  {
   "cell_type": "code",
   "execution_count": 6,
   "metadata": {},
   "outputs": [
    {
     "data": {
      "text/html": [
       "<div>\n",
       "<style scoped>\n",
       "    .dataframe tbody tr th:only-of-type {\n",
       "        vertical-align: middle;\n",
       "    }\n",
       "\n",
       "    .dataframe tbody tr th {\n",
       "        vertical-align: top;\n",
       "    }\n",
       "\n",
       "    .dataframe thead th {\n",
       "        text-align: right;\n",
       "    }\n",
       "</style>\n",
       "<table border=\"1\" class=\"dataframe\">\n",
       "  <thead>\n",
       "    <tr style=\"text-align: right;\">\n",
       "      <th></th>\n",
       "      <th>count</th>\n",
       "      <th>mean</th>\n",
       "      <th>std</th>\n",
       "      <th>min</th>\n",
       "      <th>25%</th>\n",
       "      <th>50%</th>\n",
       "      <th>75%</th>\n",
       "      <th>max</th>\n",
       "    </tr>\n",
       "  </thead>\n",
       "  <tbody>\n",
       "    <tr>\n",
       "      <td>CO_CATEGAD</td>\n",
       "      <td>1559</td>\n",
       "      <td>2</td>\n",
       "      <td>2</td>\n",
       "      <td>1</td>\n",
       "      <td>1</td>\n",
       "      <td>2</td>\n",
       "      <td>4</td>\n",
       "      <td>7</td>\n",
       "    </tr>\n",
       "    <tr>\n",
       "      <td>NU_IDADE</td>\n",
       "      <td>1559</td>\n",
       "      <td>25</td>\n",
       "      <td>4</td>\n",
       "      <td>20</td>\n",
       "      <td>22</td>\n",
       "      <td>24</td>\n",
       "      <td>27</td>\n",
       "      <td>55</td>\n",
       "    </tr>\n",
       "    <tr>\n",
       "      <td>NT_GER</td>\n",
       "      <td>1559</td>\n",
       "      <td>45</td>\n",
       "      <td>13</td>\n",
       "      <td>0</td>\n",
       "      <td>35</td>\n",
       "      <td>44</td>\n",
       "      <td>53</td>\n",
       "      <td>94</td>\n",
       "    </tr>\n",
       "  </tbody>\n",
       "</table>\n",
       "</div>"
      ],
      "text/plain": [
       "           count mean std min 25% 50% 75% max\n",
       "CO_CATEGAD  1559    2   2   1   1   2   4   7\n",
       "NU_IDADE    1559   25   4  20  22  24  27  55\n",
       "NT_GER      1559   45  13   0  35  44  53  94"
      ]
     },
     "execution_count": 6,
     "metadata": {},
     "output_type": "execute_result"
    }
   ],
   "source": [
    "# Descrevendo as variáveis numéricas\n",
    "desc_int = df.drop(['CO_IES', 'CO_CURSO'], axis=1).describe(include=[np.number])\n",
    "desc_int.loc['count'] = desc_int.loc['count'].astype(int).astype(str)\n",
    "desc_int.iloc[1:] = desc_int.iloc[1:].applymap('{:.0f}'.format)\n",
    "desc_int.T"
   ]
  },
  {
   "cell_type": "code",
   "execution_count": 7,
   "metadata": {},
   "outputs": [
    {
     "data": {
      "text/html": [
       "<div>\n",
       "<style scoped>\n",
       "    .dataframe tbody tr th:only-of-type {\n",
       "        vertical-align: middle;\n",
       "    }\n",
       "\n",
       "    .dataframe tbody tr th {\n",
       "        vertical-align: top;\n",
       "    }\n",
       "\n",
       "    .dataframe thead th {\n",
       "        text-align: right;\n",
       "    }\n",
       "</style>\n",
       "<table border=\"1\" class=\"dataframe\">\n",
       "  <thead>\n",
       "    <tr style=\"text-align: right;\">\n",
       "      <th></th>\n",
       "      <th>count</th>\n",
       "      <th>unique</th>\n",
       "      <th>top</th>\n",
       "      <th>freq</th>\n",
       "    </tr>\n",
       "  </thead>\n",
       "  <tbody>\n",
       "    <tr>\n",
       "      <td>TP_SEXO</td>\n",
       "      <td>1559</td>\n",
       "      <td>2</td>\n",
       "      <td>M</td>\n",
       "      <td>1367</td>\n",
       "    </tr>\n",
       "    <tr>\n",
       "      <td>QE_I01</td>\n",
       "      <td>1559</td>\n",
       "      <td>4</td>\n",
       "      <td>A</td>\n",
       "      <td>1365</td>\n",
       "    </tr>\n",
       "    <tr>\n",
       "      <td>QE_I02</td>\n",
       "      <td>1559</td>\n",
       "      <td>6</td>\n",
       "      <td>D</td>\n",
       "      <td>686</td>\n",
       "    </tr>\n",
       "    <tr>\n",
       "      <td>QE_I04</td>\n",
       "      <td>1559</td>\n",
       "      <td>6</td>\n",
       "      <td>D</td>\n",
       "      <td>612</td>\n",
       "    </tr>\n",
       "    <tr>\n",
       "      <td>QE_I05</td>\n",
       "      <td>1559</td>\n",
       "      <td>6</td>\n",
       "      <td>D</td>\n",
       "      <td>579</td>\n",
       "    </tr>\n",
       "    <tr>\n",
       "      <td>QE_I06</td>\n",
       "      <td>1559</td>\n",
       "      <td>6</td>\n",
       "      <td>B</td>\n",
       "      <td>1143</td>\n",
       "    </tr>\n",
       "    <tr>\n",
       "      <td>QE_I07</td>\n",
       "      <td>1559</td>\n",
       "      <td>8</td>\n",
       "      <td>D</td>\n",
       "      <td>422</td>\n",
       "    </tr>\n",
       "    <tr>\n",
       "      <td>QE_I08</td>\n",
       "      <td>1559</td>\n",
       "      <td>7</td>\n",
       "      <td>B</td>\n",
       "      <td>384</td>\n",
       "    </tr>\n",
       "    <tr>\n",
       "      <td>QE_I09</td>\n",
       "      <td>1559</td>\n",
       "      <td>6</td>\n",
       "      <td>C</td>\n",
       "      <td>521</td>\n",
       "    </tr>\n",
       "    <tr>\n",
       "      <td>QE_I10</td>\n",
       "      <td>1559</td>\n",
       "      <td>5</td>\n",
       "      <td>A</td>\n",
       "      <td>738</td>\n",
       "    </tr>\n",
       "    <tr>\n",
       "      <td>QE_I11</td>\n",
       "      <td>1559</td>\n",
       "      <td>11</td>\n",
       "      <td>A</td>\n",
       "      <td>927</td>\n",
       "    </tr>\n",
       "    <tr>\n",
       "      <td>QE_I12</td>\n",
       "      <td>1559</td>\n",
       "      <td>6</td>\n",
       "      <td>A</td>\n",
       "      <td>1391</td>\n",
       "    </tr>\n",
       "    <tr>\n",
       "      <td>QE_I13</td>\n",
       "      <td>1559</td>\n",
       "      <td>6</td>\n",
       "      <td>A</td>\n",
       "      <td>826</td>\n",
       "    </tr>\n",
       "    <tr>\n",
       "      <td>QE_I14</td>\n",
       "      <td>1559</td>\n",
       "      <td>6</td>\n",
       "      <td>A</td>\n",
       "      <td>1399</td>\n",
       "    </tr>\n",
       "    <tr>\n",
       "      <td>QE_I15</td>\n",
       "      <td>1559</td>\n",
       "      <td>6</td>\n",
       "      <td>A</td>\n",
       "      <td>1212</td>\n",
       "    </tr>\n",
       "    <tr>\n",
       "      <td>QE_I17</td>\n",
       "      <td>1559</td>\n",
       "      <td>6</td>\n",
       "      <td>B</td>\n",
       "      <td>768</td>\n",
       "    </tr>\n",
       "    <tr>\n",
       "      <td>QE_I18</td>\n",
       "      <td>1559</td>\n",
       "      <td>5</td>\n",
       "      <td>A</td>\n",
       "      <td>1368</td>\n",
       "    </tr>\n",
       "    <tr>\n",
       "      <td>QE_I19</td>\n",
       "      <td>1559</td>\n",
       "      <td>7</td>\n",
       "      <td>B</td>\n",
       "      <td>1115</td>\n",
       "    </tr>\n",
       "    <tr>\n",
       "      <td>QE_I20</td>\n",
       "      <td>1559</td>\n",
       "      <td>11</td>\n",
       "      <td>C</td>\n",
       "      <td>593</td>\n",
       "    </tr>\n",
       "    <tr>\n",
       "      <td>QE_I21</td>\n",
       "      <td>1559</td>\n",
       "      <td>2</td>\n",
       "      <td>A</td>\n",
       "      <td>1190</td>\n",
       "    </tr>\n",
       "    <tr>\n",
       "      <td>QE_I22</td>\n",
       "      <td>1559</td>\n",
       "      <td>5</td>\n",
       "      <td>B</td>\n",
       "      <td>620</td>\n",
       "    </tr>\n",
       "    <tr>\n",
       "      <td>QE_I23</td>\n",
       "      <td>1559</td>\n",
       "      <td>5</td>\n",
       "      <td>B</td>\n",
       "      <td>532</td>\n",
       "    </tr>\n",
       "    <tr>\n",
       "      <td>QE_I24</td>\n",
       "      <td>1559</td>\n",
       "      <td>5</td>\n",
       "      <td>E</td>\n",
       "      <td>749</td>\n",
       "    </tr>\n",
       "    <tr>\n",
       "      <td>QE_I25</td>\n",
       "      <td>1559</td>\n",
       "      <td>7</td>\n",
       "      <td>E</td>\n",
       "      <td>728</td>\n",
       "    </tr>\n",
       "    <tr>\n",
       "      <td>QE_I26</td>\n",
       "      <td>1559</td>\n",
       "      <td>9</td>\n",
       "      <td>F</td>\n",
       "      <td>646</td>\n",
       "    </tr>\n",
       "  </tbody>\n",
       "</table>\n",
       "</div>"
      ],
      "text/plain": [
       "        count unique top  freq\n",
       "TP_SEXO  1559      2   M  1367\n",
       "QE_I01   1559      4   A  1365\n",
       "QE_I02   1559      6   D   686\n",
       "QE_I04   1559      6   D   612\n",
       "QE_I05   1559      6   D   579\n",
       "QE_I06   1559      6   B  1143\n",
       "QE_I07   1559      8   D   422\n",
       "QE_I08   1559      7   B   384\n",
       "QE_I09   1559      6   C   521\n",
       "QE_I10   1559      5   A   738\n",
       "QE_I11   1559     11   A   927\n",
       "QE_I12   1559      6   A  1391\n",
       "QE_I13   1559      6   A   826\n",
       "QE_I14   1559      6   A  1399\n",
       "QE_I15   1559      6   A  1212\n",
       "QE_I17   1559      6   B   768\n",
       "QE_I18   1559      5   A  1368\n",
       "QE_I19   1559      7   B  1115\n",
       "QE_I20   1559     11   C   593\n",
       "QE_I21   1559      2   A  1190\n",
       "QE_I22   1559      5   B   620\n",
       "QE_I23   1559      5   B   532\n",
       "QE_I24   1559      5   E   749\n",
       "QE_I25   1559      7   E   728\n",
       "QE_I26   1559      9   F   646"
      ]
     },
     "execution_count": 7,
     "metadata": {},
     "output_type": "execute_result"
    }
   ],
   "source": [
    "# Descrevendo as variáveis categóricas\n",
    "cat_obj = df.drop(['Instituicao', 'Municipio', 'UF', 'NO_CURSO'], axis=1).describe(include=[np.object])\n",
    "cat_obj.T"
   ]
  },
  {
   "cell_type": "markdown",
   "metadata": {},
   "source": [
    "## Análise exploratória dos dados"
   ]
  },
  {
   "cell_type": "code",
   "execution_count": 8,
   "metadata": {},
   "outputs": [
    {
     "data": {
      "text/html": [
       "<div>\n",
       "<style scoped>\n",
       "    .dataframe tbody tr th:only-of-type {\n",
       "        vertical-align: middle;\n",
       "    }\n",
       "\n",
       "    .dataframe tbody tr th {\n",
       "        vertical-align: top;\n",
       "    }\n",
       "\n",
       "    .dataframe thead th {\n",
       "        text-align: right;\n",
       "    }\n",
       "</style>\n",
       "<table border=\"1\" class=\"dataframe\">\n",
       "  <thead>\n",
       "    <tr style=\"text-align: right;\">\n",
       "      <th></th>\n",
       "      <th>CO_IES</th>\n",
       "    </tr>\n",
       "    <tr>\n",
       "      <th>Instituicao</th>\n",
       "      <th></th>\n",
       "    </tr>\n",
       "  </thead>\n",
       "  <tbody>\n",
       "    <tr>\n",
       "      <td>UNIVERSIDADE FEDERAL DE PERNAMBUCO (UFPE)</td>\n",
       "      <td>113</td>\n",
       "    </tr>\n",
       "    <tr>\n",
       "      <td>FACULDADE PITÁGORAS DE SÃO LUIZ</td>\n",
       "      <td>76</td>\n",
       "    </tr>\n",
       "    <tr>\n",
       "      <td>UNIVERSIDADE FEDERAL DE ALAGOAS (UFAL)</td>\n",
       "      <td>70</td>\n",
       "    </tr>\n",
       "    <tr>\n",
       "      <td>UNIVERSIDADE FEDERAL DA BAHIA (UFBA)</td>\n",
       "      <td>67</td>\n",
       "    </tr>\n",
       "    <tr>\n",
       "      <td>UNIVERSIDADE FEDERAL DE CAMPINA GRANDE (UFCG)</td>\n",
       "      <td>67</td>\n",
       "    </tr>\n",
       "    <tr>\n",
       "      <td>UNIVERSIDADE FEDERAL RURAL DE PERNAMBUCO (UFRPE)</td>\n",
       "      <td>66</td>\n",
       "    </tr>\n",
       "    <tr>\n",
       "      <td>UNIVERSIDADE ESTADUAL DO CEARÁ (UECE)</td>\n",
       "      <td>65</td>\n",
       "    </tr>\n",
       "    <tr>\n",
       "      <td>UNIVERSIDADE DE FORTALEZA (UNIFOR)</td>\n",
       "      <td>63</td>\n",
       "    </tr>\n",
       "    <tr>\n",
       "      <td>FACULDADE DE CIÊNCIAS APLICADAS E SOCIAIS DE PETROLINA (FACAPE)</td>\n",
       "      <td>63</td>\n",
       "    </tr>\n",
       "    <tr>\n",
       "      <td>UNIVERSIDADE FEDERAL DO CEARÁ (UFC)</td>\n",
       "      <td>54</td>\n",
       "    </tr>\n",
       "    <tr>\n",
       "      <td>CENTRO UNIVERSITÁRIO DE JOÃO PESSOA (UNIPÊ)</td>\n",
       "      <td>53</td>\n",
       "    </tr>\n",
       "    <tr>\n",
       "      <td>UNIVERSIDADE FEDERAL DO PIAUÍ (UFPI)</td>\n",
       "      <td>51</td>\n",
       "    </tr>\n",
       "    <tr>\n",
       "      <td>UNIVERSIDADE ESTADUAL VALE DO ACARAÚ (UVA)</td>\n",
       "      <td>49</td>\n",
       "    </tr>\n",
       "    <tr>\n",
       "      <td>UNIVERSIDADE FEDERAL DA PARAÍBA (UFPB)</td>\n",
       "      <td>47</td>\n",
       "    </tr>\n",
       "    <tr>\n",
       "      <td>INSTITUTO FEDERAL DE EDUCAÇÃO, CIÊNCIA E TECNOLOGIA DO CEARÁ (IFCE)</td>\n",
       "      <td>44</td>\n",
       "    </tr>\n",
       "    <tr>\n",
       "      <td>UNIVERSIDADE ESTADUAL DO PIAUÍ (UESPI)</td>\n",
       "      <td>44</td>\n",
       "    </tr>\n",
       "    <tr>\n",
       "      <td>INSTITUTO FEDERAL DE EDUCAÇÃO, CIÊNCIA E TECNOLOGIA DO MARANHÃO (IFMA)</td>\n",
       "      <td>40</td>\n",
       "    </tr>\n",
       "    <tr>\n",
       "      <td>UNIVERSIDADE DO ESTADO DO RIO GRANDE DO NORTE (UERN)</td>\n",
       "      <td>39</td>\n",
       "    </tr>\n",
       "    <tr>\n",
       "      <td>FACULDADE NOVA ROMA (FNR)</td>\n",
       "      <td>37</td>\n",
       "    </tr>\n",
       "    <tr>\n",
       "      <td>UNIVERSIDADE FEDERAL DO MARANHÃO (UFMA)</td>\n",
       "      <td>37</td>\n",
       "    </tr>\n",
       "    <tr>\n",
       "      <td>UNIVERSIDADE CATÓLICA DE PERNAMBUCO (UNICAP)</td>\n",
       "      <td>37</td>\n",
       "    </tr>\n",
       "    <tr>\n",
       "      <td>CENTRO UNIVERSITÁRIO DOS GUARARAPES (UNIFG)</td>\n",
       "      <td>37</td>\n",
       "    </tr>\n",
       "    <tr>\n",
       "      <td>UNIVERSIDADE FEDERAL DO RIO GRANDE DO NORTE (UFRN)</td>\n",
       "      <td>30</td>\n",
       "    </tr>\n",
       "    <tr>\n",
       "      <td>UNIVERSIDADE ESTADUAL DO SUDOESTE DA BAHIA (UESB)</td>\n",
       "      <td>30</td>\n",
       "    </tr>\n",
       "    <tr>\n",
       "      <td>FACULDADE DO PIAUÍ (FAPI)</td>\n",
       "      <td>28</td>\n",
       "    </tr>\n",
       "    <tr>\n",
       "      <td>UNIVERSIDADE SALVADOR (UNIFACS)</td>\n",
       "      <td>28</td>\n",
       "    </tr>\n",
       "    <tr>\n",
       "      <td>CENTRO UNIVERSITÁRIO FARIAS BRITO</td>\n",
       "      <td>28</td>\n",
       "    </tr>\n",
       "    <tr>\n",
       "      <td>UNIVERSIDADE ESTADUAL DE SANTA CRUZ (UESC)</td>\n",
       "      <td>27</td>\n",
       "    </tr>\n",
       "    <tr>\n",
       "      <td>UNIVERSIDADE FEDERAL DE SERGIPE (UFS)</td>\n",
       "      <td>26</td>\n",
       "    </tr>\n",
       "    <tr>\n",
       "      <td>UNIVERSIDADE TIRADENTES (UNIT)</td>\n",
       "      <td>25</td>\n",
       "    </tr>\n",
       "    <tr>\n",
       "      <td>Centro Universitário FBV Wyden (UniFBV Wyden)</td>\n",
       "      <td>25</td>\n",
       "    </tr>\n",
       "    <tr>\n",
       "      <td>FACULDADE ESTÁCIO DE TERESINA (ESTÁCIO TERESINA)</td>\n",
       "      <td>24</td>\n",
       "    </tr>\n",
       "    <tr>\n",
       "      <td>CENTRO UNIVERSITÁRIO DA GRANDE FORTALEZA (UNIGRANDE)</td>\n",
       "      <td>16</td>\n",
       "    </tr>\n",
       "    <tr>\n",
       "      <td>FACULDADE LOURENÇO FILHO (FLF)</td>\n",
       "      <td>13</td>\n",
       "    </tr>\n",
       "    <tr>\n",
       "      <td>Centro Universitário Ruy Barbosa Wyden (UniRuy Wyden)</td>\n",
       "      <td>11</td>\n",
       "    </tr>\n",
       "    <tr>\n",
       "      <td>FACULDADE DA CIDADE DE MACEIÓ (FACIMA)</td>\n",
       "      <td>6</td>\n",
       "    </tr>\n",
       "    <tr>\n",
       "      <td>UNIVERSIDADE FEDERAL RURAL DO SEMI-ÁRIDO (UFERSA)</td>\n",
       "      <td>6</td>\n",
       "    </tr>\n",
       "    <tr>\n",
       "      <td>INSTITUTO DE EDUCAÇÃO SUPERIOR RAIMUNDO SÁ (IESRSA)</td>\n",
       "      <td>5</td>\n",
       "    </tr>\n",
       "    <tr>\n",
       "      <td>FACULDADE PITÁGORAS DE TEIXEIRA DE FREITAS (PIT TEIXEIRA)</td>\n",
       "      <td>5</td>\n",
       "    </tr>\n",
       "    <tr>\n",
       "      <td>Estácio FIB - Centro Universitário Estácio da Bahia (Estácio FIB)</td>\n",
       "      <td>4</td>\n",
       "    </tr>\n",
       "    <tr>\n",
       "      <td>INSTITUTO PARAIBANO DE ENSINO RENOVADO (INPER)</td>\n",
       "      <td>3</td>\n",
       "    </tr>\n",
       "  </tbody>\n",
       "</table>\n",
       "</div>"
      ],
      "text/plain": [
       "                                                    CO_IES\n",
       "Instituicao                                               \n",
       "UNIVERSIDADE FEDERAL DE PERNAMBUCO (UFPE)              113\n",
       "FACULDADE PITÁGORAS DE SÃO LUIZ                         76\n",
       "UNIVERSIDADE FEDERAL DE ALAGOAS (UFAL)                  70\n",
       "UNIVERSIDADE FEDERAL DA BAHIA (UFBA)                    67\n",
       "UNIVERSIDADE FEDERAL DE CAMPINA GRANDE (UFCG)           67\n",
       "UNIVERSIDADE FEDERAL RURAL DE PERNAMBUCO (UFRPE)        66\n",
       "UNIVERSIDADE ESTADUAL DO CEARÁ (UECE)                   65\n",
       "UNIVERSIDADE DE FORTALEZA (UNIFOR)                      63\n",
       "FACULDADE DE CIÊNCIAS APLICADAS E SOCIAIS DE PE...      63\n",
       "UNIVERSIDADE FEDERAL DO CEARÁ (UFC)                     54\n",
       "CENTRO UNIVERSITÁRIO DE JOÃO PESSOA (UNIPÊ)             53\n",
       "UNIVERSIDADE FEDERAL DO PIAUÍ (UFPI)                    51\n",
       "UNIVERSIDADE ESTADUAL VALE DO ACARAÚ (UVA)              49\n",
       "UNIVERSIDADE FEDERAL DA PARAÍBA (UFPB)                  47\n",
       "INSTITUTO FEDERAL DE EDUCAÇÃO, CIÊNCIA E TECNOL...      44\n",
       "UNIVERSIDADE ESTADUAL DO PIAUÍ (UESPI)                  44\n",
       "INSTITUTO FEDERAL DE EDUCAÇÃO, CIÊNCIA E TECNOL...      40\n",
       "UNIVERSIDADE DO ESTADO DO RIO GRANDE DO NORTE (...      39\n",
       "FACULDADE NOVA ROMA (FNR)                               37\n",
       "UNIVERSIDADE FEDERAL DO MARANHÃO (UFMA)                 37\n",
       "UNIVERSIDADE CATÓLICA DE PERNAMBUCO (UNICAP)            37\n",
       "CENTRO UNIVERSITÁRIO DOS GUARARAPES (UNIFG)             37\n",
       "UNIVERSIDADE FEDERAL DO RIO GRANDE DO NORTE (UFRN)      30\n",
       "UNIVERSIDADE ESTADUAL DO SUDOESTE DA BAHIA (UESB)       30\n",
       "FACULDADE DO PIAUÍ (FAPI)                               28\n",
       "UNIVERSIDADE SALVADOR (UNIFACS)                         28\n",
       "CENTRO UNIVERSITÁRIO FARIAS BRITO                       28\n",
       "UNIVERSIDADE ESTADUAL DE SANTA CRUZ (UESC)              27\n",
       "UNIVERSIDADE FEDERAL DE SERGIPE (UFS)                   26\n",
       "UNIVERSIDADE TIRADENTES (UNIT)                          25\n",
       "Centro Universitário FBV Wyden (UniFBV Wyden)           25\n",
       "FACULDADE ESTÁCIO DE TERESINA (ESTÁCIO TERESINA)        24\n",
       "CENTRO UNIVERSITÁRIO DA GRANDE FORTALEZA (UNIGR...      16\n",
       "FACULDADE LOURENÇO FILHO (FLF)                          13\n",
       "Centro Universitário Ruy Barbosa Wyden (UniRuy ...      11\n",
       "FACULDADE DA CIDADE DE MACEIÓ (FACIMA)                   6\n",
       "UNIVERSIDADE FEDERAL RURAL DO SEMI-ÁRIDO (UFERSA)        6\n",
       "INSTITUTO DE EDUCAÇÃO SUPERIOR RAIMUNDO SÁ (IES...       5\n",
       "FACULDADE PITÁGORAS DE TEIXEIRA DE FREITAS (PIT...       5\n",
       "Estácio FIB - Centro Universitário Estácio da B...       4\n",
       "INSTITUTO PARAIBANO DE ENSINO RENOVADO (INPER)           3"
      ]
     },
     "execution_count": 8,
     "metadata": {},
     "output_type": "execute_result"
    }
   ],
   "source": [
    "# Quantidade de respostas do ENADE por IES\n",
    "pd.DataFrame(df.groupby('Instituicao')['CO_IES'].count()).sort_values(by='CO_IES', ascending=False)"
   ]
  },
  {
   "cell_type": "code",
   "execution_count": 9,
   "metadata": {},
   "outputs": [
    {
     "data": {
      "image/png": "[encoded data removed]",
      "text/plain": [
       "<Figure size 432x432 with 1 Axes>"
      ]
     },
     "metadata": {
      "needs_background": "light"
     },
     "output_type": "display_data"
    }
   ],
   "source": [
    "# Variável alvo NT_GER (Nota geral)\n",
    "\n",
    "# Definindo o tamanho da figura\n",
    "fig, ax = plt.subplots(figsize=(6,6))\n",
    "\n",
    "# Gerando a figura\n",
    "ax = sns.distplot(df['NT_GER'], kde=True)\n",
    "\n",
    "# Definindo o título da figura\n",
    "ax.set_title('Distribuição da Nota Geral - Enade 2017', fontsize=18)\n",
    "\n",
    "# Definindo o nome do eixo horizontal\n",
    "ax.set_xlabel('Nota Geral (0-100)', fontsize=15)\n",
    "\n",
    "# Exibindo a figura sem mensagem de retorno\n",
    "plt.show()"
   ]
  },
  {
   "cell_type": "code",
   "execution_count": 10,
   "metadata": {},
   "outputs": [
    {
     "data": {
      "image/png": "[encoded data removed]",
      "text/plain": [
       "<Figure size 432x432 with 3 Axes>"
      ]
     },
     "metadata": {
      "needs_background": "light"
     },
     "output_type": "display_data"
    }
   ],
   "source": [
    "# Idade do estudante vs a Nota geral obtida\n",
    "\n",
    "# Gerando a figura\n",
    "fig = sns.jointplot(x='NU_IDADE',y='NT_GER',data=df)\n",
    "\n",
    "# Definindo o nome do eixo horizontal\n",
    "fig.ax_joint.set_xlabel('Idade', fontweight='bold')\n",
    "\n",
    "# Definindo o nome do eixo vertical\n",
    "fig.ax_joint.set_ylabel('Nota no Enade', fontweight='bold')\n",
    "\n",
    "\n",
    "# Exibindo a figura sem mensagem de retorno\n",
    "plt.show()"
   ]
  },
  {
   "cell_type": "markdown",
   "metadata": {},
   "source": [
    "Como podemos verificar na visualização acima, os alunos com idade entre 20 e 25 anos obtiveram nota melhor na prova do Enade."
   ]
  },
  {
   "cell_type": "code",
   "execution_count": 11,
   "metadata": {},
   "outputs": [
    {
     "data": {
      "image/png": "[encoded data removed]",
      "text/plain": [
       "<Figure size 432x432 with 1 Axes>"
      ]
     },
     "metadata": {
      "needs_background": "light"
     },
     "output_type": "display_data"
    }
   ],
   "source": [
    "# Sexo x Nota geral\n",
    "\n",
    "# Definindo o tamanho da figura\n",
    "fig, ax = plt.subplots(figsize=(6,6))\n",
    "\n",
    "#Gerando a figura\n",
    "sns.barplot(x='TP_SEXO',y='NT_GER',data=df)\n",
    "\n",
    "# Definindo o título da figura\n",
    "ax.set_title('Sexo do estudante vs Nota Enade', fontsize=18)\n",
    "\n",
    "# Definindo o nome do eixo horizontal\n",
    "ax.set_xlabel('Sexo', fontsize=15)\n",
    "\n",
    "# Definindo o nome do eixo vertical\n",
    "ax.set_ylabel('Nota no Enade', fontsize=15)\n",
    "\n",
    "# Definindo a legenda manualmente\n",
    "l1 = mpatches.Patch(color='C0',label='Masculino')\n",
    "l2 = mpatches.Patch(color='C1',label='Feminino')\n",
    "plt.legend(handles=[l1,l2], title='SEXO', bbox_to_anchor=(1, 1))\n",
    "\n",
    "plt.show()"
   ]
  },
  {
   "cell_type": "markdown",
   "metadata": {},
   "source": [
    "Na visualização acima percebemos que a diferença entre a média das notas por sexo não é significativa."
   ]
  },
  {
   "cell_type": "code",
   "execution_count": 12,
   "metadata": {},
   "outputs": [
    {
     "data": {
      "image/png": "[encoded data removed]",
      "text/plain": [
       "<Figure size 432x432 with 1 Axes>"
      ]
     },
     "metadata": {
      "needs_background": "light"
     },
     "output_type": "display_data"
    }
   ],
   "source": [
    "# Estado Civil x Nota geral\n",
    "\n",
    "# Definindo o tamanho da figura\n",
    "fig, ax = plt.subplots(figsize=(6,6))\n",
    "\n",
    "# Ordenando as colunas\n",
    "order_q01 = pd.DataFrame(df.groupby('QE_I01')['NT_GER'].mean()).reset_index(\n",
    "        ).sort_values(by='NT_GER', ascending=False)['QE_I01'].values\n",
    "\n",
    "# Gerando a figura\n",
    "ax = sns.barplot(x='QE_I01',y='NT_GER', data=df, order=order_q01, ci=None)\n",
    "\n",
    "# Definindo o título da figura\n",
    "ax.set_title('Estado Civil vs Nota no Enade', fontsize=20)\n",
    "\n",
    "# Definindo o nome do eixo horizontal\n",
    "ax.set_xlabel('Estado Civil', fontsize=15)\n",
    "\n",
    "# Definindo o nome do eixo vertical\n",
    "ax.set_ylabel('Nota no Enade', fontsize=15)\n",
    "\n",
    "# Definindo a legenda manualmente\n",
    "l1 = mpatches.Patch(color='C0',label='Solteiro')\n",
    "l2 = mpatches.Patch(color='C1',label='Casado')\n",
    "l3 = mpatches.Patch(color='C2',label='Outro')\n",
    "l4 = mpatches.Patch(color='C3',label='Separado/divorciado')\n",
    "plt.legend(handles=[l1,l2,l3,l4], title='COR/RAÇA', bbox_to_anchor=(1, 1))\n",
    "\n",
    "# Exibindo a figura sem mensagem de retorno\n",
    "plt.show()"
   ]
  },
  {
   "cell_type": "markdown",
   "metadata": {},
   "source": [
    "O estado civil parece influenciar na média das notas na prova."
   ]
  },
  {
   "cell_type": "code",
   "execution_count": 13,
   "metadata": {},
   "outputs": [
    {
     "data": {
      "image/png": "[encoded data removed]",
      "text/plain": [
       "<Figure size 432x432 with 1 Axes>"
      ]
     },
     "metadata": {
      "needs_background": "light"
     },
     "output_type": "display_data"
    }
   ],
   "source": [
    "# Cor/Raça x Nota geral\n",
    "\n",
    "# Definindo o tamanho da figura\n",
    "fig, ax = plt.subplots(figsize=(6,6))\n",
    "\n",
    "# Ordenando as colunas\n",
    "order_q02 = pd.DataFrame(df.groupby('QE_I02')['NT_GER'].mean()).reset_index(\n",
    "        ).sort_values(by='NT_GER', ascending=False)['QE_I02'].values\n",
    "\n",
    "# Gerando a figura\n",
    "ax = sns.barplot(x='QE_I02',y='NT_GER',data=df, order=order_q02, ci=None)\n",
    "\n",
    "# Definindo o título da figura\n",
    "ax.set_title('Cor/Raça vs Nota no Enade', fontsize=20)\n",
    "\n",
    "# Definindo o nome do eixo horizontal\n",
    "ax.set_xlabel('Cor/Raça', fontsize=15)\n",
    "\n",
    "# Definindo o nome do eixo vertical\n",
    "ax.set_ylabel('Nota no Enade', fontsize=15)\n",
    "\n",
    "# Definindo a legenda manualmente\n",
    "l1 = mpatches.Patch(color='C0',label='Não declarado')\n",
    "l2 = mpatches.Patch(color='C1',label='Branca')\n",
    "l3 = mpatches.Patch(color='C2',label='Parda')\n",
    "l4 = mpatches.Patch(color='C3',label='Preta')\n",
    "l5 = mpatches.Patch(color='C4',label='Amarela')\n",
    "l6 = mpatches.Patch(color='C5',label='Indígena')\n",
    "plt.legend(handles=[l1,l2,l3,l4,l5,l6], title='COR/RAÇA', bbox_to_anchor=(1, 1))\n",
    "\n",
    "# Exibindo a figura sem mensagem de retorno\n",
    "plt.show()"
   ]
  },
  {
   "cell_type": "markdown",
   "metadata": {},
   "source": [
    "A cor/raça parece influenciar na média das notas na prova."
   ]
  },
  {
   "cell_type": "code",
   "execution_count": 14,
   "metadata": {},
   "outputs": [
    {
     "data": {
      "image/png": "[encoded data removed]",
      "text/plain": [
       "<Figure size 432x432 with 1 Axes>"
      ]
     },
     "metadata": {
      "needs_background": "light"
     },
     "output_type": "display_data"
    }
   ],
   "source": [
    "# Escolaridade do pai x Nota geral\n",
    "\n",
    "# Definindo o tamanho da figura\n",
    "fig, ax = plt.subplots(figsize=(6,6))\n",
    "\n",
    "# Ordenando as colunas\n",
    "order_q04 = pd.DataFrame(df.groupby('QE_I04')['NT_GER'].mean()).reset_index(\n",
    "            ).sort_values(by='NT_GER', ascending=False)['QE_I04'].values\n",
    "\n",
    "# Gerando a figura\n",
    "ax = sns.barplot(x='QE_I04',y='NT_GER',data=df, order=order_q04, ci=None)\n",
    "\n",
    "# Definindo o título da figura\n",
    "ax.set_title('Escolaridade do pai vs Nota no Enade', fontsize=20)\n",
    "\n",
    "# Definindo o nome do eixo horizontal\n",
    "ax.set_xlabel('Escolaridade do Pai', fontsize=15)\n",
    "\n",
    "# Definindo o nome do eixo vertical\n",
    "ax.set_ylabel('Nota no Enade', fontsize=15)\n",
    "\n",
    "# Definindo a legenda manualmente\n",
    "l1 = mpatches.Patch(color='C0',label='Ensino superior')\n",
    "l2 = mpatches.Patch(color='C1',label='Pós-graduação')\n",
    "l3 = mpatches.Patch(color='C2',label='Ensino médio')\n",
    "l4 = mpatches.Patch(color='C3',label='6º ao 9º ano do ensino fundamental')\n",
    "l5 = mpatches.Patch(color='C4',label='Nenhuma')\n",
    "l6 = mpatches.Patch(color='C5',label='1º ao 5º ano do ensino fundamental')\n",
    "plt.legend(handles=[l1,l2,l3,l4,l5,l6], title='Escolaridade', bbox_to_anchor=(1, 1))\n",
    "\n",
    "# Exibindo a figura sem mensagem de retorno\n",
    "plt.show()"
   ]
  },
  {
   "cell_type": "markdown",
   "metadata": {},
   "source": [
    "O nível de escolaridade do pai parece influenciar na nota dos estudantes no Enade."
   ]
  },
  {
   "cell_type": "code",
   "execution_count": 15,
   "metadata": {},
   "outputs": [
    {
     "data": {
      "image/png": "[encoded data removed]",
      "text/plain": [
       "<Figure size 432x432 with 1 Axes>"
      ]
     },
     "metadata": {
      "needs_background": "light"
     },
     "output_type": "display_data"
    }
   ],
   "source": [
    "# Escolaridade da mãe x Nota geral\n",
    "\n",
    "# Definindo o tamanho da figura\n",
    "fig, ax = plt.subplots(figsize=(6,6))\n",
    "\n",
    "# Ordenando as colunas\n",
    "order_q05 = pd.DataFrame(df.groupby('QE_I05')['NT_GER'].mean()).reset_index(\n",
    "            ).sort_values(by='NT_GER', ascending=False)['QE_I05'].values\n",
    "\n",
    "# Gerando a figura\n",
    "ax = sns.barplot(x='QE_I05',y='NT_GER',data=df, order=order_q05, ci=None)\n",
    "\n",
    "# Definindo o título da figura\n",
    "ax.set_title('Escolaridade da maẽ vs Nota no Enade', fontsize=20)\n",
    "\n",
    "# Definindo o nome do eixo horizontal\n",
    "ax.set_xlabel('Escolaridade da mãe', fontsize=15)\n",
    "\n",
    "# Definindo o nome do eixo vertical\n",
    "ax.set_ylabel('Nota no Enade', fontsize=15)\n",
    "\n",
    "# Definindo a legenda manualmente\n",
    "l1 = mpatches.Patch(color='C0',label='Ensino superior')\n",
    "l2 = mpatches.Patch(color='C1',label='Pós-graduação')\n",
    "l3 = mpatches.Patch(color='C2',label='Ensino médio')\n",
    "l4 = mpatches.Patch(color='C3',label='1º ao 5º ano do ensino fundamental')\n",
    "l5 = mpatches.Patch(color='C4',label='6º ao 9º ano do ensino fundamental')\n",
    "l6 = mpatches.Patch(color='C5',label='Nenhuma')\n",
    "plt.legend(handles=[l1,l2,l3,l4,l5,l6], title='Escolaridade', bbox_to_anchor=(1, 1))\n",
    "\n",
    "# Exibindo a figura sem mensagem de retorno\n",
    "plt.show()"
   ]
  },
  {
   "cell_type": "markdown",
   "metadata": {},
   "source": [
    "O nível de escolaridade da maẽ parece influenciar na nota dos estudantes no Enade."
   ]
  },
  {
   "cell_type": "code",
   "execution_count": 16,
   "metadata": {},
   "outputs": [
    {
     "data": {
      "image/png": "[encoded data removed]",
      "text/plain": [
       "<Figure size 432x432 with 1 Axes>"
      ]
     },
     "metadata": {
      "needs_background": "light"
     },
     "output_type": "display_data"
    }
   ],
   "source": [
    "# Renda familiar vs nota no Enade\n",
    "\n",
    "# Definindo o tamanho da figura\n",
    "fig, ax = plt.subplots(figsize=(6,6))\n",
    "\n",
    "\n",
    "# Ordenando as colunas\n",
    "order_q08 = pd.DataFrame(df.groupby('QE_I08')['NT_GER'].mean()).reset_index(\n",
    "            ).sort_values(by='NT_GER', ascending=False)['QE_I08'].values\n",
    "\n",
    "# Gerando a figura\n",
    "ax = sns.barplot(x='QE_I08',y='NT_GER',data=df, order=order_q08, ci=None)\n",
    "\n",
    "# Definindo o título da figura\n",
    "ax.set_title('Renda familiar vs Nota no Enade', fontsize=20)\n",
    "\n",
    "# Definindo o nome do eixo horizontal\n",
    "ax.set_xlabel('Renda Familiar', fontsize=15)\n",
    "\n",
    "# Definindo o nome do eixo vertical\n",
    "ax.set_ylabel('Nota no Enade', fontsize=15)\n",
    "\n",
    "# Definindo a legenda manualmente\n",
    "l1 = mpatches.Patch(color='C0',label='De 10 a 30 salários mínimos')\n",
    "l2 = mpatches.Patch(color='C1',label='Acima de 30 salários mínimos')\n",
    "l3 = mpatches.Patch(color='C2',label='De 6 a 10 salários mínimos')\n",
    "l4 = mpatches.Patch(color='C3',label='De 4,5 a 6 salários mínimos')\n",
    "l5 = mpatches.Patch(color='C4',label='De 3 a 4,5 salários mínimos')\n",
    "l6 = mpatches.Patch(color='C5',label='De 1,5 a 3 salários mínimos')\n",
    "l7 = mpatches.Patch(color='C6',label='Até 1,5 salário mínimo')\n",
    "plt.legend(handles=[l1,l2,l3,l4,l5,l6,l7], title='Renda Familiar', bbox_to_anchor=(1, 1))\n",
    "\n",
    "# Exibindo a figura sem mensagem de retorno\n",
    "plt.show()"
   ]
  },
  {
   "cell_type": "markdown",
   "metadata": {},
   "source": [
    "Quanto maior a renda da familia dos estudantes, melhor a média das notas no Enade 2017. "
   ]
  },
  {
   "cell_type": "markdown",
   "metadata": {},
   "source": [
    "Assim como visto acima outras variáveis, presente nos dados, podem ser analisadas e verificadas a sua relevância em relação a nota geral do estudante de computação das universidade/faculdades do nordeste no Enade 2017"
   ]
  },
  {
   "cell_type": "markdown",
   "metadata": {},
   "source": [
    "### Preparação dos dados para a Regressão Linear"
   ]
  },
  {
   "cell_type": "markdown",
   "metadata": {},
   "source": [
    "Alguns atributos dos dados não serão utilizados para a contrução dos modelos e serão removidos:\n",
    "\n",
    "**CO_IES** -> Código da instituição\n",
    "\n",
    "**Instituição** -> Nome da Instituição\n",
    "\n",
    "**CO_CURSO** -> Código do curso\n",
    "\n",
    "**NO_CURSO** -> Nome do curso\n",
    "\n",
    "**Município** -> Nome do município onde da sede da IES\n",
    "\n",
    "**UF** -> Sigla do estado da IES"
   ]
  },
  {
   "cell_type": "code",
   "execution_count": 17,
   "metadata": {},
   "outputs": [],
   "source": [
    "#### Selecionando as variáveis que serão utilizadas para a contrução do modelo\n",
    "df_model = df[['CO_CATEGAD', 'TP_SEXO', 'NU_IDADE', 'QE_I01', 'QE_I02', 'QE_I04', 'QE_I05',\n",
    "               'QE_I06', 'QE_I07', 'QE_I08', 'QE_I09', 'QE_I10', 'QE_I11', 'QE_I12', 'QE_I13', \n",
    "               'QE_I14', 'QE_I15', 'QE_I17', 'QE_I18', 'QE_I19', 'QE_I20', 'QE_I21', 'QE_I22', \n",
    "               'QE_I23', 'QE_I24', 'QE_I25', 'QE_I26', 'NT_GER']]"
   ]
  },
  {
   "cell_type": "markdown",
   "metadata": {},
   "source": [
    "#### Convertendo recursos categóricos\n",
    "\n",
    "A biblioteca do scikit trabalha exclusivamente com atributos numéricos. Logo, é necessário transformar os campos categóricos em variáveis dummy (a variável dummy é uma variável categegórica transformada em numérica). Caso contrário, nosso algoritmo não aceitará esses atributos diretamente como entradas."
   ]
  },
  {
   "cell_type": "code",
   "execution_count": 18,
   "metadata": {},
   "outputs": [
    {
     "data": {
      "text/plain": [
       "Index(['TP_SEXO', 'QE_I01', 'QE_I02', 'QE_I04', 'QE_I05', 'QE_I06', 'QE_I07',\n",
       "       'QE_I08', 'QE_I09', 'QE_I10', 'QE_I11', 'QE_I12', 'QE_I13', 'QE_I14',\n",
       "       'QE_I15', 'QE_I17', 'QE_I18', 'QE_I19', 'QE_I20', 'QE_I21', 'QE_I22',\n",
       "       'QE_I23', 'QE_I24', 'QE_I25', 'QE_I26'],\n",
       "      dtype='object')"
      ]
     },
     "execution_count": 18,
     "metadata": {},
     "output_type": "execute_result"
    }
   ],
   "source": [
    "# Listando as colunas com variáveis categóricas\n",
    "df_model.dtypes[df.dtypes == \"object\"].index"
   ]
  },
  {
   "cell_type": "code",
   "execution_count": 19,
   "metadata": {},
   "outputs": [],
   "source": [
    "# Variáveis categóricas que serão utilizadas como preditores\n",
    "categoricas_df = pd.get_dummies(df_model[['TP_SEXO', 'QE_I01', 'QE_I02', 'QE_I04', 'QE_I05', 'QE_I06', 'QE_I07',\n",
    "                                          'QE_I08', 'QE_I09', 'QE_I10', 'QE_I11', 'QE_I12', 'QE_I13', 'QE_I14',\n",
    "                                          'QE_I15', 'QE_I17', 'QE_I18', 'QE_I19', 'QE_I20', 'QE_I21', 'QE_I22',\n",
    "                                          'QE_I23', 'QE_I24', 'QE_I25', 'QE_I26']], drop_first=True)"
   ]
  },
  {
   "cell_type": "code",
   "execution_count": 20,
   "metadata": {},
   "outputs": [],
   "source": [
    "# Criando o dataset de treino após o pré-processamento\n",
    "# Removendo os atributos numéricos do dataset\n",
    "temp = df_model.drop(['TP_SEXO', 'QE_I01', 'QE_I02', 'QE_I04', 'QE_I05', 'QE_I06', 'QE_I07',\n",
    "                      'QE_I08', 'QE_I09', 'QE_I10', 'QE_I11', 'QE_I12', 'QE_I13', 'QE_I14',\n",
    "                      'QE_I15', 'QE_I17', 'QE_I18', 'QE_I19', 'QE_I20', 'QE_I21', 'QE_I22',\n",
    "                      'QE_I23', 'QE_I24', 'QE_I25', 'QE_I26'], axis=1)\n",
    "# Criando novo dataset com as variáveis numéricas e as variáveis dummy\n",
    "df_model = pd.concat([temp,categoricas_df],axis=1)"
   ]
  },
  {
   "cell_type": "markdown",
   "metadata": {},
   "source": [
    "## Treinando um modelo de regressão linear\n",
    "\n",
    "Vamos agora começar a treinar o modelo de regressão. Precisamos primeiro dividir nossos dados em uma matriz X que contém os recursos para treinar, e uma matriz y com a variável alvo, neste caso, a coluna NT_GER (Nota Geral no ENADE 2017). "
   ]
  },
  {
   "cell_type": "code",
   "execution_count": 21,
   "metadata": {},
   "outputs": [],
   "source": [
    "# Serão utilizada nesse modelo, para fins didáticos, todas as variáveis selecionadas\n",
    "# Separando as variáveis preditoras e alvo\n",
    "# Variáveis preditoras\n",
    "X = df_model.drop(['NT_GER'], axis=1)\n",
    "# Variável alvo\n",
    "y = df_model['NT_GER']"
   ]
  },
  {
   "cell_type": "markdown",
   "metadata": {},
   "source": [
    "#### Split de treino/teste\n",
    "\n",
    "Agora vamos dividir os dados em um conjunto de treinamento e um conjunto de testes. Vamos criar o modelo usando o conjunto de treinamento e depois usar o conjunto de testes para avaliar o modelo."
   ]
  },
  {
   "cell_type": "code",
   "execution_count": 22,
   "metadata": {},
   "outputs": [],
   "source": [
    "from sklearn.model_selection import train_test_split"
   ]
  },
  {
   "cell_type": "code",
   "execution_count": 23,
   "metadata": {},
   "outputs": [],
   "source": [
    "X_train, X_test, y_train, y_test = train_test_split(X, y, test_size=0.2, random_state=101)"
   ]
  },
  {
   "cell_type": "markdown",
   "metadata": {},
   "source": [
    "#### Criando e treinando o modelo"
   ]
  },
  {
   "cell_type": "code",
   "execution_count": 24,
   "metadata": {},
   "outputs": [],
   "source": [
    "from sklearn.linear_model import LinearRegression"
   ]
  },
  {
   "cell_type": "code",
   "execution_count": 25,
   "metadata": {},
   "outputs": [],
   "source": [
    "lm = LinearRegression()"
   ]
  },
  {
   "cell_type": "code",
   "execution_count": 26,
   "metadata": {},
   "outputs": [
    {
     "data": {
      "text/plain": [
       "LinearRegression(copy_X=True, fit_intercept=True, n_jobs=None, normalize=False)"
      ]
     },
     "execution_count": 26,
     "metadata": {},
     "output_type": "execute_result"
    }
   ],
   "source": [
    "lm.fit(X_train,y_train)"
   ]
  },
  {
   "cell_type": "markdown",
   "metadata": {},
   "source": [
    "#### Intercept e coeficientes"
   ]
  },
  {
   "cell_type": "code",
   "execution_count": 27,
   "metadata": {},
   "outputs": [
    {
     "name": "stdout",
     "output_type": "stream",
     "text": [
      "49.11762577055147\n"
     ]
    }
   ],
   "source": [
    "# Exibindo a intercepção\n",
    "print(lm.intercept_)"
   ]
  },
  {
   "cell_type": "code",
   "execution_count": 28,
   "metadata": {},
   "outputs": [
    {
     "data": {
      "text/html": [
       "<div>\n",
       "<style scoped>\n",
       "    .dataframe tbody tr th:only-of-type {\n",
       "        vertical-align: middle;\n",
       "    }\n",
       "\n",
       "    .dataframe tbody tr th {\n",
       "        vertical-align: top;\n",
       "    }\n",
       "\n",
       "    .dataframe thead th {\n",
       "        text-align: right;\n",
       "    }\n",
       "</style>\n",
       "<table border=\"1\" class=\"dataframe\">\n",
       "  <thead>\n",
       "    <tr style=\"text-align: right;\">\n",
       "      <th></th>\n",
       "      <th>Coefficient</th>\n",
       "    </tr>\n",
       "  </thead>\n",
       "  <tbody>\n",
       "    <tr>\n",
       "      <td>QE_I17_C</td>\n",
       "      <td>20.137597</td>\n",
       "    </tr>\n",
       "    <tr>\n",
       "      <td>QE_I20_I</td>\n",
       "      <td>13.824214</td>\n",
       "    </tr>\n",
       "    <tr>\n",
       "      <td>QE_I06_E</td>\n",
       "      <td>11.795059</td>\n",
       "    </tr>\n",
       "    <tr>\n",
       "      <td>QE_I06_F</td>\n",
       "      <td>8.740453</td>\n",
       "    </tr>\n",
       "    <tr>\n",
       "      <td>QE_I17_F</td>\n",
       "      <td>7.492190</td>\n",
       "    </tr>\n",
       "    <tr>\n",
       "      <td>QE_I11_C</td>\n",
       "      <td>7.048568</td>\n",
       "    </tr>\n",
       "    <tr>\n",
       "      <td>QE_I13_E</td>\n",
       "      <td>6.918060</td>\n",
       "    </tr>\n",
       "    <tr>\n",
       "      <td>QE_I09_F</td>\n",
       "      <td>6.557507</td>\n",
       "    </tr>\n",
       "    <tr>\n",
       "      <td>QE_I11_G</td>\n",
       "      <td>6.231879</td>\n",
       "    </tr>\n",
       "    <tr>\n",
       "      <td>QE_I14_F</td>\n",
       "      <td>5.596505</td>\n",
       "    </tr>\n",
       "  </tbody>\n",
       "</table>\n",
       "</div>"
      ],
      "text/plain": [
       "          Coefficient\n",
       "QE_I17_C    20.137597\n",
       "QE_I20_I    13.824214\n",
       "QE_I06_E    11.795059\n",
       "QE_I06_F     8.740453\n",
       "QE_I17_F     7.492190\n",
       "QE_I11_C     7.048568\n",
       "QE_I13_E     6.918060\n",
       "QE_I09_F     6.557507\n",
       "QE_I11_G     6.231879\n",
       "QE_I14_F     5.596505"
      ]
     },
     "execution_count": 28,
     "metadata": {},
     "output_type": "execute_result"
    }
   ],
   "source": [
    "# Exibindo os coeficientes\n",
    "coeff_df = pd.DataFrame(lm.coef_,X.columns,columns=['Coefficient'])\n",
    "# 10 primeiros coeficientes\n",
    "coeff_df.sort_values(by='Coefficient', ascending=False).head(10)"
   ]
  },
  {
   "cell_type": "markdown",
   "metadata": {},
   "source": [
    "### Predições do modelo"
   ]
  },
  {
   "cell_type": "code",
   "execution_count": 29,
   "metadata": {},
   "outputs": [],
   "source": [
    "predictions = lm.predict(X_test)"
   ]
  },
  {
   "cell_type": "markdown",
   "metadata": {},
   "source": [
    "### Metricas de avaliação da regressão"
   ]
  },
  {
   "cell_type": "markdown",
   "metadata": {},
   "source": [
    "**Root Mean Square Error** (raiz do erro quadrático médio) (RMSE) é a raiz quadrada da média dos erros quadrados:\n",
    "\n",
    "$$\\sqrt{\\frac 1n\\sum_{i=1}^n(y_i-\\hat{y}_i)^2}$$\n",
    "\n",
    "\n",
    "**Coeficiente de Determinação**, também chamado de R², é uma medida de ajustamento de um modelo estatístico linear generalizado, como a regressão linear, em relação aos valores observados. O R² varia entre 0 e 1, indicando, em percentagem, o quanto o modelo consegue explicar os valores observados. Quanto maior o R², mais explicativo é o modelo, melhor ele se ajusta à amostra.\n",
    "\n",
    "$$R^2=1-\\frac{\\sum_{i=1}^n (y_i -\\hat{y_i})^2}{\\sum_{i=1}^n (y_i-\\bar{y})^2}$$\n",
    "\n",
    "onde:\n",
    "\n",
    "- ${n}$ é o número de observações\n",
    "- ${y_i}$ é o valor observado\n",
    "- $\\bar{y}$ é a média das observações\n",
    "- $\\hat{y_i}$ é o valor estimado (previsão) de $y_i$"
   ]
  },
  {
   "cell_type": "code",
   "execution_count": 30,
   "metadata": {},
   "outputs": [],
   "source": [
    "# Importando as métricas\n",
    "from sklearn import metrics"
   ]
  },
  {
   "cell_type": "code",
   "execution_count": 31,
   "metadata": {},
   "outputs": [
    {
     "name": "stdout",
     "output_type": "stream",
     "text": [
      "RMSE: 10.867991080569977\n"
     ]
    }
   ],
   "source": [
    "# Computando o RMSE (Root Mean Square Error)\n",
    "print('RMSE:', np.sqrt(metrics.mean_squared_error(y_test, predictions)))"
   ]
  },
  {
   "cell_type": "code",
   "execution_count": 32,
   "metadata": {},
   "outputs": [
    {
     "name": "stdout",
     "output_type": "stream",
     "text": [
      "R²: 0.2228766777215826\n"
     ]
    }
   ],
   "source": [
    "# Coeficiente de determinação (R²)\n",
    "print('R²:', metrics.r2_score(y_test, predictions))"
   ]
  },
  {
   "cell_type": "markdown",
   "metadata": {},
   "source": [
    "#### Visualizações"
   ]
  },
  {
   "cell_type": "code",
   "execution_count": 33,
   "metadata": {
    "scrolled": false
   },
   "outputs": [
    {
     "data": {
      "image/png": "[encoded data removed]",
      "text/plain": [
       "<Figure size 432x432 with 1 Axes>"
      ]
     },
     "metadata": {
      "needs_background": "light"
     },
     "output_type": "display_data"
    }
   ],
   "source": [
    "# Visualizando a predição do modelo\n",
    "fig, ax = plt.subplots(figsize=(6, 6))\n",
    "ax.scatter(y_test, predictions)\n",
    "ax.plot([5, y_test.max()], [5, predictions.max()], '--k', c='blue')\n",
    "ax.set_ylabel('Nota Predita')\n",
    "ax.set_xlabel('Nota Real')\n",
    "ax.set_title('Regressão Linear')\n",
    "ax.text(50, 10, r'$R^2$=%.4f, RMSE=%.4f' % (\n",
    "    metrics.r2_score(y_test, predictions), np.sqrt(metrics.mean_squared_error(y_test, predictions))))\n",
    "ax.set_xlim([0,  y_test.max()+5])\n",
    "ax.set_ylim([0, predictions.max()+5])\n",
    "plt.show()"
   ]
  },
  {
   "cell_type": "code",
   "execution_count": 34,
   "metadata": {},
   "outputs": [
    {
     "data": {
      "image/png": "[encoded data removed]",
      "text/plain": [
       "<Figure size 432x432 with 1 Axes>"
      ]
     },
     "metadata": {
      "needs_background": "light"
     },
     "output_type": "display_data"
    }
   ],
   "source": [
    "### Histograma residual\n",
    "fig, ax = plt.subplots(figsize=(6, 6))\n",
    "sns.distplot((y_test - predictions), bins=50)\n",
    "ax.set_title('Histograma residual')\n",
    "ax.set_xlabel('Notas')\n",
    "plt.show()"
   ]
  },
  {
   "cell_type": "markdown",
   "metadata": {},
   "source": [
    "### Conclusão"
   ]
  },
  {
   "cell_type": "code",
   "execution_count": 35,
   "metadata": {},
   "outputs": [
    {
     "name": "stdout",
     "output_type": "stream",
     "text": [
      "49.11762577055147\n"
     ]
    }
   ],
   "source": [
    "# Intercept\n",
    "print(lm.intercept_)"
   ]
  },
  {
   "cell_type": "code",
   "execution_count": 36,
   "metadata": {},
   "outputs": [
    {
     "data": {
      "text/html": [
       "<div>\n",
       "<style scoped>\n",
       "    .dataframe tbody tr th:only-of-type {\n",
       "        vertical-align: middle;\n",
       "    }\n",
       "\n",
       "    .dataframe tbody tr th {\n",
       "        vertical-align: top;\n",
       "    }\n",
       "\n",
       "    .dataframe thead th {\n",
       "        text-align: right;\n",
       "    }\n",
       "</style>\n",
       "<table border=\"1\" class=\"dataframe\">\n",
       "  <thead>\n",
       "    <tr style=\"text-align: right;\">\n",
       "      <th></th>\n",
       "      <th>Coefficient</th>\n",
       "    </tr>\n",
       "  </thead>\n",
       "  <tbody>\n",
       "    <tr>\n",
       "      <td>QE_I17_C</td>\n",
       "      <td>20.137597</td>\n",
       "    </tr>\n",
       "    <tr>\n",
       "      <td>QE_I20_I</td>\n",
       "      <td>13.824214</td>\n",
       "    </tr>\n",
       "    <tr>\n",
       "      <td>QE_I06_E</td>\n",
       "      <td>11.795059</td>\n",
       "    </tr>\n",
       "    <tr>\n",
       "      <td>QE_I06_F</td>\n",
       "      <td>8.740453</td>\n",
       "    </tr>\n",
       "    <tr>\n",
       "      <td>QE_I17_F</td>\n",
       "      <td>7.492190</td>\n",
       "    </tr>\n",
       "    <tr>\n",
       "      <td>QE_I11_C</td>\n",
       "      <td>7.048568</td>\n",
       "    </tr>\n",
       "    <tr>\n",
       "      <td>QE_I13_E</td>\n",
       "      <td>6.918060</td>\n",
       "    </tr>\n",
       "    <tr>\n",
       "      <td>QE_I09_F</td>\n",
       "      <td>6.557507</td>\n",
       "    </tr>\n",
       "    <tr>\n",
       "      <td>QE_I11_G</td>\n",
       "      <td>6.231879</td>\n",
       "    </tr>\n",
       "    <tr>\n",
       "      <td>QE_I14_F</td>\n",
       "      <td>5.596505</td>\n",
       "    </tr>\n",
       "  </tbody>\n",
       "</table>\n",
       "</div>"
      ],
      "text/plain": [
       "          Coefficient\n",
       "QE_I17_C    20.137597\n",
       "QE_I20_I    13.824214\n",
       "QE_I06_E    11.795059\n",
       "QE_I06_F     8.740453\n",
       "QE_I17_F     7.492190\n",
       "QE_I11_C     7.048568\n",
       "QE_I13_E     6.918060\n",
       "QE_I09_F     6.557507\n",
       "QE_I11_G     6.231879\n",
       "QE_I14_F     5.596505"
      ]
     },
     "execution_count": 36,
     "metadata": {},
     "output_type": "execute_result"
    }
   ],
   "source": [
    "# Coeficientes\n",
    "coeff_df = pd.DataFrame(lm.coef_,X.columns,columns=['Coefficient'])\n",
    "# 10 primeiros coeficientes\n",
    "coeff_df.sort_values(by='Coefficient', ascending=False).head(10)"
   ]
  },
  {
   "cell_type": "markdown",
   "metadata": {},
   "source": [
    "Interpretando os coeficientes:\n",
    "\n",
    "**Mantendo todos as outras variáveis constantes**, um aumento de 1 unidade na VariavelX está associado a um aumento de Y na nota geral do estudante."
   ]
  },
  {
   "cell_type": "code",
   "execution_count": null,
   "metadata": {},
   "outputs": [],
   "source": []
  }
 ],
 "metadata": {
  "kernelspec": {
   "display_name": "Python 3",
   "language": "python",
   "name": "python3"
  },
  "language_info": {
   "codemirror_mode": {
    "name": "ipython",
    "version": 3
   },
   "file_extension": ".py",
   "mimetype": "text/x-python",
   "name": "python",
   "nbconvert_exporter": "python",
   "pygments_lexer": "ipython3",
   "version": "3.7.4"
  }
 },
 "nbformat": 4,
 "nbformat_minor": 2
}
