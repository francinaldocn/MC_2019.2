{
 "cells": [
  {
   "cell_type": "markdown",
   "metadata": {},
   "source": [
    "# ENADE 2017\n",
    "\n",
    "Dados do curso de Bacharelado em Ciência da Computação da Universidade Federal do Ceará, campus Fortaleza"
   ]
  },
  {
   "cell_type": "markdown",
   "metadata": {},
   "source": [
    "**Como é calculada a nota do ENADE?**\n",
    "\n",
    "Para calcular a nota do ENADE, são tiradas separadamente as médias das notas dos estudantes na prova de Formação Geral e na de Componente Específico. Em seguida, é calculada uma média ponderada entre esses dois valores, sendo atribuído peso 1 ao primeiro e 3 ao segundo.\n",
    "\n",
    "As médias obtidas pelos alunos são então padronizadas, de acordo com a média brasileira e o desvio padrão, em conceitos que vão de 1 a 5. Sendo atribuído o conceito 3 aos cursos que estão na média ou próximos a ela, 1 e 2 aos que estão abaixo e 4 e 5 aos que estão acima.\n",
    "\n",
    "Dessa forma, **a nota do ENADE é sempre um valor relativo**, ou seja, aponta para uma **comparação entre o curso da instituição de ensino superior observada e os cursos restantes daquela área no país**"
   ]
  },
  {
   "cell_type": "markdown",
   "metadata": {},
   "source": [
    "### Carregando as bibliotecas necessárias"
   ]
  },
  {
   "cell_type": "code",
   "execution_count": 29,
   "metadata": {},
   "outputs": [],
   "source": [
    "# Biblioteca científica\n",
    "import numpy as np\n",
    "# Biblioteca para análise de dados\n",
    "import pandas as pd\n",
    "# Suprimindo os warnings da biblioteca pandas\n",
    "pd.options.mode.chained_assignment = None\n",
    "# Bibliotecas de visualização de dados\n",
    "import matplotlib.pyplot as plt\n",
    "import matplotlib.patches as mpatches\n",
    "import matplotlib.ticker as mtick\n",
    "plt.style.use('ggplot')\n",
    "import seaborn as sns\n",
    "sns.set_style('whitegrid')\n",
    "%matplotlib inline"
   ]
  },
  {
   "cell_type": "markdown",
   "metadata": {},
   "source": [
    "### Carregando e verificando os dados"
   ]
  },
  {
   "cell_type": "code",
   "execution_count": 649,
   "metadata": {},
   "outputs": [],
   "source": [
    "# Dados do Exame Nacional de Desempenho dos Estudantes - 2017 (Curso de computação da UFC, campus Fortaleza)\n",
    "df = pd.read_csv('dados/computacao_UFC_ENDADE2017.csv')"
   ]
  },
  {
   "cell_type": "code",
   "execution_count": 650,
   "metadata": {
    "scrolled": false
   },
   "outputs": [
    {
     "data": {
      "text/html": [
       "<div>\n",
       "<style scoped>\n",
       "    .dataframe tbody tr th:only-of-type {\n",
       "        vertical-align: middle;\n",
       "    }\n",
       "\n",
       "    .dataframe tbody tr th {\n",
       "        vertical-align: top;\n",
       "    }\n",
       "\n",
       "    .dataframe thead th {\n",
       "        text-align: right;\n",
       "    }\n",
       "</style>\n",
       "<table border=\"1\" class=\"dataframe\">\n",
       "  <thead>\n",
       "    <tr style=\"text-align: right;\">\n",
       "      <th></th>\n",
       "      <th>CO_IES</th>\n",
       "      <th>Instituicao</th>\n",
       "      <th>Sigla</th>\n",
       "      <th>CO_CURSO</th>\n",
       "      <th>NO_CURSO</th>\n",
       "      <th>Municipio</th>\n",
       "      <th>UF</th>\n",
       "      <th>TP_SEXO</th>\n",
       "      <th>NU_IDADE</th>\n",
       "      <th>QE_I01</th>\n",
       "      <th>...</th>\n",
       "      <th>QE_I18</th>\n",
       "      <th>QE_I19</th>\n",
       "      <th>QE_I20</th>\n",
       "      <th>QE_I21</th>\n",
       "      <th>QE_I22</th>\n",
       "      <th>QE_I23</th>\n",
       "      <th>QE_I24</th>\n",
       "      <th>QE_I25</th>\n",
       "      <th>QE_I26</th>\n",
       "      <th>NT_GER</th>\n",
       "    </tr>\n",
       "  </thead>\n",
       "  <tbody>\n",
       "    <tr>\n",
       "      <td>0</td>\n",
       "      <td>583</td>\n",
       "      <td>UNIVERSIDADE FEDERAL DO CEARÁ (UFC)</td>\n",
       "      <td>UFC</td>\n",
       "      <td>13980</td>\n",
       "      <td>CIÊNCIA DA COMPUTAÇÃO</td>\n",
       "      <td>Fortaleza</td>\n",
       "      <td>CE</td>\n",
       "      <td>M</td>\n",
       "      <td>29</td>\n",
       "      <td>C</td>\n",
       "      <td>...</td>\n",
       "      <td>A</td>\n",
       "      <td>A</td>\n",
       "      <td>B</td>\n",
       "      <td>B</td>\n",
       "      <td>A</td>\n",
       "      <td>23</td>\n",
       "      <td>B</td>\n",
       "      <td>A</td>\n",
       "      <td>A</td>\n",
       "      <td>49.0</td>\n",
       "    </tr>\n",
       "    <tr>\n",
       "      <td>1</td>\n",
       "      <td>583</td>\n",
       "      <td>UNIVERSIDADE FEDERAL DO CEARÁ (UFC)</td>\n",
       "      <td>UFC</td>\n",
       "      <td>13980</td>\n",
       "      <td>CIÊNCIA DA COMPUTAÇÃO</td>\n",
       "      <td>Fortaleza</td>\n",
       "      <td>CE</td>\n",
       "      <td>M</td>\n",
       "      <td>21</td>\n",
       "      <td>B</td>\n",
       "      <td>...</td>\n",
       "      <td>A</td>\n",
       "      <td>A</td>\n",
       "      <td>B</td>\n",
       "      <td>A</td>\n",
       "      <td>A</td>\n",
       "      <td>23</td>\n",
       "      <td>B</td>\n",
       "      <td>A</td>\n",
       "      <td>B</td>\n",
       "      <td>78.0</td>\n",
       "    </tr>\n",
       "    <tr>\n",
       "      <td>2</td>\n",
       "      <td>583</td>\n",
       "      <td>UNIVERSIDADE FEDERAL DO CEARÁ (UFC)</td>\n",
       "      <td>UFC</td>\n",
       "      <td>13980</td>\n",
       "      <td>CIÊNCIA DA COMPUTAÇÃO</td>\n",
       "      <td>Fortaleza</td>\n",
       "      <td>CE</td>\n",
       "      <td>M</td>\n",
       "      <td>26</td>\n",
       "      <td>D</td>\n",
       "      <td>...</td>\n",
       "      <td>A</td>\n",
       "      <td>A</td>\n",
       "      <td>B</td>\n",
       "      <td>A</td>\n",
       "      <td>A</td>\n",
       "      <td>23</td>\n",
       "      <td>B</td>\n",
       "      <td>A</td>\n",
       "      <td>A</td>\n",
       "      <td>67.0</td>\n",
       "    </tr>\n",
       "    <tr>\n",
       "      <td>3</td>\n",
       "      <td>583</td>\n",
       "      <td>UNIVERSIDADE FEDERAL DO CEARÁ (UFC)</td>\n",
       "      <td>UFC</td>\n",
       "      <td>13980</td>\n",
       "      <td>CIÊNCIA DA COMPUTAÇÃO</td>\n",
       "      <td>Fortaleza</td>\n",
       "      <td>CE</td>\n",
       "      <td>M</td>\n",
       "      <td>22</td>\n",
       "      <td>C</td>\n",
       "      <td>...</td>\n",
       "      <td>A</td>\n",
       "      <td>A</td>\n",
       "      <td>B</td>\n",
       "      <td>A</td>\n",
       "      <td>A</td>\n",
       "      <td>23</td>\n",
       "      <td>B</td>\n",
       "      <td>A</td>\n",
       "      <td>A</td>\n",
       "      <td>58.0</td>\n",
       "    </tr>\n",
       "    <tr>\n",
       "      <td>4</td>\n",
       "      <td>583</td>\n",
       "      <td>UNIVERSIDADE FEDERAL DO CEARÁ (UFC)</td>\n",
       "      <td>UFC</td>\n",
       "      <td>13980</td>\n",
       "      <td>CIÊNCIA DA COMPUTAÇÃO</td>\n",
       "      <td>Fortaleza</td>\n",
       "      <td>CE</td>\n",
       "      <td>M</td>\n",
       "      <td>25</td>\n",
       "      <td>C</td>\n",
       "      <td>...</td>\n",
       "      <td>A</td>\n",
       "      <td>A</td>\n",
       "      <td>B</td>\n",
       "      <td>B</td>\n",
       "      <td>A</td>\n",
       "      <td>23</td>\n",
       "      <td>B</td>\n",
       "      <td>A</td>\n",
       "      <td>B</td>\n",
       "      <td>54.0</td>\n",
       "    </tr>\n",
       "  </tbody>\n",
       "</table>\n",
       "<p>5 rows × 34 columns</p>\n",
       "</div>"
      ],
      "text/plain": [
       "   CO_IES                          Instituicao Sigla  CO_CURSO  \\\n",
       "0     583  UNIVERSIDADE FEDERAL DO CEARÁ (UFC)   UFC     13980   \n",
       "1     583  UNIVERSIDADE FEDERAL DO CEARÁ (UFC)   UFC     13980   \n",
       "2     583  UNIVERSIDADE FEDERAL DO CEARÁ (UFC)   UFC     13980   \n",
       "3     583  UNIVERSIDADE FEDERAL DO CEARÁ (UFC)   UFC     13980   \n",
       "4     583  UNIVERSIDADE FEDERAL DO CEARÁ (UFC)   UFC     13980   \n",
       "\n",
       "                NO_CURSO  Municipio  UF TP_SEXO  NU_IDADE QE_I01  ... QE_I18  \\\n",
       "0  CIÊNCIA DA COMPUTAÇÃO  Fortaleza  CE       M        29      C  ...      A   \n",
       "1  CIÊNCIA DA COMPUTAÇÃO  Fortaleza  CE       M        21      B  ...      A   \n",
       "2  CIÊNCIA DA COMPUTAÇÃO  Fortaleza  CE       M        26      D  ...      A   \n",
       "3  CIÊNCIA DA COMPUTAÇÃO  Fortaleza  CE       M        22      C  ...      A   \n",
       "4  CIÊNCIA DA COMPUTAÇÃO  Fortaleza  CE       M        25      C  ...      A   \n",
       "\n",
       "  QE_I19 QE_I20 QE_I21 QE_I22 QE_I23 QE_I24 QE_I25 QE_I26 NT_GER  \n",
       "0      A      B      B      A     23      B      A      A   49.0  \n",
       "1      A      B      A      A     23      B      A      B   78.0  \n",
       "2      A      B      A      A     23      B      A      A   67.0  \n",
       "3      A      B      A      A     23      B      A      A   58.0  \n",
       "4      A      B      B      A     23      B      A      B   54.0  \n",
       "\n",
       "[5 rows x 34 columns]"
      ]
     },
     "execution_count": 650,
     "metadata": {},
     "output_type": "execute_result"
    }
   ],
   "source": [
    "# Exibindo o cabeçalho do dataframe\n",
    "df.head()"
   ]
  },
  {
   "cell_type": "code",
   "execution_count": 651,
   "metadata": {},
   "outputs": [
    {
     "name": "stdout",
     "output_type": "stream",
     "text": [
      "O dataframe é composto por 39 linhas e 34 colunas\n"
     ]
    }
   ],
   "source": [
    "# Tamanho do dataframe\n",
    "print('O dataframe é composto por', df.shape[0], 'linhas e', df.shape[1], 'colunas')"
   ]
  },
  {
   "cell_type": "code",
   "execution_count": 652,
   "metadata": {},
   "outputs": [
    {
     "name": "stdout",
     "output_type": "stream",
     "text": [
      "<class 'pandas.core.frame.DataFrame'>\n",
      "RangeIndex: 39 entries, 0 to 38\n",
      "Data columns (total 34 columns):\n",
      "CO_IES         39 non-null int64\n",
      "Instituicao    39 non-null object\n",
      "Sigla          39 non-null object\n",
      "CO_CURSO       39 non-null int64\n",
      "NO_CURSO       39 non-null object\n",
      "Municipio      39 non-null object\n",
      "UF             39 non-null object\n",
      "TP_SEXO        39 non-null object\n",
      "NU_IDADE       39 non-null int64\n",
      "QE_I01         39 non-null object\n",
      "QE_I02         39 non-null object\n",
      "QE_I04         39 non-null object\n",
      "QE_I05         39 non-null object\n",
      "QE_I06         39 non-null object\n",
      "QE_I07         39 non-null object\n",
      "QE_I08         39 non-null object\n",
      "QE_I09         39 non-null object\n",
      "QE_I10         39 non-null object\n",
      "QE_I11         39 non-null object\n",
      "QE_I12         39 non-null object\n",
      "QE_I13         39 non-null object\n",
      "QE_I14         39 non-null object\n",
      "QE_I15         39 non-null object\n",
      "QE_I17         39 non-null object\n",
      "QE_I18         39 non-null object\n",
      "QE_I19         39 non-null object\n",
      "QE_I20         39 non-null object\n",
      "QE_I21         39 non-null object\n",
      "QE_I22         39 non-null object\n",
      "QE_I23         39 non-null int64\n",
      "QE_I24         39 non-null object\n",
      "QE_I25         39 non-null object\n",
      "QE_I26         39 non-null object\n",
      "NT_GER         39 non-null float64\n",
      "dtypes: float64(1), int64(4), object(29)\n",
      "memory usage: 10.5+ KB\n"
     ]
    }
   ],
   "source": [
    "# Exibindo as informações do dataframe\n",
    "df.info()"
   ]
  },
  {
   "cell_type": "code",
   "execution_count": 653,
   "metadata": {},
   "outputs": [
    {
     "data": {
      "text/html": [
       "<div>\n",
       "<style scoped>\n",
       "    .dataframe tbody tr th:only-of-type {\n",
       "        vertical-align: middle;\n",
       "    }\n",
       "\n",
       "    .dataframe tbody tr th {\n",
       "        vertical-align: top;\n",
       "    }\n",
       "\n",
       "    .dataframe thead th {\n",
       "        text-align: right;\n",
       "    }\n",
       "</style>\n",
       "<table border=\"1\" class=\"dataframe\">\n",
       "  <thead>\n",
       "    <tr style=\"text-align: right;\">\n",
       "      <th></th>\n",
       "      <th>count</th>\n",
       "      <th>mean</th>\n",
       "      <th>std</th>\n",
       "      <th>min</th>\n",
       "      <th>25%</th>\n",
       "      <th>50%</th>\n",
       "      <th>75%</th>\n",
       "      <th>max</th>\n",
       "    </tr>\n",
       "  </thead>\n",
       "  <tbody>\n",
       "    <tr>\n",
       "      <td>NU_IDADE</td>\n",
       "      <td>39</td>\n",
       "      <td>24</td>\n",
       "      <td>2</td>\n",
       "      <td>21</td>\n",
       "      <td>22</td>\n",
       "      <td>23</td>\n",
       "      <td>26</td>\n",
       "      <td>30</td>\n",
       "    </tr>\n",
       "    <tr>\n",
       "      <td>QE_I23</td>\n",
       "      <td>39</td>\n",
       "      <td>23</td>\n",
       "      <td>0</td>\n",
       "      <td>21</td>\n",
       "      <td>23</td>\n",
       "      <td>23</td>\n",
       "      <td>23</td>\n",
       "      <td>23</td>\n",
       "    </tr>\n",
       "    <tr>\n",
       "      <td>NT_GER</td>\n",
       "      <td>39</td>\n",
       "      <td>57</td>\n",
       "      <td>14</td>\n",
       "      <td>19</td>\n",
       "      <td>50</td>\n",
       "      <td>59</td>\n",
       "      <td>68</td>\n",
       "      <td>78</td>\n",
       "    </tr>\n",
       "  </tbody>\n",
       "</table>\n",
       "</div>"
      ],
      "text/plain": [
       "         count mean std min 25% 50% 75% max\n",
       "NU_IDADE    39   24   2  21  22  23  26  30\n",
       "QE_I23      39   23   0  21  23  23  23  23\n",
       "NT_GER      39   57  14  19  50  59  68  78"
      ]
     },
     "execution_count": 653,
     "metadata": {},
     "output_type": "execute_result"
    }
   ],
   "source": [
    "# Descrevendo as variáveis numéricas\n",
    "desc_int = df.drop(['CO_IES', 'CO_CURSO'], axis=1).describe(include=[np.number])\n",
    "desc_int.loc['count'] = desc_int.loc['count'].astype(int).astype(str)\n",
    "desc_int.iloc[1:] = desc_int.iloc[1:].applymap('{:.0f}'.format)\n",
    "desc_int.T"
   ]
  },
  {
   "cell_type": "code",
   "execution_count": 654,
   "metadata": {},
   "outputs": [
    {
     "data": {
      "text/html": [
       "<div>\n",
       "<style scoped>\n",
       "    .dataframe tbody tr th:only-of-type {\n",
       "        vertical-align: middle;\n",
       "    }\n",
       "\n",
       "    .dataframe tbody tr th {\n",
       "        vertical-align: top;\n",
       "    }\n",
       "\n",
       "    .dataframe thead th {\n",
       "        text-align: right;\n",
       "    }\n",
       "</style>\n",
       "<table border=\"1\" class=\"dataframe\">\n",
       "  <thead>\n",
       "    <tr style=\"text-align: right;\">\n",
       "      <th></th>\n",
       "      <th>count</th>\n",
       "      <th>unique</th>\n",
       "      <th>top</th>\n",
       "      <th>freq</th>\n",
       "    </tr>\n",
       "  </thead>\n",
       "  <tbody>\n",
       "    <tr>\n",
       "      <td>TP_SEXO</td>\n",
       "      <td>39</td>\n",
       "      <td>2</td>\n",
       "      <td>M</td>\n",
       "      <td>35</td>\n",
       "    </tr>\n",
       "    <tr>\n",
       "      <td>QE_I01</td>\n",
       "      <td>39</td>\n",
       "      <td>4</td>\n",
       "      <td>C</td>\n",
       "      <td>23</td>\n",
       "    </tr>\n",
       "    <tr>\n",
       "      <td>QE_I02</td>\n",
       "      <td>39</td>\n",
       "      <td>5</td>\n",
       "      <td>B</td>\n",
       "      <td>26</td>\n",
       "    </tr>\n",
       "    <tr>\n",
       "      <td>QE_I04</td>\n",
       "      <td>39</td>\n",
       "      <td>5</td>\n",
       "      <td>B</td>\n",
       "      <td>17</td>\n",
       "    </tr>\n",
       "    <tr>\n",
       "      <td>QE_I05</td>\n",
       "      <td>39</td>\n",
       "      <td>5</td>\n",
       "      <td>B</td>\n",
       "      <td>10</td>\n",
       "    </tr>\n",
       "    <tr>\n",
       "      <td>QE_I06</td>\n",
       "      <td>39</td>\n",
       "      <td>3</td>\n",
       "      <td>D</td>\n",
       "      <td>29</td>\n",
       "    </tr>\n",
       "    <tr>\n",
       "      <td>QE_I07</td>\n",
       "      <td>39</td>\n",
       "      <td>4</td>\n",
       "      <td>D</td>\n",
       "      <td>16</td>\n",
       "    </tr>\n",
       "    <tr>\n",
       "      <td>QE_I08</td>\n",
       "      <td>39</td>\n",
       "      <td>2</td>\n",
       "      <td>A</td>\n",
       "      <td>38</td>\n",
       "    </tr>\n",
       "    <tr>\n",
       "      <td>QE_I09</td>\n",
       "      <td>39</td>\n",
       "      <td>4</td>\n",
       "      <td>D</td>\n",
       "      <td>19</td>\n",
       "    </tr>\n",
       "    <tr>\n",
       "      <td>QE_I10</td>\n",
       "      <td>39</td>\n",
       "      <td>1</td>\n",
       "      <td>A</td>\n",
       "      <td>39</td>\n",
       "    </tr>\n",
       "    <tr>\n",
       "      <td>QE_I11</td>\n",
       "      <td>39</td>\n",
       "      <td>6</td>\n",
       "      <td>D</td>\n",
       "      <td>16</td>\n",
       "    </tr>\n",
       "    <tr>\n",
       "      <td>QE_I12</td>\n",
       "      <td>39</td>\n",
       "      <td>5</td>\n",
       "      <td>D</td>\n",
       "      <td>15</td>\n",
       "    </tr>\n",
       "    <tr>\n",
       "      <td>QE_I13</td>\n",
       "      <td>39</td>\n",
       "      <td>3</td>\n",
       "      <td>B</td>\n",
       "      <td>35</td>\n",
       "    </tr>\n",
       "    <tr>\n",
       "      <td>QE_I14</td>\n",
       "      <td>39</td>\n",
       "      <td>6</td>\n",
       "      <td>D</td>\n",
       "      <td>15</td>\n",
       "    </tr>\n",
       "    <tr>\n",
       "      <td>QE_I15</td>\n",
       "      <td>39</td>\n",
       "      <td>6</td>\n",
       "      <td>B</td>\n",
       "      <td>10</td>\n",
       "    </tr>\n",
       "    <tr>\n",
       "      <td>QE_I17</td>\n",
       "      <td>39</td>\n",
       "      <td>5</td>\n",
       "      <td>A</td>\n",
       "      <td>22</td>\n",
       "    </tr>\n",
       "    <tr>\n",
       "      <td>QE_I18</td>\n",
       "      <td>39</td>\n",
       "      <td>4</td>\n",
       "      <td>A</td>\n",
       "      <td>35</td>\n",
       "    </tr>\n",
       "    <tr>\n",
       "      <td>QE_I19</td>\n",
       "      <td>39</td>\n",
       "      <td>1</td>\n",
       "      <td>A</td>\n",
       "      <td>39</td>\n",
       "    </tr>\n",
       "    <tr>\n",
       "      <td>QE_I20</td>\n",
       "      <td>39</td>\n",
       "      <td>6</td>\n",
       "      <td>B</td>\n",
       "      <td>16</td>\n",
       "    </tr>\n",
       "    <tr>\n",
       "      <td>QE_I21</td>\n",
       "      <td>39</td>\n",
       "      <td>2</td>\n",
       "      <td>A</td>\n",
       "      <td>30</td>\n",
       "    </tr>\n",
       "    <tr>\n",
       "      <td>QE_I22</td>\n",
       "      <td>39</td>\n",
       "      <td>5</td>\n",
       "      <td>A</td>\n",
       "      <td>33</td>\n",
       "    </tr>\n",
       "    <tr>\n",
       "      <td>QE_I24</td>\n",
       "      <td>39</td>\n",
       "      <td>3</td>\n",
       "      <td>B</td>\n",
       "      <td>29</td>\n",
       "    </tr>\n",
       "    <tr>\n",
       "      <td>QE_I25</td>\n",
       "      <td>39</td>\n",
       "      <td>2</td>\n",
       "      <td>A</td>\n",
       "      <td>35</td>\n",
       "    </tr>\n",
       "    <tr>\n",
       "      <td>QE_I26</td>\n",
       "      <td>39</td>\n",
       "      <td>4</td>\n",
       "      <td>B</td>\n",
       "      <td>28</td>\n",
       "    </tr>\n",
       "  </tbody>\n",
       "</table>\n",
       "</div>"
      ],
      "text/plain": [
       "        count unique top freq\n",
       "TP_SEXO    39      2   M   35\n",
       "QE_I01     39      4   C   23\n",
       "QE_I02     39      5   B   26\n",
       "QE_I04     39      5   B   17\n",
       "QE_I05     39      5   B   10\n",
       "QE_I06     39      3   D   29\n",
       "QE_I07     39      4   D   16\n",
       "QE_I08     39      2   A   38\n",
       "QE_I09     39      4   D   19\n",
       "QE_I10     39      1   A   39\n",
       "QE_I11     39      6   D   16\n",
       "QE_I12     39      5   D   15\n",
       "QE_I13     39      3   B   35\n",
       "QE_I14     39      6   D   15\n",
       "QE_I15     39      6   B   10\n",
       "QE_I17     39      5   A   22\n",
       "QE_I18     39      4   A   35\n",
       "QE_I19     39      1   A   39\n",
       "QE_I20     39      6   B   16\n",
       "QE_I21     39      2   A   30\n",
       "QE_I22     39      5   A   33\n",
       "QE_I24     39      3   B   29\n",
       "QE_I25     39      2   A   35\n",
       "QE_I26     39      4   B   28"
      ]
     },
     "execution_count": 654,
     "metadata": {},
     "output_type": "execute_result"
    }
   ],
   "source": [
    "# Descrevendo as variáveis categóricas\n",
    "cat_obj = df.drop(['Instituicao', 'Sigla', 'Municipio', 'UF', 'NO_CURSO'], axis=1).describe(include=[np.object])\n",
    "cat_obj.T"
   ]
  },
  {
   "cell_type": "markdown",
   "metadata": {},
   "source": [
    "### Pré-processessamento dos dados"
   ]
  },
  {
   "cell_type": "code",
   "execution_count": 655,
   "metadata": {},
   "outputs": [],
   "source": [
    "#### Selecionando as variáveis que serão utilizadas\n",
    "df = df[['TP_SEXO', 'NU_IDADE', 'QE_I01', 'QE_I02', 'QE_I04', 'QE_I05',\n",
    "       'QE_I06', 'QE_I07', 'QE_I08', 'QE_I09', 'QE_I10', 'QE_I11', 'QE_I12',\n",
    "       'QE_I13', 'QE_I14', 'QE_I15', 'QE_I17', 'QE_I18', 'QE_I19', 'QE_I20',\n",
    "       'QE_I21', 'QE_I22', 'QE_I23', 'QE_I24', 'QE_I25', 'QE_I26','NT_GER']]"
   ]
  },
  {
   "cell_type": "markdown",
   "metadata": {},
   "source": [
    "#### Convertendo recursos categóricos\n",
    "\n",
    "A biblioteca do scikit trabalha exclusivamente com atributos numéricos. Logo, é necessário transformar os campos categóricos em variáveis dummy (a variável dummy é uma variável categegórica transformada em numérica). Caso contrário, nosso algoritmo não aceitará esses atributos diretamente como entradas."
   ]
  },
  {
   "cell_type": "code",
   "execution_count": 656,
   "metadata": {},
   "outputs": [
    {
     "data": {
      "text/plain": [
       "Index(['TP_SEXO', 'QE_I01', 'QE_I02', 'QE_I04', 'QE_I05', 'QE_I06', 'QE_I07',\n",
       "       'QE_I08', 'QE_I09', 'QE_I10', 'QE_I11', 'QE_I12', 'QE_I13', 'QE_I14',\n",
       "       'QE_I15', 'QE_I17', 'QE_I18', 'QE_I19', 'QE_I20', 'QE_I21', 'QE_I22',\n",
       "       'QE_I24', 'QE_I25', 'QE_I26'],\n",
       "      dtype='object')"
      ]
     },
     "execution_count": 656,
     "metadata": {},
     "output_type": "execute_result"
    }
   ],
   "source": [
    "# Listando as colunas com variáveis categóricas\n",
    "df.dtypes[df.dtypes == \"object\"].index"
   ]
  },
  {
   "cell_type": "code",
   "execution_count": 657,
   "metadata": {},
   "outputs": [],
   "source": [
    "# Variáveis categóricas que serão utilizadas como preditores\n",
    "categoricas_df = pd.get_dummies(df[['TP_SEXO', 'QE_I01', 'QE_I02', 'QE_I04', 'QE_I05', 'QE_I06', 'QE_I07',\n",
    "                                    'QE_I08', 'QE_I09', 'QE_I10', 'QE_I11', 'QE_I12', 'QE_I13', 'QE_I14',\n",
    "                                    'QE_I15', 'QE_I17', 'QE_I18', 'QE_I19', 'QE_I20', 'QE_I21', 'QE_I22',\n",
    "                                    'QE_I24', 'QE_I25', 'QE_I26']], drop_first=True)"
   ]
  },
  {
   "cell_type": "code",
   "execution_count": 658,
   "metadata": {},
   "outputs": [],
   "source": [
    "# Criando o dataset de treino após o pré-processamento\n",
    "# Removendo os atributos numéricos do dataset\n",
    "temp = df.drop(['TP_SEXO', 'QE_I01', 'QE_I02', 'QE_I04', 'QE_I05', 'QE_I06', 'QE_I07',\n",
    "                                    'QE_I08', 'QE_I09', 'QE_I10', 'QE_I11', 'QE_I12', 'QE_I13', 'QE_I14',\n",
    "                                    'QE_I15', 'QE_I17', 'QE_I18', 'QE_I19', 'QE_I20', 'QE_I21', 'QE_I22',\n",
    "                                    'QE_I24', 'QE_I25', 'QE_I26'], axis=1)\n",
    "# Criando novo dataset com as variáveis numéricas e as variáveis dummy\n",
    "df = pd.concat([temp,categoricas_df],axis=1)"
   ]
  },
  {
   "cell_type": "markdown",
   "metadata": {},
   "source": [
    "## Treinando um modelo de regressão linear\n",
    "\n",
    "Vamos agora começar a treinar o modelo de regressão. Precisamos primeiro dividir nossos dados em uma matriz X que contém os recursos para treinar, e uma matriz y com a variável alvo, neste caso, a coluna NT_GER (Nota Geral no ENADE 2017). "
   ]
  },
  {
   "cell_type": "code",
   "execution_count": 659,
   "metadata": {},
   "outputs": [],
   "source": [
    "# Separando as variáveis preditoras e alvo\n",
    "# Variáveis preditoras\n",
    "X = df.drop(['NT_GER'], axis=1)\n",
    "# Variável alvo\n",
    "y = df['NT_GER']"
   ]
  },
  {
   "cell_type": "markdown",
   "metadata": {},
   "source": [
    "#### Split de treino/teste\n",
    "\n",
    "Agora vamos dividir os dados em um conjunto de treinamento e um conjunto de testes. Vamos criar o modelo usando o conjunto de treinamento e depois usar o conjunto de testes para avaliar o modelo."
   ]
  },
  {
   "cell_type": "code",
   "execution_count": 660,
   "metadata": {},
   "outputs": [],
   "source": [
    "from sklearn.model_selection import train_test_split"
   ]
  },
  {
   "cell_type": "code",
   "execution_count": 661,
   "metadata": {},
   "outputs": [],
   "source": [
    "X_train, X_test, y_train, y_test = train_test_split(X, y, test_size=0.4, random_state=1001)"
   ]
  },
  {
   "cell_type": "markdown",
   "metadata": {},
   "source": [
    "#### Criando e treinando o modelo"
   ]
  },
  {
   "cell_type": "code",
   "execution_count": 662,
   "metadata": {},
   "outputs": [],
   "source": [
    "from sklearn.linear_model import LinearRegression"
   ]
  },
  {
   "cell_type": "code",
   "execution_count": 663,
   "metadata": {},
   "outputs": [],
   "source": [
    "lm = LinearRegression()"
   ]
  },
  {
   "cell_type": "code",
   "execution_count": 664,
   "metadata": {},
   "outputs": [
    {
     "data": {
      "text/plain": [
       "LinearRegression(copy_X=True, fit_intercept=True, n_jobs=None, normalize=False)"
      ]
     },
     "execution_count": 664,
     "metadata": {},
     "output_type": "execute_result"
    }
   ],
   "source": [
    "lm.fit(X_train,y_train)"
   ]
  },
  {
   "cell_type": "markdown",
   "metadata": {},
   "source": [
    "#### Avaliação do modelo"
   ]
  },
  {
   "cell_type": "code",
   "execution_count": 665,
   "metadata": {},
   "outputs": [
    {
     "name": "stdout",
     "output_type": "stream",
     "text": [
      "30.513507513790355\n"
     ]
    }
   ],
   "source": [
    "# Exibindo a intercepção\n",
    "print(lm.intercept_)"
   ]
  },
  {
   "cell_type": "code",
   "execution_count": 666,
   "metadata": {},
   "outputs": [
    {
     "data": {
      "text/html": [
       "<div>\n",
       "<style scoped>\n",
       "    .dataframe tbody tr th:only-of-type {\n",
       "        vertical-align: middle;\n",
       "    }\n",
       "\n",
       "    .dataframe tbody tr th {\n",
       "        vertical-align: top;\n",
       "    }\n",
       "\n",
       "    .dataframe thead th {\n",
       "        text-align: right;\n",
       "    }\n",
       "</style>\n",
       "<table border=\"1\" class=\"dataframe\">\n",
       "  <thead>\n",
       "    <tr style=\"text-align: right;\">\n",
       "      <th></th>\n",
       "      <th>Coefficient</th>\n",
       "    </tr>\n",
       "  </thead>\n",
       "  <tbody>\n",
       "    <tr>\n",
       "      <td>NU_IDADE</td>\n",
       "      <td>-2.391775</td>\n",
       "    </tr>\n",
       "    <tr>\n",
       "      <td>QE_I23</td>\n",
       "      <td>3.845842</td>\n",
       "    </tr>\n",
       "    <tr>\n",
       "      <td>TP_SEXO_M</td>\n",
       "      <td>0.654298</td>\n",
       "    </tr>\n",
       "    <tr>\n",
       "      <td>QE_I01_B</td>\n",
       "      <td>0.356016</td>\n",
       "    </tr>\n",
       "    <tr>\n",
       "      <td>QE_I01_C</td>\n",
       "      <td>2.722306</td>\n",
       "    </tr>\n",
       "    <tr>\n",
       "      <td>QE_I01_D</td>\n",
       "      <td>-3.667542</td>\n",
       "    </tr>\n",
       "    <tr>\n",
       "      <td>QE_I02_B</td>\n",
       "      <td>1.136768</td>\n",
       "    </tr>\n",
       "    <tr>\n",
       "      <td>QE_I02_C</td>\n",
       "      <td>-1.537507</td>\n",
       "    </tr>\n",
       "    <tr>\n",
       "      <td>QE_I02_D</td>\n",
       "      <td>-2.932185</td>\n",
       "    </tr>\n",
       "    <tr>\n",
       "      <td>QE_I02_E</td>\n",
       "      <td>0.438459</td>\n",
       "    </tr>\n",
       "  </tbody>\n",
       "</table>\n",
       "</div>"
      ],
      "text/plain": [
       "           Coefficient\n",
       "NU_IDADE     -2.391775\n",
       "QE_I23        3.845842\n",
       "TP_SEXO_M     0.654298\n",
       "QE_I01_B      0.356016\n",
       "QE_I01_C      2.722306\n",
       "QE_I01_D     -3.667542\n",
       "QE_I02_B      1.136768\n",
       "QE_I02_C     -1.537507\n",
       "QE_I02_D     -2.932185\n",
       "QE_I02_E      0.438459"
      ]
     },
     "execution_count": 666,
     "metadata": {},
     "output_type": "execute_result"
    }
   ],
   "source": [
    "# Exibindo os coeficientes\n",
    "coeff_df = pd.DataFrame(lm.coef_,X.columns,columns=['Coefficient'])\n",
    "# 10 primeiros coeficientes\n",
    "coeff_df.head(10)"
   ]
  },
  {
   "cell_type": "markdown",
   "metadata": {},
   "source": [
    "#### Predições do modelo"
   ]
  },
  {
   "cell_type": "code",
   "execution_count": 667,
   "metadata": {},
   "outputs": [],
   "source": [
    "predictions = lm.predict(X_test)"
   ]
  },
  {
   "cell_type": "markdown",
   "metadata": {},
   "source": [
    "#### Metricas de avaliação da regressão"
   ]
  },
  {
   "cell_type": "code",
   "execution_count": 668,
   "metadata": {},
   "outputs": [
    {
     "name": "stdout",
     "output_type": "stream",
     "text": [
      "RMSE: 18.62654597961842\n"
     ]
    }
   ],
   "source": [
    "# Computando o RMSE (Root Mean Square Error)\n",
    "print('RMSE:', np.sqrt(metrics.mean_squared_error(y_test, predictions)))"
   ]
  },
  {
   "cell_type": "code",
   "execution_count": 669,
   "metadata": {},
   "outputs": [
    {
     "name": "stdout",
     "output_type": "stream",
     "text": [
      "R²: -0.7288319819658358\n"
     ]
    }
   ],
   "source": [
    "# Coeficiente de determinação (R²)\n",
    "print('R²:', metrics.r2_score(y_test, predictions))"
   ]
  },
  {
   "cell_type": "markdown",
   "metadata": {},
   "source": [
    "#### Visualizações"
   ]
  },
  {
   "cell_type": "code",
   "execution_count": 670,
   "metadata": {},
   "outputs": [
    {
     "data": {
      "image/png": "[encoded data removed]",
      "text/plain": [
       "<Figure size 432x432 with 1 Axes>"
      ]
     },
     "metadata": {
      "needs_background": "light"
     },
     "output_type": "display_data"
    }
   ],
   "source": [
    "fig, ax = plt.subplots(figsize=(6, 6))\n",
    "\n",
    "ax.scatter(y_test, predictions)\n",
    "ax.plot([0, 100], [0, 100], '--k', c='gray')\n",
    "ax.set_ylabel('Nota Predita')\n",
    "ax.set_xlabel('Nota Real')\n",
    "ax.set_title('Regressão Linear')\n",
    "ax.text(10, 80, r'$R^2$=%.4f, RMSE=%.4f' % (\n",
    "    metrics.r2_score(y_test, predictions), np.sqrt(metrics.mean_squared_error(y_test, predictions))))\n",
    "ax.set_xlim([0, 100])\n",
    "ax.set_ylim([0, 100])\n",
    "\n",
    "plt.show()"
   ]
  },
  {
   "cell_type": "code",
   "execution_count": 671,
   "metadata": {},
   "outputs": [
    {
     "data": {
      "image/png": "[encoded data removed]",
      "text/plain": [
       "<Figure size 432x432 with 1 Axes>"
      ]
     },
     "metadata": {
      "needs_background": "light"
     },
     "output_type": "display_data"
    }
   ],
   "source": [
    "### Histograma residual\n",
    "fig, ax = plt.subplots(figsize=(6, 6))\n",
    "sns.distplot((y_test - predictions))\n",
    "ax.set_title('Histograma residual')\n",
    "ax.set_xlabel('Notas')\n",
    "plt.show()"
   ]
  },
  {
   "cell_type": "code",
   "execution_count": null,
   "metadata": {},
   "outputs": [],
   "source": []
  }
 ],
 "metadata": {
  "kernelspec": {
   "display_name": "Python 3",
   "language": "python",
   "name": "python3"
  },
  "language_info": {
   "codemirror_mode": {
    "name": "ipython",
    "version": 3
   },
   "file_extension": ".py",
   "mimetype": "text/x-python",
   "name": "python",
   "nbconvert_exporter": "python",
   "pygments_lexer": "ipython3",
   "version": "3.7.4"
  }
 },
 "nbformat": 4,
 "nbformat_minor": 2
}
